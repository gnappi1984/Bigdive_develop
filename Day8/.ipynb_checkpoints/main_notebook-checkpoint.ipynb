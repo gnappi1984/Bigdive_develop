{
 "cells": [
  {
   "cell_type": "markdown",
   "metadata": {},
   "source": [
    "<p style='text-align: right;'> Jacopo Rossini, MOXOFF S.p.A.</p>"
   ]
  },
  {
   "cell_type": "markdown",
   "metadata": {},
   "source": [
    "# Moxoff Case Study\n",
    "\n",
    "## Task: Credit scoring\n",
    "\n",
    "### Obiettivo:\n",
    "\n",
    "Fornire una stima dell'affidabilità di un cliente nel momento in cui richiede un prestito. Questo si potrebbe formulare, ad esempio, come un problema di stima della probabilità che esso non ripaghi adeguatamente il debito.\n",
    "\n",
    "In questo caso specifico, ci concentreremo sul credito al consumo al fine di acquistare un automobile, sia essa nuova od usata.\n",
    "\n",
    "### Inquadriamo il problema:\n",
    "\n",
    "* __Apprendimento supervisionato__: Abbiamo un dataset del passato con cui crearci degli esempi da cui imparare.\n",
    "* __Classificazione__: Siamo interessati a una misura di affidabilità, uno scoring, una probabilità. Vogliamo dividere i nostri casi in buoni o cattivi, non siamo interessati a capire al momento quando smetteranno di pagare, quanto non pagheranno o a qualsiasi quantificazione più fine della qualità dei pagamenti.\n",
    "* __Definizione della risposta__: È essenziale definire la variabile risposta in modo che sia il più utile possibile all'utilizzatore finale. Definire chi è un buon pagatore e chi è un cattivo pagatore è critico per ottenere buoni risultati, ed è solito frutto di un confronto tra chi utilizzerà le previsioni e di chi crea l'impianto modellistico.\n",
    "\n",
    "\n",
    "## Dati\n",
    "\n",
    "I dati per questo problema verranno forniti già parzialmente preprocessati. \n",
    "\n",
    "Non possiamo utilizzare il tempo necessario a mostrare tutti i passi necessari a passare dal dato grezzo in un database a un dataframe in un notebook, nonostante sia la cosa che occupa gran parte del tempo di un Data Analyst. \n",
    "\n",
    "![image](img/data_scientist_time.jpg)\n",
    "<p style='text-align: right;'><small>taken from Forbes.com</small></p>\n",
    "\n",
    "Il pre-processing di questi dati non è stato caratterizzato da attività di particolare interesse, se non la definizione della variabile risposta. Non sempre siamo però in una situazione così auspicabile e uno sforzo sopratutto concettuale per comprendere i dati a disposizione spesso è più efficace di tante altre accortezze.\n",
    "\n",
    "In ambito industriale è importante confrontarsi con chi gestisce i dati per sincerarsi dei metodi con cui essi sono stati campionati, immagazzinati e analizzati fino ad ora. Questo aiuta a delineare i dovuti collegamenti tra database differenti, o a individuare sin da principio eventuali criticità.\n",
    "\n",
    "Ad esempio, un caso classico è quello in cui il Controllo Qualità di un'azienda manifatturiera salva nel database solo le informazioni dei casi difettosi nella produzione di un oggetto e non quelli non difettosi. Parte del vostro contributo come Data Analyst è anche identificare queste situazioni e sensibilizzare chi raccoglie i dati a questo genere di problemi di campionamento.\n",
    "\n",
    "### Cosa contengono i nostri dati\n",
    "\n",
    "Utilizzeremo solo i dati delle pratiche di credito accettate, in quanto quelle rifiutate non ci permettono di misurare quanto un cliente sia stato \"good\" o \"bad\". Ciò non toglie che le pratiche rifiutate possano essere usate a posteriori per capire quanti di queste l'algoritmo avrebbe indicato come potenziali cattivi pagatori.\n",
    "\n",
    "Nel dataset degli accettati troviamo:\n",
    "\n",
    "* __Informazioni sul cliente__: Alcune informazioni anagrafiche sul cliente\n",
    "* __Informazioni sulla richiesta di prestito__: Alcune informazioni sul contesto di richiesta del prestito, come la finalità, l'ammontare e la durata.\n",
    "* __Informazioni sul cliente in nostro possesso__: Alcuni indicatori riassuntivi del comportamento del cliente in passato con l'istituto di credito. Se è la prima richiesta di prestito potrebbero essere nulle.\n",
    "\n",
    "### Focus: previsione o comprensione\n",
    "\n",
    "È importante capire quale è il focus della nostra analisi. Ogni tanto ci troviamo di fronte a un fenomeno non ben compreso e il nostro scopo principale è capirne meglio il funzionamento. Altre volte ci troviamo di fronte a un problema ben conosciuto e vogliamo solo automatizzare ed efficentare i processi con l'assistenza di una macchina.\n",
    "\n",
    "Tenere presente queste preferenze è essenziale nei primi stadi dell'analisi. Buttarsi istantaneamente a prevedere in un problema sconosciuto porta nella maggior parte dei casi a tralasciare dettagli importanti, mentre esplorare eccessivamente le variabili quando siamo interessati solo a prevedere può rivelarsi un utilizzo poco oculato del tempo. In generale, il **feature engineering** è il re della capacità previsiva, non gli algoritmi, quindi la fase esplorativa anche solo col fine di cercare buone feature da creare è tempo ben speso.\n",
    "\n",
    "### Testing: dividere a monte\n",
    "\n",
    "Per saggiare la bontà del nostro modello ci affideremo spesso alla tecnica di dividere il dataset in **train** e **test**, o addirittura in train, validazione e test se dobbiamo smanettare pesantemente sugli iperparametri dell'algoritmo.\n",
    "\n",
    "Ricordatevi tassativamente di eseguire questi split **prima di qualsiasi aggregazione delle variabili!** Ad esempio, se sostituirete gli NA con il valore medio, questo deve essere fatto DOPO lo split. Come regola generale, alla prima operazione che fa parlare tra loro le righe dovete fare un passo indietro a procedere con lo split.\n",
    "\n",
    "Una nota sulla **convalida-incrociata**: come metodo di misura della bontà d'adattamento è strettamente superiore a train e test ma non sono da sottovalutare le **assunzioni** che la rendono efficace. Se stessimo, ad esempio, creando un modello che dipende fortemente dalle politiche di business dell'azienda (eg. marketing), potremmo trovarci nella situazione in cui pensiamo che le unità statistiche (eg. i clienti) siano indipendenti ma non sono identicamente distribuiti. Nel tempo il fenomeno cambia e mescolare le osservazioni da origine a misurazione dell'accuratezza più alte di quello che si ottiene nella realtà delle cose. In questo problema quindi, nonostane la **dimensione temporale** (e la sua correlazione) non fosse immediatamente evidente essa esisteva e avrebbe condizionato pesantemente le misura di accuratezza."
   ]
  },
  {
   "cell_type": "markdown",
   "metadata": {},
   "source": [
    "### Load data"
   ]
  },
  {
   "cell_type": "markdown",
   "metadata": {},
   "source": [
    "#### Imports\n",
    "\n",
    "Alcune scelte tipiche in ambito scientifico: `numpy`, `pandas`, `scipy`, `matplotlib`, `seaborn`.\n",
    "\n",
    "Analisi statistiche:\n",
    "* `statsmodels` modelli di statistica classica\n",
    "* `sklearn` libreria molto popolare di machine learning\n",
    "* `XGBoost` libreria di gradient boosting\n",
    "\n",
    "Python utilities: \n",
    "* `joblib` per la gestione dei file e molto altro\n",
    "* `os` OS utilities"
   ]
  },
  {
   "cell_type": "code",
   "execution_count": 3,
   "metadata": {},
   "outputs": [],
   "source": [
    "import joblib\n",
    "import pandas as pd\n",
    "import numpy as np\n",
    "import scipy\n",
    "import statsmodels.api as sm\n",
    "from sklearn.linear_model import LogisticRegression\n",
    "from sklearn.ensemble import RandomForestClassifier\n",
    "from sklearn.preprocessing import OneHotEncoder\n",
    "from sklearn import metrics\n",
    "from sklearn.utils.fixes import signature\n",
    "import os\n",
    "os.environ['KMP_DUPLICATE_LIB_OK']='True'\n",
    "import xgboost as xgb #0.80\n",
    "\n",
    "# matplotlib and seaborn for plotting\n",
    "import matplotlib.pyplot as plt #2.2.3\n",
    "import seaborn as sns"
   ]
  },
  {
   "cell_type": "code",
   "execution_count": 4,
   "metadata": {},
   "outputs": [],
   "source": [
    "with open(\"workshop_data_anomized.jl\",'rb') as filename:\n",
    "    data_auto = joblib.load(filename)"
   ]
  },
  {
   "cell_type": "code",
   "execution_count": 5,
   "metadata": {},
   "outputs": [
    {
     "data": {
      "text/html": [
       "<div>\n",
       "<style scoped>\n",
       "    .dataframe tbody tr th:only-of-type {\n",
       "        vertical-align: middle;\n",
       "    }\n",
       "\n",
       "    .dataframe tbody tr th {\n",
       "        vertical-align: top;\n",
       "    }\n",
       "\n",
       "    .dataframe thead th {\n",
       "        text-align: right;\n",
       "    }\n",
       "</style>\n",
       "<table border=\"1\" class=\"dataframe\">\n",
       "  <thead>\n",
       "    <tr style=\"text-align: right;\">\n",
       "      <th></th>\n",
       "      <th>c_province</th>\n",
       "      <th>c_birth_region</th>\n",
       "      <th>c_area_nielsen</th>\n",
       "      <th>c_birth_area_nielsen</th>\n",
       "      <th>c_marital_status</th>\n",
       "      <th>c_housing_type</th>\n",
       "      <th>c_monthly_pay</th>\n",
       "      <th>c_legal_type</th>\n",
       "      <th>c_gender</th>\n",
       "      <th>c_job</th>\n",
       "      <th>...</th>\n",
       "      <th>p_sale_company</th>\n",
       "      <th>p_product_price</th>\n",
       "      <th>p_loan_value</th>\n",
       "      <th>p_num_installments</th>\n",
       "      <th>p_installment_value</th>\n",
       "      <th>p_payment_mean</th>\n",
       "      <th>FLAG_GOODBAD</th>\n",
       "      <th>d_age</th>\n",
       "      <th>d_job_age</th>\n",
       "      <th>d_sale_company_province</th>\n",
       "    </tr>\n",
       "  </thead>\n",
       "  <tbody>\n",
       "    <tr>\n",
       "      <th>1</th>\n",
       "      <td>RM</td>\n",
       "      <td>Lazio</td>\n",
       "      <td>C</td>\n",
       "      <td>C</td>\n",
       "      <td>G</td>\n",
       "      <td>P</td>\n",
       "      <td>1508.0</td>\n",
       "      <td>0</td>\n",
       "      <td>M</td>\n",
       "      <td>OP</td>\n",
       "      <td>...</td>\n",
       "      <td>705</td>\n",
       "      <td>25950.0</td>\n",
       "      <td>20139.55</td>\n",
       "      <td>72</td>\n",
       "      <td>327.0</td>\n",
       "      <td>RI</td>\n",
       "      <td>G</td>\n",
       "      <td>37.482192</td>\n",
       "      <td>1.008219</td>\n",
       "      <td>RM</td>\n",
       "    </tr>\n",
       "    <tr>\n",
       "      <th>6</th>\n",
       "      <td>RM</td>\n",
       "      <td>Lazio</td>\n",
       "      <td>C</td>\n",
       "      <td>C</td>\n",
       "      <td>C</td>\n",
       "      <td>G</td>\n",
       "      <td>1380.0</td>\n",
       "      <td>0</td>\n",
       "      <td>F</td>\n",
       "      <td>IM</td>\n",
       "      <td>...</td>\n",
       "      <td>705</td>\n",
       "      <td>11000.0</td>\n",
       "      <td>5374.03</td>\n",
       "      <td>30</td>\n",
       "      <td>195.5</td>\n",
       "      <td>RI</td>\n",
       "      <td>G</td>\n",
       "      <td>36.339726</td>\n",
       "      <td>7.600000</td>\n",
       "      <td>RM</td>\n",
       "    </tr>\n",
       "    <tr>\n",
       "      <th>7</th>\n",
       "      <td>TV</td>\n",
       "      <td>Veneto</td>\n",
       "      <td>NE</td>\n",
       "      <td>NE</td>\n",
       "      <td>C</td>\n",
       "      <td>G</td>\n",
       "      <td>1186.0</td>\n",
       "      <td>0</td>\n",
       "      <td>F</td>\n",
       "      <td>IM</td>\n",
       "      <td>...</td>\n",
       "      <td>610</td>\n",
       "      <td>12350.0</td>\n",
       "      <td>6700.00</td>\n",
       "      <td>30</td>\n",
       "      <td>244.0</td>\n",
       "      <td>RI</td>\n",
       "      <td>G</td>\n",
       "      <td>27.701370</td>\n",
       "      <td>2.095890</td>\n",
       "      <td>VE</td>\n",
       "    </tr>\n",
       "    <tr>\n",
       "      <th>8</th>\n",
       "      <td>PO</td>\n",
       "      <td>Estero</td>\n",
       "      <td>C</td>\n",
       "      <td>E</td>\n",
       "      <td>C</td>\n",
       "      <td>G</td>\n",
       "      <td>1096.0</td>\n",
       "      <td>0</td>\n",
       "      <td>F</td>\n",
       "      <td>OP</td>\n",
       "      <td>...</td>\n",
       "      <td>735</td>\n",
       "      <td>17200.0</td>\n",
       "      <td>13330.37</td>\n",
       "      <td>72</td>\n",
       "      <td>233.0</td>\n",
       "      <td>RI</td>\n",
       "      <td>G</td>\n",
       "      <td>37.232877</td>\n",
       "      <td>7.032877</td>\n",
       "      <td>FI</td>\n",
       "    </tr>\n",
       "    <tr>\n",
       "      <th>13</th>\n",
       "      <td>TO</td>\n",
       "      <td>Piemonte</td>\n",
       "      <td>NW</td>\n",
       "      <td>NW</td>\n",
       "      <td>C</td>\n",
       "      <td>G</td>\n",
       "      <td>1270.0</td>\n",
       "      <td>0</td>\n",
       "      <td>M</td>\n",
       "      <td>OP</td>\n",
       "      <td>...</td>\n",
       "      <td>500</td>\n",
       "      <td>28300.0</td>\n",
       "      <td>29820.00</td>\n",
       "      <td>84</td>\n",
       "      <td>418.0</td>\n",
       "      <td>RI</td>\n",
       "      <td>G</td>\n",
       "      <td>26.046575</td>\n",
       "      <td>6.104110</td>\n",
       "      <td>TO</td>\n",
       "    </tr>\n",
       "  </tbody>\n",
       "</table>\n",
       "<p>5 rows × 25 columns</p>\n",
       "</div>"
      ],
      "text/plain": [
       "   c_province c_birth_region c_area_nielsen c_birth_area_nielsen  \\\n",
       "1          RM          Lazio              C                    C   \n",
       "6          RM          Lazio              C                    C   \n",
       "7          TV         Veneto             NE                   NE   \n",
       "8          PO         Estero              C                    E   \n",
       "13         TO       Piemonte             NW                   NW   \n",
       "\n",
       "   c_marital_status c_housing_type  c_monthly_pay  c_legal_type c_gender  \\\n",
       "1                 G              P         1508.0             0        M   \n",
       "6                 C              G         1380.0             0        F   \n",
       "7                 C              G         1186.0             0        F   \n",
       "8                 C              G         1096.0             0        F   \n",
       "13                C              G         1270.0             0        M   \n",
       "\n",
       "   c_job           ...            p_sale_company p_product_price p_loan_value  \\\n",
       "1     OP           ...                       705         25950.0     20139.55   \n",
       "6     IM           ...                       705         11000.0      5374.03   \n",
       "7     IM           ...                       610         12350.0      6700.00   \n",
       "8     OP           ...                       735         17200.0     13330.37   \n",
       "13    OP           ...                       500         28300.0     29820.00   \n",
       "\n",
       "    p_num_installments  p_installment_value  p_payment_mean  FLAG_GOODBAD  \\\n",
       "1                   72                327.0              RI             G   \n",
       "6                   30                195.5              RI             G   \n",
       "7                   30                244.0              RI             G   \n",
       "8                   72                233.0              RI             G   \n",
       "13                  84                418.0              RI             G   \n",
       "\n",
       "        d_age  d_job_age  d_sale_company_province  \n",
       "1   37.482192   1.008219                       RM  \n",
       "6   36.339726   7.600000                       RM  \n",
       "7   27.701370   2.095890                       VE  \n",
       "8   37.232877   7.032877                       FI  \n",
       "13  26.046575   6.104110                       TO  \n",
       "\n",
       "[5 rows x 25 columns]"
      ]
     },
     "execution_count": 5,
     "metadata": {},
     "output_type": "execute_result"
    }
   ],
   "source": [
    "data_auto.head()"
   ]
  },
  {
   "cell_type": "code",
   "execution_count": 6,
   "metadata": {},
   "outputs": [
    {
     "data": {
      "text/plain": [
       "(52182, 25)"
      ]
     },
     "execution_count": 6,
     "metadata": {},
     "output_type": "execute_result"
    }
   ],
   "source": [
    "data_auto.shape"
   ]
  },
  {
   "cell_type": "code",
   "execution_count": null,
   "metadata": {},
   "outputs": [],
   "source": [
    "\n"
   ]
  },
  {
   "cell_type": "code",
   "execution_count": 7,
   "metadata": {},
   "outputs": [
    {
     "data": {
      "text/plain": [
       "array(['c_province', 'c_birth_region', 'c_area_nielsen',\n",
       "       'c_birth_area_nielsen', 'c_marital_status', 'c_housing_type',\n",
       "       'c_monthly_pay', 'c_legal_type', 'c_gender', 'c_job',\n",
       "       'p_loan_type', 'p_activation_date', 'p_end_date', 'p_product',\n",
       "       'p_sale_network', 'p_sale_company', 'p_product_price',\n",
       "       'p_loan_value', 'p_num_installments', 'p_installment_value',\n",
       "       'p_payment_mean', 'FLAG_GOODBAD', 'd_age', 'd_job_age',\n",
       "       'd_sale_company_province'], dtype=object)"
      ]
     },
     "execution_count": 7,
     "metadata": {},
     "output_type": "execute_result"
    }
   ],
   "source": [
    "data_auto.columns.values"
   ]
  },
  {
   "cell_type": "markdown",
   "metadata": {},
   "source": [
    "### Un'occhiata ai dati:\n",
    "\n",
    "È sempre buona norma dare un'occhiata generale ai dati, sia in termini grafici che in termini descrittivi. Con il seguente ciclo for chiameremo `describe` di `pandas` per farci un'idea dei range in cui opera ogni variabile."
   ]
  },
  {
   "cell_type": "code",
   "execution_count": 8,
   "metadata": {
    "scrolled": false
   },
   "outputs": [
    {
     "name": "stdout",
     "output_type": "stream",
     "text": [
      "       c_province\n",
      "count       52178\n",
      "unique        110\n",
      "top            RM\n",
      "freq         7072\n",
      "       c_birth_region\n",
      "count           52181\n",
      "unique             21\n",
      "top             Lazio\n",
      "freq             7560\n",
      "       c_area_nielsen\n",
      "count           52181\n",
      "unique              6\n",
      "top                 C\n",
      "freq            16391\n",
      "       c_birth_area_nielsen\n",
      "count                 52182\n",
      "unique                    6\n",
      "top                       C\n",
      "freq                  13240\n",
      "       c_marital_status\n",
      "count             52182\n",
      "unique                6\n",
      "top                   G\n",
      "freq              25069\n",
      "       c_housing_type\n",
      "count           52182\n",
      "unique              5\n",
      "top                 P\n",
      "freq            34107\n",
      "       c_monthly_pay\n",
      "count   5.218200e+04\n",
      "mean    1.089150e+04\n",
      "std     2.101139e+06\n",
      "min    -1.500000e+02\n",
      "25%     9.530000e+02\n",
      "50%     1.325000e+03\n",
      "75%     1.732000e+03\n",
      "max     4.799283e+08\n",
      "       c_legal_type\n",
      "count  52182.000000\n",
      "mean       0.052259\n",
      "std        0.222552\n",
      "min        0.000000\n",
      "25%        0.000000\n",
      "50%        0.000000\n",
      "75%        0.000000\n",
      "max        1.000000\n",
      "       c_gender\n",
      "count     52182\n",
      "unique        3\n",
      "top           M\n",
      "freq      32514\n",
      "        c_job\n",
      "count   52182\n",
      "unique     33\n",
      "top        OP\n",
      "freq    11414\n",
      "       p_loan_type\n",
      "count        52182\n",
      "unique           1\n",
      "top             PA\n",
      "freq         52182\n",
      "          p_activation_date\n",
      "count                 52182\n",
      "unique                 1819\n",
      "top     2011-06-30 00:00:00\n",
      "freq                    151\n",
      "first   2011-01-03 00:00:00\n",
      "last    2018-06-28 00:00:00\n",
      "                 p_end_date\n",
      "count                 52182\n",
      "unique                 1773\n",
      "top     2015-11-30 00:00:00\n",
      "freq                   1130\n",
      "first   2011-03-07 00:00:00\n",
      "last    2018-08-31 00:00:00\n",
      "          p_product\n",
      "count  52182.000000\n",
      "mean      10.703729\n",
      "std        8.221631\n",
      "min        1.000000\n",
      "25%        1.000000\n",
      "50%       10.000000\n",
      "75%       20.000000\n",
      "max       20.000000\n",
      "       p_sale_network\n",
      "count    5.218200e+04\n",
      "mean     9.999998e+06\n",
      "std      2.862537e+00\n",
      "min      9.999980e+06\n",
      "25%      9.999999e+06\n",
      "50%      9.999999e+06\n",
      "75%      9.999999e+06\n",
      "max      9.999999e+06\n",
      "       p_sale_company\n",
      "count    52182.000000\n",
      "mean       662.842877\n",
      "std        110.440354\n",
      "min        500.000000\n",
      "25%        536.000000\n",
      "50%        700.000000\n",
      "75%        735.000000\n",
      "max        866.000000\n",
      "       p_product_price\n",
      "count     52182.000000\n",
      "mean      14052.428556\n",
      "std        8907.117724\n",
      "min        1200.000000\n",
      "25%        8550.000000\n",
      "50%       12500.000000\n",
      "75%       17500.000000\n",
      "max      910000.000000\n",
      "        p_loan_value\n",
      "count   52182.000000\n",
      "mean    10496.007800\n",
      "std      6149.968622\n",
      "min      1000.000000\n",
      "25%      6173.142500\n",
      "50%      9320.080000\n",
      "75%     13142.360000\n",
      "max    110300.000000\n",
      "       p_num_installments\n",
      "count        52182.000000\n",
      "mean            47.345215\n",
      "std             18.172012\n",
      "min              6.000000\n",
      "25%             36.000000\n",
      "50%             48.000000\n",
      "75%             60.000000\n",
      "max            209.000000\n",
      "       p_installment_value\n",
      "count         52182.000000\n",
      "mean            260.630333\n",
      "std             135.938466\n",
      "min              36.000000\n",
      "25%             180.000000\n",
      "50%             236.000000\n",
      "75%             308.000000\n",
      "max            4681.000000\n",
      "       p_payment_mean\n",
      "count           52182\n",
      "unique              3\n",
      "top                RI\n",
      "freq            42027\n",
      "       FLAG_GOODBAD\n",
      "count         52182\n",
      "unique            3\n",
      "top               G\n",
      "freq          48495\n",
      "              d_age\n",
      "count  52144.000000\n",
      "mean      42.659271\n",
      "std       15.070302\n",
      "min       -2.358904\n",
      "25%       31.961644\n",
      "50%       43.030137\n",
      "75%       53.041096\n",
      "max      103.309589\n",
      "          d_job_age\n",
      "count  46776.000000\n",
      "mean       9.550382\n",
      "std        9.084839\n",
      "min       -5.969863\n",
      "25%        2.358219\n",
      "50%        6.610959\n",
      "75%       13.976027\n",
      "max       66.794521\n",
      "       d_sale_company_province\n",
      "count                    52182\n",
      "unique                      38\n",
      "top                         RM\n",
      "freq                      7539\n"
     ]
    }
   ],
   "source": [
    "for col in data_auto.columns.values:\n",
    "    print(data_auto[[col]].describe())"
   ]
  },
  {
   "cell_type": "markdown",
   "metadata": {},
   "source": [
    "Vediamo il significato delle variabili in breve:\n",
    "\n",
    "* c_province: Provincia di residenza del cliente\n",
    "* c_birth_region: Regione di nascita del cliente\n",
    "* c_area_nielsen: Area Nielsen del cliente\n",
    "* c_birth_area_nielsen: Area Nielsen di nascita del cliente\n",
    "* c_marital_status: Stato civile\n",
    "* c_housing_type: Tipo di contratto di locazione\n",
    "* c_monthly_pay: Salario\n",
    "* c_legal_type: Forma giuridica del cliente\n",
    "* c_gender. Sesso\n",
    "* c_job: Occupazione\n",
    "* p_loan_type: Tipo di prestito\n",
    "* p_activation_date: Data attivazione prestito\n",
    "* p_end_date: Data fine prestito\n",
    "* p_product: Tipo prodotto\n",
    "* p_sale_network: Rete di vendita\n",
    "* p_sale_company: Filiale di vendita\n",
    "* p_product_price: Prezzo prodotto\n",
    "* p_loan_value: Valore del prestito\n",
    "* p_num_installments: Numero rate\n",
    "* p_installment_value: Valore rate\n",
    "* p_payment_mean: Metodo di pagamento\n",
    "* FLAG_GOODBAD: Buono o cattivo pagatore (ha pagato in ritardo più di X rate)\n",
    "* d_age: Età cliente\n",
    "* d_job_age: Anzianità lavorativa cliente (attuale occupazione)\n",
    "* d_sale_company_province: Provincia di vendita"
   ]
  },
  {
   "cell_type": "markdown",
   "metadata": {},
   "source": [
    "#### Contiamo gli NA di ogni colonna"
   ]
  },
  {
   "cell_type": "code",
   "execution_count": 9,
   "metadata": {},
   "outputs": [
    {
     "data": {
      "text/plain": [
       "array(['BP', 'RI', 'RP'], dtype=object)"
      ]
     },
     "execution_count": 9,
     "metadata": {},
     "output_type": "execute_result"
    }
   ],
   "source": [
    "np.unique(data_auto.p_payment_mean.values)"
   ]
  },
  {
   "cell_type": "code",
   "execution_count": 10,
   "metadata": {},
   "outputs": [
    {
     "data": {
      "text/plain": [
       "c_province                    4\n",
       "c_birth_region                1\n",
       "c_area_nielsen                1\n",
       "c_birth_area_nielsen          0\n",
       "c_marital_status              0\n",
       "c_housing_type                0\n",
       "c_monthly_pay                 0\n",
       "c_legal_type                  0\n",
       "c_gender                      0\n",
       "c_job                         0\n",
       "p_loan_type                   0\n",
       "p_activation_date             0\n",
       "p_end_date                    0\n",
       "p_product                     0\n",
       "p_sale_network                0\n",
       "p_sale_company                0\n",
       "p_product_price               0\n",
       "p_loan_value                  0\n",
       "p_num_installments            0\n",
       "p_installment_value           0\n",
       "p_payment_mean                0\n",
       "FLAG_GOODBAD                  0\n",
       "d_age                        38\n",
       "d_job_age                  5406\n",
       "d_sale_company_province       0\n",
       "dtype: int64"
      ]
     },
     "execution_count": 10,
     "metadata": {},
     "output_type": "execute_result"
    }
   ],
   "source": [
    "data_auto.isna().sum()"
   ]
  },
  {
   "cell_type": "markdown",
   "metadata": {},
   "source": [
    "### Anomalie\n",
    "\n",
    "Abbiamo trovato delle anomalie!\n",
    "\n",
    "* Stipendi mensili negativi\n",
    "* Età più basse di 18 anni, anche negative!\n",
    "* Tempo trascorso dall'inizio dell'ultimo lavoro negativo\n",
    "* Stipendi da capogiro\n",
    "\n",
    "La soluzione ideale sarebbe contattare chi raccoglie i dati e capire come queste anomalie si sono create. L'annotazione delle date e magari fatta a mano? Gli stipendi sono frutto di qualche calcolo che può dare risultati negativi? È concesso indicare una data futura come data di inizio lavoro?\n",
    "\n",
    "In mancanza di queste informazioni, ci si aspetta che l'analista sia in grado di gestire un dato sporco in base alla gravità. Controlliamo quindi innanzi tutto quanti sono i casi anomali, per stimarne l'impatto sulle analisi."
   ]
  },
  {
   "cell_type": "markdown",
   "metadata": {},
   "source": [
    "#### Numero di stipendi negativi"
   ]
  },
  {
   "cell_type": "code",
   "execution_count": 11,
   "metadata": {},
   "outputs": [
    {
     "data": {
      "text/plain": [
       "2"
      ]
     },
     "execution_count": 11,
     "metadata": {},
     "output_type": "execute_result"
    }
   ],
   "source": [
    "np.sum((data_auto['c_monthly_pay'].values < 0)*1)"
   ]
  },
  {
   "cell_type": "markdown",
   "metadata": {},
   "source": [
    "#### Numero età sotto i 18 anni"
   ]
  },
  {
   "cell_type": "code",
   "execution_count": 12,
   "metadata": {},
   "outputs": [
    {
     "name": "stderr",
     "output_type": "stream",
     "text": [
      "C:\\Users\\U413635\\AppData\\Local\\Continuum\\anaconda3\\envs\\moxoff\\lib\\site-packages\\ipykernel_launcher.py:1: RuntimeWarning: invalid value encountered in less\n",
      "  \"\"\"Entry point for launching an IPython kernel.\n"
     ]
    },
    {
     "data": {
      "text/plain": [
       "1968"
      ]
     },
     "execution_count": 12,
     "metadata": {},
     "output_type": "execute_result"
    }
   ],
   "source": [
    "np.sum((data_auto['d_age'].values < 18)*1)"
   ]
  },
  {
   "cell_type": "markdown",
   "metadata": {},
   "source": [
    "#### Numero età lavorativa negativa"
   ]
  },
  {
   "cell_type": "code",
   "execution_count": 13,
   "metadata": {},
   "outputs": [
    {
     "name": "stderr",
     "output_type": "stream",
     "text": [
      "C:\\Users\\U413635\\AppData\\Local\\Continuum\\anaconda3\\envs\\moxoff\\lib\\site-packages\\ipykernel_launcher.py:1: RuntimeWarning: invalid value encountered in less\n",
      "  \"\"\"Entry point for launching an IPython kernel.\n"
     ]
    },
    {
     "data": {
      "text/plain": [
       "91"
      ]
     },
     "execution_count": 13,
     "metadata": {},
     "output_type": "execute_result"
    }
   ],
   "source": [
    "np.sum((data_auto['d_job_age'].values < 0)*1)"
   ]
  },
  {
   "cell_type": "markdown",
   "metadata": {},
   "source": [
    "#### Stipendi oltre i 10.000 euro al mese"
   ]
  },
  {
   "cell_type": "code",
   "execution_count": 14,
   "metadata": {},
   "outputs": [
    {
     "data": {
      "text/plain": [
       "197"
      ]
     },
     "execution_count": 14,
     "metadata": {},
     "output_type": "execute_result"
    }
   ],
   "source": [
    "np.sum((data_auto['c_monthly_pay'].values > 1e4)*1)"
   ]
  },
  {
   "cell_type": "markdown",
   "metadata": {},
   "source": [
    "### Anomalie 2\n",
    "\n",
    "Gli stipendi negativi e strabilianti sembrano un'anomalia molto marginale, e a questo punto qualsiasi strategia probabilmente darebbe risultati equivalenti. Decidiamo quindi di buttare via quelle osservazioni, in modo che i modelli più fragili non ne risentano particolarmente.\n",
    "\n",
    "Anche l'età di lavoro negativa sembra un problema marginale. Potremmo riportare questi valori a 0 a mano ma in base al modello scelto questo potrebbe avere effetti indesiderati. Stesso discorso vale per la media. Al momento, quindi, rimuoviamo anche queste righe.\n",
    "\n",
    "I casi di età inferiore ai 18 anni sono invece più numerosi ed è opportuno gestirli in maniera più scaltra. Guardando i dati originali si nota che il problema sembra essere nell'età di nascita annotata male, un difetto su cui possiamo agire poco senza ulteriori informazioni.\n",
    "Proveremo quindi a impiegare una strategia di imputazione ad hoc per questo problema, in fase di costruzione del modello."
   ]
  },
  {
   "cell_type": "code",
   "execution_count": 15,
   "metadata": {},
   "outputs": [],
   "source": [
    "data_auto = data_auto.loc[~(data_auto['c_monthly_pay'] < 0),:]\n",
    "data_auto = data_auto.loc[~(data_auto['c_monthly_pay'] > 1e4),:]\n",
    "data_auto = data_auto.loc[~(data_auto['d_job_age'] < 0),:]"
   ]
  },
  {
   "cell_type": "markdown",
   "metadata": {},
   "source": [
    "### Digressione: imputazione\n",
    "\n",
    "Si definisce imputazione la gestione di dati sporchi o mancanti, e la sua sostituzione con dati sintetici secondo una determinata strategia.\n",
    "Scelta comuni sono imputare con la media della variabile o un valore fuori range.\n",
    "\n",
    "L'imputazione va sempre fatta in prima persona! Lasciare che sia chi ha implementato il modello a decidere per voi può nascondere criticità gravi. La gestione dei dati mancanti è una passo integrale dell'analisi e quanto il vostro apparato modellistico gestisca bene questa situazione può far cambiare la scelta del modello utilizzato. I modelli ad alberi, ad esempio, gestiscono gli NA in modo elegante e in un problema in cui nei dati ci sono molti dati mancanti potrebbero essere una scelta preferenziale.\n",
    "\n",
    "È **molto importante** scegliere la strategia di imputazione congiuntamente al modello. In base a che modello utilizzerete alcune strategie saranno più appropriate di altre. Ad esempio, se ora proseguissimo con una regressione logistica, imputare i dati mancanti o sporchi con la media non dovrebbe generare effetti collaterali catastrofici. Al contrario, se in seguito usassimo un albero di classificazione questa scelta potrebbe rendere più difficile l'apprendimento.\n",
    "\n",
    "È caldamente consigliato quindi di faticare magari un po' di più in fase esplorativa e lasciare gli NA o i dati sporchi nel dataset, facendo le analisi grafiche ed esplorative senza di essi, per poi delegare alla pipeline del modello la gestione di queste anomalie."
   ]
  },
  {
   "cell_type": "markdown",
   "metadata": {},
   "source": [
    "#### Imputazione età\n",
    "\n",
    "Riguardo all'età in realtà noi qualche informazione l'abbiamo."
   ]
  },
  {
   "cell_type": "code",
   "execution_count": 16,
   "metadata": {},
   "outputs": [
    {
     "data": {
      "text/html": [
       "<div>\n",
       "<style scoped>\n",
       "    .dataframe tbody tr th:only-of-type {\n",
       "        vertical-align: middle;\n",
       "    }\n",
       "\n",
       "    .dataframe tbody tr th {\n",
       "        vertical-align: top;\n",
       "    }\n",
       "\n",
       "    .dataframe thead th {\n",
       "        text-align: right;\n",
       "    }\n",
       "</style>\n",
       "<table border=\"1\" class=\"dataframe\">\n",
       "  <thead>\n",
       "    <tr style=\"text-align: right;\">\n",
       "      <th></th>\n",
       "      <th>d_age</th>\n",
       "      <th>d_job_age</th>\n",
       "    </tr>\n",
       "  </thead>\n",
       "  <tbody>\n",
       "    <tr>\n",
       "      <th>56529</th>\n",
       "      <td>8.364384</td>\n",
       "      <td>8.405479</td>\n",
       "    </tr>\n",
       "    <tr>\n",
       "      <th>74679</th>\n",
       "      <td>5.865753</td>\n",
       "      <td>5.898630</td>\n",
       "    </tr>\n",
       "    <tr>\n",
       "      <th>83422</th>\n",
       "      <td>8.493151</td>\n",
       "      <td>8.523288</td>\n",
       "    </tr>\n",
       "    <tr>\n",
       "      <th>103296</th>\n",
       "      <td>1.701370</td>\n",
       "      <td>1.706849</td>\n",
       "    </tr>\n",
       "    <tr>\n",
       "      <th>130250</th>\n",
       "      <td>2.432877</td>\n",
       "      <td>2.293151</td>\n",
       "    </tr>\n",
       "    <tr>\n",
       "      <th>188520</th>\n",
       "      <td>12.550685</td>\n",
       "      <td>21.572603</td>\n",
       "    </tr>\n",
       "    <tr>\n",
       "      <th>216617</th>\n",
       "      <td>7.671233</td>\n",
       "      <td>7.726027</td>\n",
       "    </tr>\n",
       "    <tr>\n",
       "      <th>224092</th>\n",
       "      <td>6.013699</td>\n",
       "      <td>6.021918</td>\n",
       "    </tr>\n",
       "    <tr>\n",
       "      <th>242360</th>\n",
       "      <td>12.906849</td>\n",
       "      <td>12.989041</td>\n",
       "    </tr>\n",
       "    <tr>\n",
       "      <th>251719</th>\n",
       "      <td>9.934247</td>\n",
       "      <td>9.975342</td>\n",
       "    </tr>\n",
       "    <tr>\n",
       "      <th>254261</th>\n",
       "      <td>17.583562</td>\n",
       "      <td>17.167123</td>\n",
       "    </tr>\n",
       "    <tr>\n",
       "      <th>295970</th>\n",
       "      <td>8.726027</td>\n",
       "      <td>8.643836</td>\n",
       "    </tr>\n",
       "    <tr>\n",
       "      <th>300091</th>\n",
       "      <td>14.326027</td>\n",
       "      <td>13.578082</td>\n",
       "    </tr>\n",
       "    <tr>\n",
       "      <th>300559</th>\n",
       "      <td>16.882192</td>\n",
       "      <td>16.947945</td>\n",
       "    </tr>\n",
       "    <tr>\n",
       "      <th>305532</th>\n",
       "      <td>15.742466</td>\n",
       "      <td>21.397260</td>\n",
       "    </tr>\n",
       "    <tr>\n",
       "      <th>305544</th>\n",
       "      <td>0.035616</td>\n",
       "      <td>0.041096</td>\n",
       "    </tr>\n",
       "    <tr>\n",
       "      <th>306962</th>\n",
       "      <td>16.720548</td>\n",
       "      <td>16.772603</td>\n",
       "    </tr>\n",
       "    <tr>\n",
       "      <th>308524</th>\n",
       "      <td>10.197260</td>\n",
       "      <td>10.232877</td>\n",
       "    </tr>\n",
       "    <tr>\n",
       "      <th>309432</th>\n",
       "      <td>5.180822</td>\n",
       "      <td>5.232877</td>\n",
       "    </tr>\n",
       "    <tr>\n",
       "      <th>311454</th>\n",
       "      <td>3.271233</td>\n",
       "      <td>3.441096</td>\n",
       "    </tr>\n",
       "    <tr>\n",
       "      <th>312743</th>\n",
       "      <td>6.328767</td>\n",
       "      <td>6.350685</td>\n",
       "    </tr>\n",
       "    <tr>\n",
       "      <th>313523</th>\n",
       "      <td>13.435616</td>\n",
       "      <td>13.438356</td>\n",
       "    </tr>\n",
       "    <tr>\n",
       "      <th>315146</th>\n",
       "      <td>2.098630</td>\n",
       "      <td>2.161644</td>\n",
       "    </tr>\n",
       "    <tr>\n",
       "      <th>316112</th>\n",
       "      <td>13.331507</td>\n",
       "      <td>13.408219</td>\n",
       "    </tr>\n",
       "    <tr>\n",
       "      <th>316583</th>\n",
       "      <td>2.964384</td>\n",
       "      <td>14.449315</td>\n",
       "    </tr>\n",
       "    <tr>\n",
       "      <th>320112</th>\n",
       "      <td>11.936986</td>\n",
       "      <td>12.000000</td>\n",
       "    </tr>\n",
       "    <tr>\n",
       "      <th>322550</th>\n",
       "      <td>10.690411</td>\n",
       "      <td>10.747945</td>\n",
       "    </tr>\n",
       "    <tr>\n",
       "      <th>323182</th>\n",
       "      <td>16.717808</td>\n",
       "      <td>16.717808</td>\n",
       "    </tr>\n",
       "    <tr>\n",
       "      <th>323291</th>\n",
       "      <td>17.367123</td>\n",
       "      <td>17.416438</td>\n",
       "    </tr>\n",
       "    <tr>\n",
       "      <th>325892</th>\n",
       "      <td>7.616438</td>\n",
       "      <td>7.695890</td>\n",
       "    </tr>\n",
       "    <tr>\n",
       "      <th>...</th>\n",
       "      <td>...</td>\n",
       "      <td>...</td>\n",
       "    </tr>\n",
       "    <tr>\n",
       "      <th>523991</th>\n",
       "      <td>2.197260</td>\n",
       "      <td>2.273973</td>\n",
       "    </tr>\n",
       "    <tr>\n",
       "      <th>524475</th>\n",
       "      <td>10.241096</td>\n",
       "      <td>9.504110</td>\n",
       "    </tr>\n",
       "    <tr>\n",
       "      <th>527259</th>\n",
       "      <td>4.813699</td>\n",
       "      <td>4.934247</td>\n",
       "    </tr>\n",
       "    <tr>\n",
       "      <th>528986</th>\n",
       "      <td>2.838356</td>\n",
       "      <td>2.871233</td>\n",
       "    </tr>\n",
       "    <tr>\n",
       "      <th>529963</th>\n",
       "      <td>4.054795</td>\n",
       "      <td>4.054795</td>\n",
       "    </tr>\n",
       "    <tr>\n",
       "      <th>539343</th>\n",
       "      <td>0.136986</td>\n",
       "      <td>0.123288</td>\n",
       "    </tr>\n",
       "    <tr>\n",
       "      <th>540230</th>\n",
       "      <td>0.334247</td>\n",
       "      <td>4.336986</td>\n",
       "    </tr>\n",
       "    <tr>\n",
       "      <th>540700</th>\n",
       "      <td>16.172603</td>\n",
       "      <td>16.147945</td>\n",
       "    </tr>\n",
       "    <tr>\n",
       "      <th>542929</th>\n",
       "      <td>5.742466</td>\n",
       "      <td>15.145205</td>\n",
       "    </tr>\n",
       "    <tr>\n",
       "      <th>559136</th>\n",
       "      <td>1.002740</td>\n",
       "      <td>22.282192</td>\n",
       "    </tr>\n",
       "    <tr>\n",
       "      <th>565907</th>\n",
       "      <td>5.547945</td>\n",
       "      <td>14.191781</td>\n",
       "    </tr>\n",
       "    <tr>\n",
       "      <th>567624</th>\n",
       "      <td>2.460274</td>\n",
       "      <td>2.460274</td>\n",
       "    </tr>\n",
       "    <tr>\n",
       "      <th>576036</th>\n",
       "      <td>10.063014</td>\n",
       "      <td>10.147945</td>\n",
       "    </tr>\n",
       "    <tr>\n",
       "      <th>581494</th>\n",
       "      <td>4.342466</td>\n",
       "      <td>4.342466</td>\n",
       "    </tr>\n",
       "    <tr>\n",
       "      <th>582805</th>\n",
       "      <td>6.128767</td>\n",
       "      <td>15.531507</td>\n",
       "    </tr>\n",
       "    <tr>\n",
       "      <th>591681</th>\n",
       "      <td>16.430137</td>\n",
       "      <td>16.430137</td>\n",
       "    </tr>\n",
       "    <tr>\n",
       "      <th>599415</th>\n",
       "      <td>0.498630</td>\n",
       "      <td>0.501370</td>\n",
       "    </tr>\n",
       "    <tr>\n",
       "      <th>605489</th>\n",
       "      <td>14.701370</td>\n",
       "      <td>14.460274</td>\n",
       "    </tr>\n",
       "    <tr>\n",
       "      <th>622283</th>\n",
       "      <td>3.978082</td>\n",
       "      <td>3.978082</td>\n",
       "    </tr>\n",
       "    <tr>\n",
       "      <th>634361</th>\n",
       "      <td>4.128767</td>\n",
       "      <td>4.136986</td>\n",
       "    </tr>\n",
       "    <tr>\n",
       "      <th>636741</th>\n",
       "      <td>3.391781</td>\n",
       "      <td>3.394521</td>\n",
       "    </tr>\n",
       "    <tr>\n",
       "      <th>659635</th>\n",
       "      <td>7.326027</td>\n",
       "      <td>7.328767</td>\n",
       "    </tr>\n",
       "    <tr>\n",
       "      <th>669195</th>\n",
       "      <td>8.775342</td>\n",
       "      <td>8.775342</td>\n",
       "    </tr>\n",
       "    <tr>\n",
       "      <th>681996</th>\n",
       "      <td>0.323288</td>\n",
       "      <td>16.756164</td>\n",
       "    </tr>\n",
       "    <tr>\n",
       "      <th>693507</th>\n",
       "      <td>7.172603</td>\n",
       "      <td>7.235616</td>\n",
       "    </tr>\n",
       "    <tr>\n",
       "      <th>696882</th>\n",
       "      <td>9.934247</td>\n",
       "      <td>16.939726</td>\n",
       "    </tr>\n",
       "    <tr>\n",
       "      <th>706279</th>\n",
       "      <td>10.778082</td>\n",
       "      <td>10.093151</td>\n",
       "    </tr>\n",
       "    <tr>\n",
       "      <th>707515</th>\n",
       "      <td>7.975342</td>\n",
       "      <td>8.057534</td>\n",
       "    </tr>\n",
       "    <tr>\n",
       "      <th>727566</th>\n",
       "      <td>17.424658</td>\n",
       "      <td>17.268493</td>\n",
       "    </tr>\n",
       "    <tr>\n",
       "      <th>734026</th>\n",
       "      <td>8.594521</td>\n",
       "      <td>8.605479</td>\n",
       "    </tr>\n",
       "  </tbody>\n",
       "</table>\n",
       "<p>204 rows × 2 columns</p>\n",
       "</div>"
      ],
      "text/plain": [
       "            d_age  d_job_age\n",
       "56529    8.364384   8.405479\n",
       "74679    5.865753   5.898630\n",
       "83422    8.493151   8.523288\n",
       "103296   1.701370   1.706849\n",
       "130250   2.432877   2.293151\n",
       "188520  12.550685  21.572603\n",
       "216617   7.671233   7.726027\n",
       "224092   6.013699   6.021918\n",
       "242360  12.906849  12.989041\n",
       "251719   9.934247   9.975342\n",
       "254261  17.583562  17.167123\n",
       "295970   8.726027   8.643836\n",
       "300091  14.326027  13.578082\n",
       "300559  16.882192  16.947945\n",
       "305532  15.742466  21.397260\n",
       "305544   0.035616   0.041096\n",
       "306962  16.720548  16.772603\n",
       "308524  10.197260  10.232877\n",
       "309432   5.180822   5.232877\n",
       "311454   3.271233   3.441096\n",
       "312743   6.328767   6.350685\n",
       "313523  13.435616  13.438356\n",
       "315146   2.098630   2.161644\n",
       "316112  13.331507  13.408219\n",
       "316583   2.964384  14.449315\n",
       "320112  11.936986  12.000000\n",
       "322550  10.690411  10.747945\n",
       "323182  16.717808  16.717808\n",
       "323291  17.367123  17.416438\n",
       "325892   7.616438   7.695890\n",
       "...           ...        ...\n",
       "523991   2.197260   2.273973\n",
       "524475  10.241096   9.504110\n",
       "527259   4.813699   4.934247\n",
       "528986   2.838356   2.871233\n",
       "529963   4.054795   4.054795\n",
       "539343   0.136986   0.123288\n",
       "540230   0.334247   4.336986\n",
       "540700  16.172603  16.147945\n",
       "542929   5.742466  15.145205\n",
       "559136   1.002740  22.282192\n",
       "565907   5.547945  14.191781\n",
       "567624   2.460274   2.460274\n",
       "576036  10.063014  10.147945\n",
       "581494   4.342466   4.342466\n",
       "582805   6.128767  15.531507\n",
       "591681  16.430137  16.430137\n",
       "599415   0.498630   0.501370\n",
       "605489  14.701370  14.460274\n",
       "622283   3.978082   3.978082\n",
       "634361   4.128767   4.136986\n",
       "636741   3.391781   3.394521\n",
       "659635   7.326027   7.328767\n",
       "669195   8.775342   8.775342\n",
       "681996   0.323288  16.756164\n",
       "693507   7.172603   7.235616\n",
       "696882   9.934247  16.939726\n",
       "706279  10.778082  10.093151\n",
       "707515   7.975342   8.057534\n",
       "727566  17.424658  17.268493\n",
       "734026   8.594521   8.605479\n",
       "\n",
       "[204 rows x 2 columns]"
      ]
     },
     "execution_count": 16,
     "metadata": {},
     "output_type": "execute_result"
    }
   ],
   "source": [
    "data_auto.loc[data_auto['d_age'] < 18,['d_age','d_job_age']].dropna()"
   ]
  },
  {
   "cell_type": "markdown",
   "metadata": {},
   "source": [
    "Spesso le colonne si equivalgono o quasi. Potremmo sospettare quindi dell'incuria nell'indicare la data di nascita, scambiandola con quella di inizio lavoro. Se assumessimo che la data di lavoro è corretta potremmo provare ad usarla per ricreare quella di nascita nel seguente modo.\n",
    "\n",
    "`data_auto.loc[data_auto['d_age'] < 18,'d_age'] = data_auto.loc[data_auto['d_age'] < 18,'d_job_age'] + 18`\n",
    "\n",
    "In realtà si può notare che la colonna `d_job_age` ha abbastanza NA e quindi non è possibile fidarsi particolarmente neanche di questa informazione. Al fine di non pregiudicare le informazioni che sono presenti nelle altre colonne, in fase di modello proveremo a sistemare queste problematiche."
   ]
  },
  {
   "cell_type": "code",
   "execution_count": null,
   "metadata": {},
   "outputs": [],
   "source": []
  },
  {
   "cell_type": "code",
   "execution_count": null,
   "metadata": {},
   "outputs": [],
   "source": []
  },
  {
   "cell_type": "markdown",
   "metadata": {},
   "source": [
    "### Variabile risposta\n",
    "\n",
    "diamo anche un'occhiata alla variabile risposta.\n",
    "\n",
    "Dal describe di prima già dovremmo esserci accorti che siamo di fronte a un problema sbilanciato. Il numero di buoni pagatori è di gran lunga superiore a quello dei cattivi pagatori. Dovremo tenere in conto questa cosa quando costruiremo il modello e sopratutto in fase di valutazione.\n",
    "\n",
    "Intanto trasformiamo la nostra risposta in una variabile binaria, con valore 0 in caso di pagatore buono o incerto e 1 per i cattivi pagatori."
   ]
  },
  {
   "cell_type": "code",
   "execution_count": 17,
   "metadata": {},
   "outputs": [
    {
     "data": {
      "text/plain": [
       "count    51892.000000\n",
       "mean         0.065174\n",
       "std          0.246835\n",
       "min          0.000000\n",
       "25%          0.000000\n",
       "50%          0.000000\n",
       "75%          0.000000\n",
       "max          1.000000\n",
       "Name: FLAG_GOODBAD, dtype: float64"
      ]
     },
     "execution_count": 17,
     "metadata": {},
     "output_type": "execute_result"
    }
   ],
   "source": [
    "data_auto['FLAG_GOODBAD'] = 1 * (data_auto['FLAG_GOODBAD'] == 'B')\n",
    "data_auto['FLAG_GOODBAD'] = data_auto['FLAG_GOODBAD'].astype(int)\n",
    "data_auto['FLAG_GOODBAD'].describe()"
   ]
  },
  {
   "cell_type": "code",
   "execution_count": 18,
   "metadata": {},
   "outputs": [
    {
     "data": {
      "text/plain": [
       "0    48510\n",
       "1     3382\n",
       "Name: FLAG_GOODBAD, dtype: int64"
      ]
     },
     "execution_count": 18,
     "metadata": {},
     "output_type": "execute_result"
    }
   ],
   "source": [
    "data_auto['FLAG_GOODBAD'].value_counts()"
   ]
  },
  {
   "cell_type": "code",
   "execution_count": 19,
   "metadata": {},
   "outputs": [
    {
     "data": {
      "text/plain": [
       "1     0\n",
       "6     0\n",
       "7     0\n",
       "8     0\n",
       "13    0\n",
       "Name: FLAG_GOODBAD, dtype: int32"
      ]
     },
     "execution_count": 19,
     "metadata": {},
     "output_type": "execute_result"
    }
   ],
   "source": [
    "data_auto['FLAG_GOODBAD'].head()"
   ]
  },
  {
   "cell_type": "markdown",
   "metadata": {},
   "source": [
    "### Grafici esplorativi, trasformazioni utili\n",
    "\n",
    "Cominciamo a fare qualche grafico esplorativo. Una primissima intuizione potrebbe essere che chi non ha uno stipendio o ne ha un molto basso potrebbe far fatica a ripagare il suo debito. Guardiamo una stima della densità degli stipendi mensili."
   ]
  },
  {
   "cell_type": "code",
   "execution_count": 20,
   "metadata": {},
   "outputs": [
    {
     "data": {
      "text/plain": [
       "<matplotlib.axes._subplots.AxesSubplot at 0x134726b3b00>"
      ]
     },
     "execution_count": 20,
     "metadata": {},
     "output_type": "execute_result"
    },
    {
     "data": {
      "image/png": "[encoded data removed]",
      "text/plain": [
       "<Figure size 720x576 with 1 Axes>"
      ]
     },
     "metadata": {
      "needs_background": "light"
     },
     "output_type": "display_data"
    }
   ],
   "source": [
    "plt.figure(figsize = (10, 8))\n",
    "sns.kdeplot(data_auto.loc[~data_auto['c_monthly_pay'].isna(),'c_monthly_pay'])"
   ]
  },
  {
   "cell_type": "markdown",
   "metadata": {},
   "source": [
    "Il grafico risulta molto schiacciato. Il risultato sarebbe stato ancora peggiore se non avessimo rimosso i dati con stipendi maggiori ai 10000 euro.\n",
    "\n",
    "È un fenomeno comune per alcune grandezze, tipo i quantitativi di denaro, che essere molto asimmetrici. Una delle strategia tipiche per gestire queste quantità è trasformare in logaritmo la variabile."
   ]
  },
  {
   "cell_type": "code",
   "execution_count": 21,
   "metadata": {},
   "outputs": [
    {
     "data": {
      "text/plain": [
       "<matplotlib.axes._subplots.AxesSubplot at 0x134723948d0>"
      ]
     },
     "execution_count": 21,
     "metadata": {},
     "output_type": "execute_result"
    },
    {
     "data": {
      "image/png": "[encoded data removed]",
      "text/plain": [
       "<Figure size 720x576 with 1 Axes>"
      ]
     },
     "metadata": {
      "needs_background": "light"
     },
     "output_type": "display_data"
    }
   ],
   "source": [
    "plt.figure(figsize = (10, 8))\n",
    "sns.kdeplot(np.log(1 + data_auto.loc[~data_auto['c_monthly_pay'].isna(),'c_monthly_pay']).values)"
   ]
  },
  {
   "cell_type": "markdown",
   "metadata": {},
   "source": [
    "Molto meglio! Così possiamo vedere che c'è chi non ha uno stipendio, attorno al valore 0, e chi ne ha uno, che popola l'altra campana. La campana degli occupati sembra piuttosto schiacciata ma comprende valori che vanno dai 400 ai 3000 euro al mese circa. La forma regolare di questa distribuzione però ci rassicura che sia di \"facile\" comprensione per la maggior parte dei modelli esistenti."
   ]
  },
  {
   "cell_type": "markdown",
   "metadata": {},
   "source": [
    "Diamo un'occhiata all'età. Al momento teniamo in considerazione che ci sono delle età anomale, sopratutto nella parte bassa dello spettro."
   ]
  },
  {
   "cell_type": "code",
   "execution_count": 22,
   "metadata": {
    "scrolled": false
   },
   "outputs": [
    {
     "data": {
      "image/png": "[encoded data removed]",
      "text/plain": [
       "<Figure size 576x576 with 1 Axes>"
      ]
     },
     "metadata": {
      "needs_background": "light"
     },
     "output_type": "display_data"
    }
   ],
   "source": [
    "data_auto['d_age_category'] = pd.cut(data_auto['d_age'], bins = np.linspace(0, 70, num = 8))\n",
    "\n",
    "age_groups = data_auto.groupby('d_age_category').mean()\n",
    "\n",
    "plt.figure(figsize = (8, 8))\n",
    "\n",
    "# Graph the age bins and the average of the target as a bar plot\n",
    "plt.bar(age_groups.index.astype(str), 100 * age_groups['FLAG_GOODBAD'])\n",
    "\n",
    "# Plot labeling\n",
    "plt.xticks(rotation = 75); plt.xlabel('Age Group (years)'); plt.ylabel('Failure to Repay (%)')\n",
    "plt.title('Failure to Repay by Age Group');\n",
    "\n",
    "data_auto.drop('d_age_category',1, inplace=True)"
   ]
  },
  {
   "cell_type": "markdown",
   "metadata": {},
   "source": [
    "**Ahia!** Pare che le osservazioni con età basse si comportino in modo un po' diverso. Non sapendo esattamente cosa abbia generato questa anomalia, dobbiamo trovare un modo di differenziarle dalle altre età che assumiamo siano attendibili.\n",
    "\n",
    "Questo è assolutamente da tenere in considerazione quando gestiremo gli NA prima del modello!\n",
    "\n",
    "Per ora diamo uno sguardo alle età senza le anomalie:"
   ]
  },
  {
   "cell_type": "code",
   "execution_count": 23,
   "metadata": {},
   "outputs": [
    {
     "data": {
      "image/png": "[encoded data removed]",
      "text/plain": [
       "<Figure size 576x576 with 1 Axes>"
      ]
     },
     "metadata": {
      "needs_background": "light"
     },
     "output_type": "display_data"
    }
   ],
   "source": [
    "data_auto_purged = data_auto.loc[~(data_auto['d_age'] < 18),:].copy()\n",
    "\n",
    "data_auto_purged['d_age_category'] = pd.cut(data_auto_purged['d_age'], bins = np.linspace(10, 70, num = 7))\n",
    "\n",
    "age_groups = data_auto_purged.groupby('d_age_category').mean()\n",
    "\n",
    "plt.figure(figsize = (8, 8))\n",
    "\n",
    "# Graph the age bins and the average of the target as a bar plot\n",
    "plt.bar(age_groups.index.astype(str), 100 * age_groups['FLAG_GOODBAD'])\n",
    "\n",
    "# Plot labeling\n",
    "plt.xticks(rotation = 75); plt.xlabel('Age Group (years)'); plt.ylabel('Failure to Repay (%)')\n",
    "plt.title('Failure to Repay by Age Group');\n",
    "\n",
    "data_auto_purged.drop('d_age_category',1, inplace=True)"
   ]
  },
  {
   "cell_type": "code",
   "execution_count": 24,
   "metadata": {
    "scrolled": false
   },
   "outputs": [
    {
     "data": {
      "image/png": "[encoded data removed]",
      "text/plain": [
       "<Figure size 720x576 with 1 Axes>"
      ]
     },
     "metadata": {
      "needs_background": "light"
     },
     "output_type": "display_data"
    }
   ],
   "source": [
    "plt.figure(figsize = (10, 8))\n",
    "\n",
    "# KDE plot of loans that were repaid on time\n",
    "sns.kdeplot(data_auto.loc[np.logical_and(data_auto['FLAG_GOODBAD'] == 0, ~data_auto['d_age'].isna()),'d_age'], label = 'Good')\n",
    "\n",
    "# KDE plot of loans which were not repaid on time\n",
    "sns.kdeplot(data_auto.loc[np.logical_and(data_auto['FLAG_GOODBAD'] == 1, ~data_auto['d_age'].isna()),'d_age'], label = 'Bad')\n",
    "\n",
    "# Labeling of plot\n",
    "plt.xlabel('Age (years)'); plt.ylabel('Density'); plt.title('Distribution of Ages');"
   ]
  },
  {
   "cell_type": "code",
   "execution_count": null,
   "metadata": {},
   "outputs": [],
   "source": []
  },
  {
   "cell_type": "code",
   "execution_count": 25,
   "metadata": {},
   "outputs": [
    {
     "data": {
      "image/png": "[encoded data removed]",
      "text/plain": [
       "<Figure size 648x648 with 12 Axes>"
      ]
     },
     "metadata": {
      "needs_background": "light"
     },
     "output_type": "display_data"
    }
   ],
   "source": [
    "# Copy the data for plotting\n",
    "plot_data = data_auto[['d_age','d_job_age','c_monthly_pay','FLAG_GOODBAD']].copy()\n",
    "\n",
    "# Drop na values\n",
    "plot_data = plot_data.dropna()\n",
    "\n",
    "# Subset for faster plotting\n",
    "plot_data = plot_data.sample(1000)\n",
    "\n",
    "# Function to calculate correlation coefficient between two columns\n",
    "def corr_func(x, y, **kwargs):\n",
    "    r = np.corrcoef(x, y)[0][1]\n",
    "    ax = plt.gca()\n",
    "    ax.annotate(\"r = {:.2f}\".format(r),\n",
    "                xy=(.2, .8), xycoords=ax.transAxes,\n",
    "                size = 20)\n",
    "\n",
    "# Create the pairgrid object\n",
    "grid = sns.PairGrid(data = plot_data, height = 3, diag_sharey=False,\n",
    "                    hue = 'FLAG_GOODBAD', \n",
    "                    vars = [x for x in list(plot_data.columns) if x != 'FLAG_GOODBAD'])\n",
    "\n",
    "# Upper is a scatter plot\n",
    "grid.map_upper(plt.scatter, alpha = 0.2)\n",
    "\n",
    "# Diagonal is a histogram\n",
    "grid.map_diag(sns.kdeplot)\n",
    "\n",
    "# Bottom is density plot\n",
    "grid.map_lower(sns.kdeplot, cmap = plt.cm.OrRd_r);\n",
    "\n",
    "plt.suptitle('Grafico di salario ed età', size = 32, y = 1.05);"
   ]
  },
  {
   "cell_type": "markdown",
   "metadata": {},
   "source": [
    "### Hands-on!\n",
    "\n",
    "Abbiamo un sacco di variabili, alcune forse ancora sporche, altre da esplorare.\n",
    "\n",
    "Provate a fare qualche grafico per capire se esiste qualche relazione particolarmente interessante tra le nostre covariate, o se c'è qualche variabile che ha bisogno di qualche trasformazione.\n",
    "\n",
    "Ci sono alcune variabili che sono date! Proviamo ad utilizzarle in qualche modo!"
   ]
  },
  {
   "cell_type": "code",
   "execution_count": null,
   "metadata": {},
   "outputs": [],
   "source": [
    "data_auto.he"
   ]
  },
  {
   "cell_type": "markdown",
   "metadata": {},
   "source": [
    "### Trasformazioni\n",
    "\n",
    "Spazio dedicato alle trasformazioni indipendenti dalle righe applicate. Ad esempio, alcune variabili sono numeriche anche se sono concettualmente categoriali"
   ]
  },
  {
   "cell_type": "code",
   "execution_count": 24,
   "metadata": {},
   "outputs": [
    {
     "data": {
      "text/html": [
       "<div>\n",
       "<style scoped>\n",
       "    .dataframe tbody tr th:only-of-type {\n",
       "        vertical-align: middle;\n",
       "    }\n",
       "\n",
       "    .dataframe tbody tr th {\n",
       "        vertical-align: top;\n",
       "    }\n",
       "\n",
       "    .dataframe thead th {\n",
       "        text-align: right;\n",
       "    }\n",
       "</style>\n",
       "<table border=\"1\" class=\"dataframe\">\n",
       "  <thead>\n",
       "    <tr style=\"text-align: right;\">\n",
       "      <th></th>\n",
       "      <th>c_province</th>\n",
       "      <th>c_birth_region</th>\n",
       "      <th>c_area_nielsen</th>\n",
       "      <th>c_birth_area_nielsen</th>\n",
       "      <th>c_marital_status</th>\n",
       "      <th>c_housing_type</th>\n",
       "      <th>c_monthly_pay</th>\n",
       "      <th>c_legal_type</th>\n",
       "      <th>c_gender</th>\n",
       "      <th>c_job</th>\n",
       "      <th>...</th>\n",
       "      <th>p_sale_company</th>\n",
       "      <th>p_product_price</th>\n",
       "      <th>p_loan_value</th>\n",
       "      <th>p_num_installments</th>\n",
       "      <th>p_installment_value</th>\n",
       "      <th>p_payment_mean</th>\n",
       "      <th>FLAG_GOODBAD</th>\n",
       "      <th>d_age</th>\n",
       "      <th>d_job_age</th>\n",
       "      <th>d_sale_company_province</th>\n",
       "    </tr>\n",
       "  </thead>\n",
       "  <tbody>\n",
       "    <tr>\n",
       "      <th>1</th>\n",
       "      <td>RM</td>\n",
       "      <td>Lazio</td>\n",
       "      <td>C</td>\n",
       "      <td>C</td>\n",
       "      <td>G</td>\n",
       "      <td>P</td>\n",
       "      <td>1508.0</td>\n",
       "      <td>0</td>\n",
       "      <td>M</td>\n",
       "      <td>OP</td>\n",
       "      <td>...</td>\n",
       "      <td>705</td>\n",
       "      <td>25950.0</td>\n",
       "      <td>20139.55</td>\n",
       "      <td>72</td>\n",
       "      <td>327.0</td>\n",
       "      <td>RI</td>\n",
       "      <td>0</td>\n",
       "      <td>37.482192</td>\n",
       "      <td>1.008219</td>\n",
       "      <td>RM</td>\n",
       "    </tr>\n",
       "    <tr>\n",
       "      <th>6</th>\n",
       "      <td>RM</td>\n",
       "      <td>Lazio</td>\n",
       "      <td>C</td>\n",
       "      <td>C</td>\n",
       "      <td>C</td>\n",
       "      <td>G</td>\n",
       "      <td>1380.0</td>\n",
       "      <td>0</td>\n",
       "      <td>F</td>\n",
       "      <td>IM</td>\n",
       "      <td>...</td>\n",
       "      <td>705</td>\n",
       "      <td>11000.0</td>\n",
       "      <td>5374.03</td>\n",
       "      <td>30</td>\n",
       "      <td>195.5</td>\n",
       "      <td>RI</td>\n",
       "      <td>0</td>\n",
       "      <td>36.339726</td>\n",
       "      <td>7.600000</td>\n",
       "      <td>RM</td>\n",
       "    </tr>\n",
       "    <tr>\n",
       "      <th>7</th>\n",
       "      <td>TV</td>\n",
       "      <td>Veneto</td>\n",
       "      <td>NE</td>\n",
       "      <td>NE</td>\n",
       "      <td>C</td>\n",
       "      <td>G</td>\n",
       "      <td>1186.0</td>\n",
       "      <td>0</td>\n",
       "      <td>F</td>\n",
       "      <td>IM</td>\n",
       "      <td>...</td>\n",
       "      <td>610</td>\n",
       "      <td>12350.0</td>\n",
       "      <td>6700.00</td>\n",
       "      <td>30</td>\n",
       "      <td>244.0</td>\n",
       "      <td>RI</td>\n",
       "      <td>0</td>\n",
       "      <td>27.701370</td>\n",
       "      <td>2.095890</td>\n",
       "      <td>VE</td>\n",
       "    </tr>\n",
       "    <tr>\n",
       "      <th>8</th>\n",
       "      <td>PO</td>\n",
       "      <td>Estero</td>\n",
       "      <td>C</td>\n",
       "      <td>E</td>\n",
       "      <td>C</td>\n",
       "      <td>G</td>\n",
       "      <td>1096.0</td>\n",
       "      <td>0</td>\n",
       "      <td>F</td>\n",
       "      <td>OP</td>\n",
       "      <td>...</td>\n",
       "      <td>735</td>\n",
       "      <td>17200.0</td>\n",
       "      <td>13330.37</td>\n",
       "      <td>72</td>\n",
       "      <td>233.0</td>\n",
       "      <td>RI</td>\n",
       "      <td>0</td>\n",
       "      <td>37.232877</td>\n",
       "      <td>7.032877</td>\n",
       "      <td>FI</td>\n",
       "    </tr>\n",
       "    <tr>\n",
       "      <th>13</th>\n",
       "      <td>TO</td>\n",
       "      <td>Piemonte</td>\n",
       "      <td>NW</td>\n",
       "      <td>NW</td>\n",
       "      <td>C</td>\n",
       "      <td>G</td>\n",
       "      <td>1270.0</td>\n",
       "      <td>0</td>\n",
       "      <td>M</td>\n",
       "      <td>OP</td>\n",
       "      <td>...</td>\n",
       "      <td>500</td>\n",
       "      <td>28300.0</td>\n",
       "      <td>29820.00</td>\n",
       "      <td>84</td>\n",
       "      <td>418.0</td>\n",
       "      <td>RI</td>\n",
       "      <td>0</td>\n",
       "      <td>26.046575</td>\n",
       "      <td>6.104110</td>\n",
       "      <td>TO</td>\n",
       "    </tr>\n",
       "  </tbody>\n",
       "</table>\n",
       "<p>5 rows × 25 columns</p>\n",
       "</div>"
      ],
      "text/plain": [
       "   c_province c_birth_region c_area_nielsen c_birth_area_nielsen  \\\n",
       "1          RM          Lazio              C                    C   \n",
       "6          RM          Lazio              C                    C   \n",
       "7          TV         Veneto             NE                   NE   \n",
       "8          PO         Estero              C                    E   \n",
       "13         TO       Piemonte             NW                   NW   \n",
       "\n",
       "   c_marital_status c_housing_type  c_monthly_pay  c_legal_type c_gender  \\\n",
       "1                 G              P         1508.0             0        M   \n",
       "6                 C              G         1380.0             0        F   \n",
       "7                 C              G         1186.0             0        F   \n",
       "8                 C              G         1096.0             0        F   \n",
       "13                C              G         1270.0             0        M   \n",
       "\n",
       "   c_job           ...            p_sale_company p_product_price p_loan_value  \\\n",
       "1     OP           ...                       705         25950.0     20139.55   \n",
       "6     IM           ...                       705         11000.0      5374.03   \n",
       "7     IM           ...                       610         12350.0      6700.00   \n",
       "8     OP           ...                       735         17200.0     13330.37   \n",
       "13    OP           ...                       500         28300.0     29820.00   \n",
       "\n",
       "   p_num_installments p_installment_value p_payment_mean  FLAG_GOODBAD  \\\n",
       "1                  72               327.0             RI             0   \n",
       "6                  30               195.5             RI             0   \n",
       "7                  30               244.0             RI             0   \n",
       "8                  72               233.0             RI             0   \n",
       "13                 84               418.0             RI             0   \n",
       "\n",
       "        d_age  d_job_age  d_sale_company_province  \n",
       "1   37.482192   1.008219                       RM  \n",
       "6   36.339726   7.600000                       RM  \n",
       "7   27.701370   2.095890                       VE  \n",
       "8   37.232877   7.032877                       FI  \n",
       "13  26.046575   6.104110                       TO  \n",
       "\n",
       "[5 rows x 25 columns]"
      ]
     },
     "execution_count": 24,
     "metadata": {},
     "output_type": "execute_result"
    }
   ],
   "source": [
    "data_auto['p_loan_type'] = data_auto['p_loan_type'].astype(str) # PA\n",
    "data_auto['p_product'] = data_auto['p_product'].astype(str)\n",
    "data_auto['p_sale_network'] = data_auto['p_sale_network'].astype(str)\n",
    "data_auto['p_sale_company'] = data_auto['p_sale_company'].astype(str)\n",
    "\n",
    "data_auto.head()"
   ]
  },
  {
   "cell_type": "markdown",
   "metadata": {},
   "source": [
    "### Esplorazione finita! I primi passi verso il modello\n",
    "\n",
    "Prima operazione: dividere train e test!"
   ]
  },
  {
   "cell_type": "code",
   "execution_count": 25,
   "metadata": {},
   "outputs": [
    {
     "name": "stdout",
     "output_type": "stream",
     "text": [
      "(41562, 25)\n",
      "(10330, 25)\n"
     ]
    }
   ],
   "source": [
    "prop = 0.8\n",
    "np.random.seed(42)\n",
    "msk = np.random.rand(len(data_auto)) < prop\n",
    "train = data_auto.loc[msk,:].copy()\n",
    "test = data_auto.loc[~msk,:].copy()\n",
    "\n",
    "print(train.shape)\n",
    "print(test.shape)"
   ]
  },
  {
   "cell_type": "markdown",
   "metadata": {},
   "source": [
    "### Trasformazione delle variabili\n",
    "\n",
    "Ora il nostro obiettivo è create la matrice numerica da dare in pasto al nostro modello.\n",
    "Il mio (personale) consiglio è progressivamente spostarsi dall'usare formati comodi per l'esplorazione come `pandas` progressivamente verso formati più a basso livello come `numpy` man mano che vi avvicinate al modello. Questo vi garantirà che le implementazioni di queste comode librerie non via stiano nascondendo nulla (ad esempio, gli NA) e abbiamo il pieno controllo delle informazioni che state fornendo al modello. `sklearn` e quasi tutte le librerie di stima dei modelli eredita molte delle sue interfacce da `numpy`, quindi questo passaggio progressivo è anche funzionale all'utilizzo di questo secondo blocco di moduli."
   ]
  },
  {
   "cell_type": "markdown",
   "metadata": {},
   "source": [
    "### Variabili categoriali\n",
    "\n",
    "Le variabili categoriali sono ovunque nei dataset moderni. Gestire la trasformazione da categoria a un'incarnazione numerica è un'operazione non banale e va approcciata con cura.\n",
    "\n",
    "La prima cosa che ci dobbiamo cheidere è se le categorie sono indipendenti e se sono ordinate.\n",
    "\n",
    "Se sono **indipendenti** abbiamo diverse possibiilità:\n",
    "* codifica ad angolo\n",
    "* one-hot-encoding\n",
    "* binary encoding\n",
    "\n",
    "![image](img/one_hot.png)\n",
    "![image](img/binary.png)\n",
    "\n",
    "Se sono **ordinate** (ed equispaziate) invece è opportuno una codifica a polinomi ortogonali.\n",
    "Senza entrare nei dettagli fini, questo tipo di codifica è adatta a variabili categoriali ordinate ed equispaziate. Questa codifica ha alcune proprietà algebriche nel caso dei modelli (G)LM particolarmente auspicabili.\n",
    "\n",
    "Se sono **ordinate** (ma non equispaziate) si è soliti trattarle come indipendenti sperando che il modello impari da solo l'ordinamento.\n",
    "\n",
    "#### Nota a margine: alberi\n",
    "\n",
    "Ci sono poi alcune codifiche che sono adatte solo con alcuni tipi di modelli. I modelli ad albero, ad esempio, ragionando per split, possono gestire variabili ordinate equispaziate e non codificate in questo modo:\n",
    "\n",
    "![image](img/numeric.png)\n",
    "\n",
    "Questo tipo di codifica invece non è adatta a modelli che applicano trasformazioni lineari o simili. Anche per modelli fortemente non lineari come le reti neurali si preferiscono usare strategie diverse, come one-hot-encoding o layer di embedding.\n",
    "\n",
    "#### Alcuni pointer su cosa usare\n",
    "\n",
    "La maggior parte di algoritmi di machine learning non falliscono in presenza di one-hot-encoding. I modelli lineari o GLM invece hanno bisogno della rimozione di una categoria per evitare perfetta collinearità tra due colonne per evitare stati patologici delle matrici usate nella stima.\n",
    "\n",
    "Raffinando la scelta, spesso si può aumentare la performance degli algoritmi con lo schema di codifica giusto. Ad esempio one-hot-encoding genera alberi molto sbilanciati se le modalità \"interessanti\" sono poche:\n",
    "\n",
    "![image](img/one_hot_tree.png)\n",
    "\n",
    "Mentre binary encoding e numeric encoding generano strutture più bilanciate:\n",
    "\n",
    "![image](img/binary_tree.png)\n",
    "![image](img/numeric_tree.png)\n",
    "\n",
    "Altro esempio sono le reti neurali in ambito di Natural Language Processing. Per rappresentare le parole si usano vocabolari da decine di migliaia di elementi. Se ognuna fosse una colonna si otterrebbero rappresentazione sparsissime e un sacco di connessioni non utilizzate per la maggior parte del tempo. È molto comunque quindi proiettare gli interi che codificano le parole in un sottospazio vettoriale opportuno che viene allenato congiuntamente al modello.\n",
    "\n",
    "![image](img/embedding.png)\n",
    "\n",
    "##### Iniziate da one-hot-encoding ma il cielo è il limite delle idee intelligenti!"
   ]
  },
  {
   "cell_type": "markdown",
   "metadata": {},
   "source": [
    "### Scaling delle variabili\n",
    "\n",
    "Alcuni metodi richiedono che le variabili date in input vengano \"scalate\". Classico esempio sono le reti neurali.\n",
    "In generale, se un metodo mette in relazione i propri \"parametri\" tra più variabili è opportuno scalare.\n",
    "Alcuni esempi:\n",
    "* Un neurone di una rete neurale può essere collegato sia a una variabile che sta tra 0 e 1 e una che sta tra 100 e 1000. Ma la sua attivazione può stare solo in un punto e questo potrebbe rendere difficile l'apprendimento di relazioni congiunte\n",
    "* I modello (G)LM hanno generalmente uno o più coefficenti per variabile quindi non necessitano di scaling. Intuitivamente questa operazione verrà effettuata dal coefficente collegato a ogni variabile\n",
    "* Gli alberi generano uno split in base a una sola variabile e sono quindi indipendenti dalla maggior parte dei problemi di scala (spesso anche all'interno della stessa variabile)\n",
    "\n",
    "La regole generale in questo caso è quindi di non scalare se non è necessario."
   ]
  },
  {
   "cell_type": "markdown",
   "metadata": {},
   "source": [
    "### Scelta dei modelli da considerare\n",
    "\n",
    "La decisione del tipo di modello dipende molto dalle caratteristiche della nostra variabile risposta.\n",
    "Nel nostro caso, `FLAG_GOODBAD` assume valore 0 o 1. È quindi un problema di classificazione binaria. Non siate tentati da usare un modello di regressione! Le stime verso gli orli della spazio campionario della variabile sarebbero molto imprecise!"
   ]
  },
  {
   "cell_type": "markdown",
   "metadata": {},
   "source": [
    "### Modello 1: regressione logistica\n",
    "\n",
    "Partiamo dal caso più semplice: una regressione logistica.\n",
    "\n",
    "La regressione logistica ha alcuni vantaggi:\n",
    "* Non risente del dataset sbilanciato\n",
    "* È interpretabile\n",
    "* È veloce da stimare\n",
    "* Ampie possibilità di regolarizzazione\n",
    "\n",
    "Ha alcuni problemi però:\n",
    "* Non gestisce gli NA\n",
    "* Forti assunzioni parametriche\n",
    "* Molto suscettibile ad outlier\n",
    "\n",
    "Procediamo quindi a gestire gli NA per questo modello. Essendo in presenza di un numero esiguo di colonne con NA, analizzeremo ogni variabile caso per caso."
   ]
  },
  {
   "cell_type": "code",
   "execution_count": 26,
   "metadata": {},
   "outputs": [
    {
     "name": "stdout",
     "output_type": "stream",
     "text": [
      "c_province                    4\n",
      "c_birth_region                1\n",
      "c_area_nielsen                1\n",
      "c_birth_area_nielsen          0\n",
      "c_marital_status              0\n",
      "c_housing_type                0\n",
      "c_monthly_pay                 0\n",
      "c_legal_type                  0\n",
      "c_gender                      0\n",
      "c_job                         0\n",
      "p_loan_type                   0\n",
      "p_activation_date             0\n",
      "p_end_date                    0\n",
      "p_product                     0\n",
      "p_sale_network                0\n",
      "p_sale_company                0\n",
      "p_product_price               0\n",
      "p_loan_value                  0\n",
      "p_num_installments            0\n",
      "p_installment_value           0\n",
      "p_payment_mean                0\n",
      "FLAG_GOODBAD                  0\n",
      "d_age                        28\n",
      "d_job_age                  4356\n",
      "d_sale_company_province       0\n",
      "dtype: int64\n"
     ]
    }
   ],
   "source": [
    "train_for_logistic = train.copy()\n",
    "test_for_logistic = test.copy() # Se l'avessimo fatto dopo la media sarebbe stata un leak!\n",
    "\n",
    "print(train_for_logistic.isna().sum())"
   ]
  },
  {
   "cell_type": "code",
   "execution_count": 27,
   "metadata": {},
   "outputs": [
    {
     "name": "stdout",
     "output_type": "stream",
     "text": [
      "count     41558\n",
      "unique      110\n",
      "top          RM\n",
      "freq       5565\n",
      "Name: c_province, dtype: object\n",
      "count     41561\n",
      "unique        6\n",
      "top           C\n",
      "freq      13040\n",
      "Name: c_area_nielsen, dtype: object\n",
      "count     41561\n",
      "unique       21\n",
      "top       Lazio\n",
      "freq       5981\n",
      "Name: c_birth_region, dtype: object\n"
     ]
    }
   ],
   "source": [
    "print(train_for_logistic['c_province'].describe())\n",
    "\n",
    "train_for_logistic.loc[train_for_logistic['c_province'].isna(),'c_province'] = \"NAN\" # NA sembra Napoli\n",
    "test_for_logistic.loc[test_for_logistic['c_province'].isna(),'c_province'] = \"NAN\"\n",
    "\n",
    "print(train_for_logistic['c_area_nielsen'].describe())\n",
    "\n",
    "train_for_logistic.loc[train_for_logistic['c_area_nielsen'].isna(),'c_area_nielsen'] = \"NA\"\n",
    "test_for_logistic.loc[test_for_logistic['c_area_nielsen'].isna(),'c_area_nielsen'] = \"NA\"\n",
    "\n",
    "print(train_for_logistic['c_birth_region'].describe())\n",
    "\n",
    "train_for_logistic.loc[train_for_logistic['c_birth_region'].isna(),'c_birth_region'] = \"NA\"\n",
    "test_for_logistic.loc[test_for_logistic['c_birth_region'].isna(),'c_birth_region'] = \"NA\""
   ]
  },
  {
   "cell_type": "code",
   "execution_count": 28,
   "metadata": {},
   "outputs": [
    {
     "name": "stdout",
     "output_type": "stream",
     "text": [
      "count    41534.000000\n",
      "mean        42.673984\n",
      "std         15.084193\n",
      "min         -2.358904\n",
      "25%         31.948630\n",
      "50%         43.027397\n",
      "75%         53.054795\n",
      "max        103.309589\n",
      "Name: d_age, dtype: float64\n",
      "42.77967228496845\n"
     ]
    }
   ],
   "source": [
    "print(train_for_logistic['d_age'].describe())\n",
    "\n",
    "trimmed_mean = scipy.stats.trim_mean(train_for_logistic.loc[~train_for_logistic['d_age'].isna(),'d_age'].values,0.1)\n",
    "\n",
    "print(trimmed_mean)\n",
    "\n",
    "train_for_logistic.loc[train_for_logistic['d_age'].isna(),'d_age'] = trimmed_mean\n",
    "test_for_logistic.loc[test_for_logistic['d_age'].isna(),'d_age'] = trimmed_mean\n",
    "\n",
    "train_for_logistic.loc[train_for_logistic['d_age'] < 18,'d_age'] = trimmed_mean\n",
    "test_for_logistic.loc[test_for_logistic['d_age'] < 18,'d_age'] = trimmed_mean"
   ]
  },
  {
   "cell_type": "code",
   "execution_count": 29,
   "metadata": {},
   "outputs": [
    {
     "name": "stdout",
     "output_type": "stream",
     "text": [
      "count    37206.000000\n",
      "mean         9.516429\n",
      "std          9.059224\n",
      "min          0.008219\n",
      "25%          2.353425\n",
      "50%          6.561644\n",
      "75%         13.857534\n",
      "max         66.794521\n",
      "Name: d_job_age, dtype: float64\n",
      "8.126461559985238\n"
     ]
    }
   ],
   "source": [
    "print(train_for_logistic['d_job_age'].describe())\n",
    "\n",
    "trimmed_mean = scipy.stats.trim_mean(train_for_logistic.loc[~train_for_logistic['d_job_age'].isna(),'d_job_age'].values,0.1)\n",
    "\n",
    "print(trimmed_mean)\n",
    "\n",
    "train_for_logistic.loc[train_for_logistic['d_job_age'].isna(),'d_job_age'] = trimmed_mean\n",
    "test_for_logistic.loc[test_for_logistic['d_job_age'].isna(),'d_job_age'] = trimmed_mean"
   ]
  },
  {
   "cell_type": "code",
   "execution_count": 30,
   "metadata": {},
   "outputs": [
    {
     "name": "stdout",
     "output_type": "stream",
     "text": [
      "c_province                 0\n",
      "c_birth_region             0\n",
      "c_area_nielsen             0\n",
      "c_birth_area_nielsen       0\n",
      "c_marital_status           0\n",
      "c_housing_type             0\n",
      "c_monthly_pay              0\n",
      "c_legal_type               0\n",
      "c_gender                   0\n",
      "c_job                      0\n",
      "p_loan_type                0\n",
      "p_activation_date          0\n",
      "p_end_date                 0\n",
      "p_product                  0\n",
      "p_sale_network             0\n",
      "p_sale_company             0\n",
      "p_product_price            0\n",
      "p_loan_value               0\n",
      "p_num_installments         0\n",
      "p_installment_value        0\n",
      "p_payment_mean             0\n",
      "FLAG_GOODBAD               0\n",
      "d_age                      0\n",
      "d_job_age                  0\n",
      "d_sale_company_province    0\n",
      "dtype: int64\n"
     ]
    }
   ],
   "source": [
    "print(train_for_logistic.isna().sum())"
   ]
  },
  {
   "cell_type": "markdown",
   "metadata": {},
   "source": [
    "#### One hot encoding"
   ]
  },
  {
   "cell_type": "code",
   "execution_count": 31,
   "metadata": {},
   "outputs": [
    {
     "data": {
      "text/plain": [
       "c_province                         object\n",
       "c_birth_region                     object\n",
       "c_area_nielsen                     object\n",
       "c_birth_area_nielsen               object\n",
       "c_marital_status                   object\n",
       "c_housing_type                     object\n",
       "c_monthly_pay                     float64\n",
       "c_legal_type                        int64\n",
       "c_gender                           object\n",
       "c_job                              object\n",
       "p_loan_type                        object\n",
       "p_activation_date          datetime64[ns]\n",
       "p_end_date                 datetime64[ns]\n",
       "p_product                          object\n",
       "p_sale_network                     object\n",
       "p_sale_company                     object\n",
       "p_product_price                   float64\n",
       "p_loan_value                      float64\n",
       "p_num_installments                  int64\n",
       "p_installment_value               float64\n",
       "p_payment_mean                     object\n",
       "FLAG_GOODBAD                        int64\n",
       "d_age                             float64\n",
       "d_job_age                         float64\n",
       "d_sale_company_province            object\n",
       "dtype: object"
      ]
     },
     "execution_count": 31,
     "metadata": {},
     "output_type": "execute_result"
    }
   ],
   "source": [
    "train_for_logistic.dtypes"
   ]
  },
  {
   "cell_type": "code",
   "execution_count": 32,
   "metadata": {},
   "outputs": [],
   "source": [
    "train_for_logistic.drop(['p_activation_date','p_end_date'],1,inplace=True)\n",
    "test_for_logistic.drop(['p_activation_date','p_end_date'],1,inplace=True)"
   ]
  },
  {
   "cell_type": "code",
   "execution_count": 33,
   "metadata": {},
   "outputs": [
    {
     "name": "stdout",
     "output_type": "stream",
     "text": [
      "Categorical variables: ['c_province' 'c_birth_region' 'c_area_nielsen' 'c_birth_area_nielsen'\n",
      " 'c_marital_status' 'c_housing_type' 'c_gender' 'c_job' 'p_loan_type'\n",
      " 'p_product' 'p_sale_network' 'p_sale_company' 'p_payment_mean'\n",
      " 'd_sale_company_province']\n",
      "Numerical variables: ['c_monthly_pay' 'c_legal_type' 'p_product_price' 'p_loan_value'\n",
      " 'p_num_installments' 'p_installment_value' 'FLAG_GOODBAD' 'd_age'\n",
      " 'd_job_age']\n",
      "(41562, 9)\n",
      "(41562, 313)\n"
     ]
    }
   ],
   "source": [
    "def one_hot_encode_df(df):\n",
    "    # Initialize OneHotEncoder\n",
    "    ohe = OneHotEncoder(handle_unknown='ignore',sparse=False)\n",
    "    # Categoria da codificare\n",
    "    dtypes_to_encode = ['object', 'category']\n",
    "    # Selezioniamo solo queste ultime\n",
    "    df_cat = df.select_dtypes(include=dtypes_to_encode).copy()\n",
    "    print(\"Categorical variables: \" + str(df_cat.columns.values))\n",
    "    # Teniamo da parte quelle numeriche\n",
    "    df_num = df.drop(df_cat.columns.values,1).copy()\n",
    "    print(\"Numerical variables: \" + str(df_num.columns.values))\n",
    "    # Stimiamo le trasformazioni e produciamo la codifica\n",
    "    df_enc = ohe.fit_transform(df_cat)\n",
    "    print(df_num.values.shape)\n",
    "    print(df_enc.shape)\n",
    "    # Concateniamo per colonne le due matrici ottenute\n",
    "    df_new = np.hstack((df_num.values, df_enc))\n",
    "    # Ci annotiamo i nomi delle variabili per eventuali diagnostiche successive\n",
    "    names = np.hstack((df_num.columns.values,ohe.get_feature_names()))\n",
    "    return df_new, ohe, names\n",
    "\n",
    "train_for_logistic_array, logistic_encoder, names = one_hot_encode_df(train_for_logistic)"
   ]
  },
  {
   "cell_type": "code",
   "execution_count": 34,
   "metadata": {},
   "outputs": [
    {
     "name": "stdout",
     "output_type": "stream",
     "text": [
      "(322,)\n",
      "['c_monthly_pay' 'c_legal_type' 'p_product_price' 'p_loan_value'\n",
      " 'p_num_installments' 'p_installment_value' 'FLAG_GOODBAD' 'd_age'\n",
      " 'd_job_age' 'x0_' 'x0_AG' 'x0_AL' 'x0_AN' 'x0_AO' 'x0_AP' 'x0_AQ' 'x0_AR'\n",
      " 'x0_AT' 'x0_AV' 'x0_BA' 'x0_BG' 'x0_BI' 'x0_BL' 'x0_BN' 'x0_BO' 'x0_BR'\n",
      " 'x0_BS' 'x0_BT' 'x0_BZ' 'x0_CA' 'x0_CB' 'x0_CE' 'x0_CH' 'x0_CL' 'x0_CN'\n",
      " 'x0_CO' 'x0_CR' 'x0_CS' 'x0_CT' 'x0_CZ' 'x0_EE' 'x0_EN' 'x0_FC' 'x0_FE'\n",
      " 'x0_FG' 'x0_FI' 'x0_FM' 'x0_FR' 'x0_GE' 'x0_GO' 'x0_GR' 'x0_IM' 'x0_IS'\n",
      " 'x0_KR' 'x0_LC' 'x0_LE' 'x0_LI' 'x0_LO' 'x0_LT' 'x0_LU' 'x0_MB' 'x0_MC'\n",
      " 'x0_ME' 'x0_MI' 'x0_MN' 'x0_MO' 'x0_MS' 'x0_MT' 'x0_NA' 'x0_NAN' 'x0_NO'\n",
      " 'x0_NU' 'x0_OR' 'x0_PA' 'x0_PC' 'x0_PD' 'x0_PE' 'x0_PG' 'x0_PI' 'x0_PN'\n",
      " 'x0_PO' 'x0_PR' 'x0_PS' 'x0_PT' 'x0_PU' 'x0_PV' 'x0_PZ' 'x0_RA' 'x0_RC'\n",
      " 'x0_RE' 'x0_RG' 'x0_RI' 'x0_RM' 'x0_RN' 'x0_RO' 'x0_SA' 'x0_SI' 'x0_SO'\n",
      " 'x0_SP' 'x0_SR' 'x0_SS' 'x0_SU' 'x0_SV' 'x0_TA' 'x0_TE' 'x0_TN' 'x0_TO'\n",
      " 'x0_TP' 'x0_TR' 'x0_TS' 'x0_TV' 'x0_UD' 'x0_VA' 'x0_VB' 'x0_VC' 'x0_VE'\n",
      " 'x0_VI' 'x0_VR' 'x0_VT' 'x0_VV' 'x1_Abruzzo' 'x1_Basilicata'\n",
      " 'x1_Calabria' 'x1_Campania' 'x1_Emilia Romagna' 'x1_Estero'\n",
      " 'x1_Friuli Venezia Giuli' 'x1_Lazio' 'x1_Liguria' 'x1_Lombardia'\n",
      " 'x1_Marche' 'x1_Molise' 'x1_NA' 'x1_Piemonte' 'x1_Puglia' 'x1_Sardegna'\n",
      " 'x1_Sicilia' 'x1_Toscana' 'x1_Trentino Alto Adige' 'x1_Umbria'\n",
      " \"x1_Valle D'Aosta\" 'x1_Veneto' 'x2_C' 'x2_E' 'x2_I' 'x2_NA' 'x2_NE'\n",
      " 'x2_NW' 'x2_S' 'x3_C' 'x3_E' 'x3_I' 'x3_NE' 'x3_NW' 'x3_S' 'x4_C' 'x4_D'\n",
      " 'x4_G' 'x4_S' 'x4_V' 'x4_X' 'x5_A' 'x5_C' 'x5_G' 'x5_P' 'x5_X' 'x6_F'\n",
      " 'x6_M' 'x6_U' 'x7_AG' 'x7_AR' 'x7_AT' 'x7_AU' 'x7_BB' 'x7_CA' 'x7_CC'\n",
      " 'x7_CF' 'x7_CL' 'x7_CO' 'x7_CT' 'x7_DI' 'x7_DS' 'x7_GG' 'x7_IF' 'x7_IM'\n",
      " 'x7_IN' 'x7_IV' 'x7_MI' 'x7_OP' 'x7_OS' 'x7_PA' 'x7_PE' 'x7_PF' 'x7_PR'\n",
      " 'x7_PS' 'x7_RA' 'x7_SL' 'x7_SO' 'x7_ST' 'x7_U' 'x7_WW' 'x7_XX' 'x8_PA'\n",
      " 'x9_1' 'x9_10' 'x9_17' 'x9_20' 'x9_3' 'x10_9999980.0' 'x10_9999990.0'\n",
      " 'x10_9999993.0' 'x10_9999994.0' 'x10_9999995.0' 'x10_9999996.0'\n",
      " 'x10_9999997.0' 'x10_9999999.0' 'x11_500' 'x11_502' 'x11_510' 'x11_511'\n",
      " 'x11_520' 'x11_525' 'x11_530' 'x11_531' 'x11_532' 'x11_535' 'x11_536'\n",
      " 'x11_539' 'x11_541' 'x11_545' 'x11_546' 'x11_547' 'x11_610' 'x11_620'\n",
      " 'x11_621' 'x11_700' 'x11_701' 'x11_702' 'x11_703' 'x11_705' 'x11_706'\n",
      " 'x11_707' 'x11_708' 'x11_710' 'x11_713' 'x11_714' 'x11_718' 'x11_720'\n",
      " 'x11_721' 'x11_723' 'x11_724' 'x11_730' 'x11_731' 'x11_735' 'x11_737'\n",
      " 'x11_740' 'x11_750' 'x11_760' 'x11_761' 'x11_800' 'x11_801' 'x11_802'\n",
      " 'x11_803' 'x11_810' 'x11_811' 'x11_812' 'x11_813' 'x11_814' 'x11_815'\n",
      " 'x11_820' 'x11_821' 'x11_822' 'x11_834' 'x11_835' 'x11_836' 'x11_841'\n",
      " 'x11_850' 'x11_852' 'x11_860' 'x11_861' 'x11_866' 'x12_BP' 'x12_RI'\n",
      " 'x12_RP' 'x13_AQ' 'x13_BA' 'x13_BI' 'x13_BO' 'x13_BR' 'x13_BS' 'x13_CA'\n",
      " 'x13_CE' 'x13_CO' 'x13_CT' 'x13_CZ' 'x13_FI' 'x13_GE' 'x13_LA' 'x13_MB'\n",
      " 'x13_ME' 'x13_MI' 'x13_MS' 'x13_NA' 'x13_NO' 'x13_NU' 'x13_PA' 'x13_PE'\n",
      " 'x13_PI' 'x13_PZ' 'x13_RC' 'x13_RG' 'x13_RM' 'x13_SA' 'x13_SS' 'x13_TA'\n",
      " 'x13_TN' 'x13_TO' 'x13_U' 'x13_VA' 'x13_VE' 'x13_VR' 'x13_ex Fia-RM']\n"
     ]
    }
   ],
   "source": [
    "print(names.shape)\n",
    "print(names)"
   ]
  },
  {
   "cell_type": "code",
   "execution_count": 35,
   "metadata": {},
   "outputs": [],
   "source": [
    "y = train_for_logistic_array[:,names == \"FLAG_GOODBAD\"]\n",
    "X = train_for_logistic_array[:,names != \"FLAG_GOODBAD\"]\n",
    "covariate_names = names[names != \"FLAG_GOODBAD\"]\n",
    "X = X.astype(float)"
   ]
  },
  {
   "cell_type": "code",
   "execution_count": 36,
   "metadata": {},
   "outputs": [],
   "source": [
    "# logit_model=sm.Logit(y,X)\n",
    "# result=logit_model.fit()\n",
    "# print(result.summary2())"
   ]
  },
  {
   "cell_type": "code",
   "execution_count": 37,
   "metadata": {},
   "outputs": [],
   "source": [
    "logistic_model=LogisticRegression(random_state=0, solver='lbfgs', max_iter=1000).fit(X, y.ravel())"
   ]
  },
  {
   "cell_type": "code",
   "execution_count": 38,
   "metadata": {
    "scrolled": false
   },
   "outputs": [
    {
     "name": "stdout",
     "output_type": "stream",
     "text": [
      "intercept: [-0.24880471]\n",
      "(321,)\n",
      "c_monthly_pay coefficient: 7.762379928954006e-05\n",
      "c_legal_type coefficient: 0.148709883817419\n",
      "p_product_price coefficient: -5.35626538399577e-05\n",
      "p_loan_value coefficient: 0.00019631147813942525\n",
      "p_num_installments coefficient: 0.015331420618688366\n",
      "p_installment_value coefficient: -0.007088875014446762\n",
      "d_age coefficient: -0.020900448092277982\n",
      "d_job_age coefficient: -0.028148576587772305\n",
      "x0_ coefficient: -4.450960456938828e-05\n",
      "x0_AG coefficient: 0.006359662550784139\n",
      "x0_AL coefficient: -0.0003169101213951761\n",
      "x0_AN coefficient: -0.004584625682919719\n",
      "x0_AO coefficient: -0.001362661892775189\n",
      "x0_AP coefficient: 0.0008923257082845334\n",
      "x0_AQ coefficient: -0.000780371615310342\n",
      "x0_AR coefficient: -0.009801584787220877\n",
      "x0_AT coefficient: -0.0031756386120146574\n",
      "x0_AV coefficient: 0.0003186278376205939\n",
      "x0_BA coefficient: 0.011731236175267423\n",
      "x0_BG coefficient: -0.007441121676981681\n",
      "x0_BI coefficient: -3.390177841371278e-05\n",
      "x0_BL coefficient: -0.0008873727126225095\n",
      "x0_BN coefficient: -0.0002794537636625923\n",
      "x0_BO coefficient: 0.006054684193208794\n",
      "x0_BR coefficient: -0.0005401485147664933\n",
      "x0_BS coefficient: 0.004962726657079113\n",
      "x0_BT coefficient: -0.0014966715209385677\n",
      "x0_BZ coefficient: -0.012415405149812384\n",
      "x0_CA coefficient: -0.012395277134179067\n",
      "x0_CB coefficient: -0.0007629971440145148\n",
      "x0_CE coefficient: 0.00530061110550628\n",
      "x0_CH coefficient: 0.003934805944923426\n",
      "x0_CL coefficient: 0.009220209950674449\n",
      "x0_CN coefficient: -0.0076079725879945\n",
      "x0_CO coefficient: -0.004522477928507916\n",
      "x0_CR coefficient: 0.00234103201503349\n",
      "x0_CS coefficient: -0.0004827991671247961\n",
      "x0_CT coefficient: 0.01317659868939374\n",
      "x0_CZ coefficient: 0.0013048500867843611\n",
      "x0_EE coefficient: 0.001270805293129225\n",
      "x0_EN coefficient: -0.00012113047560024589\n",
      "x0_FC coefficient: 0.0016492340087581683\n",
      "x0_FE coefficient: -0.007049297453736071\n",
      "x0_FG coefficient: 0.008828472007473743\n",
      "x0_FI coefficient: -0.034144086545933525\n",
      "x0_FM coefficient: 0.0006239760167793615\n",
      "x0_FR coefficient: 0.004339528606025948\n",
      "x0_GE coefficient: -0.0007791462960565338\n",
      "x0_GO coefficient: -0.0007995803266449173\n",
      "x0_GR coefficient: -4.082968814320283e-05\n",
      "x0_IM coefficient: 0.002846868327399421\n",
      "x0_IS coefficient: -0.0006556929370330056\n",
      "x0_KR coefficient: 0.0036943103188939682\n",
      "x0_LC coefficient: -0.009903600472268511\n",
      "x0_LE coefficient: 0.0021097755668938478\n",
      "x0_LI coefficient: -0.01650474358535329\n",
      "x0_LO coefficient: 0.0030887395080754047\n",
      "x0_LT coefficient: -0.0062655265299560135\n",
      "x0_LU coefficient: 0.004921134964346757\n",
      "x0_MB coefficient: -0.022963366143714446\n",
      "x0_MC coefficient: -0.0008048675025529555\n",
      "x0_ME coefficient: 0.01273141960184834\n",
      "x0_MI coefficient: -0.0007904708422591617\n",
      "x0_MN coefficient: -0.002412889208314389\n",
      "x0_MO coefficient: 0.0031265948535229423\n",
      "x0_MS coefficient: -0.0013284505069657108\n",
      "x0_MT coefficient: -0.0013475448494450148\n",
      "x0_NA coefficient: 0.08884527950088755\n",
      "x0_NAN coefficient: -0.00026737050985853653\n",
      "x0_NO coefficient: -0.03815093303260752\n",
      "x0_NU coefficient: -0.0005991109555625184\n",
      "x0_OR coefficient: -0.0022918345556339897\n",
      "x0_PA coefficient: 0.04054182912156323\n",
      "x0_PC coefficient: -0.0005438275410707153\n",
      "x0_PD coefficient: -0.031092881036910762\n",
      "x0_PE coefficient: 0.003130740039572379\n",
      "x0_PG coefficient: -0.013859523032477282\n",
      "x0_PI coefficient: 0.008640839917363119\n",
      "x0_PN coefficient: -0.005397829261718614\n",
      "x0_PO coefficient: -0.005578282344581533\n",
      "x0_PR coefficient: -0.0008354557253862292\n",
      "x0_PS coefficient: -7.321820300321037e-05\n",
      "x0_PT coefficient: -0.003182026690014816\n",
      "x0_PU coefficient: 0.002842915625147333\n",
      "x0_PV coefficient: 0.005381339624504967\n",
      "x0_PZ coefficient: -0.002362354175218328\n",
      "x0_RA coefficient: -0.0017579889717813696\n",
      "x0_RC coefficient: 0.04970075994846905\n",
      "x0_RE coefficient: -0.0012375637027235151\n",
      "x0_RG coefficient: -0.00893907951113434\n",
      "x0_RI coefficient: -0.000985613331104069\n",
      "x0_RM coefficient: 0.051959119182004555\n",
      "x0_RN coefficient: 0.004615612654697498\n",
      "x0_RO coefficient: -0.006226889678705434\n",
      "x0_SA coefficient: 0.0015084916953250873\n",
      "x0_SI coefficient: 0.0015918400603086565\n",
      "x0_SO coefficient: -0.008544832569253669\n",
      "x0_SP coefficient: 0.00029715173581353516\n",
      "x0_SR coefficient: 0.0037327547718047326\n",
      "x0_SS coefficient: 0.020381941150823108\n",
      "x0_SU coefficient: -0.026488706536856733\n",
      "x0_SV coefficient: 0.001435122962425149\n",
      "x0_TA coefficient: 0.0006197081073729031\n",
      "x0_TE coefficient: 0.0025247842525937246\n",
      "x0_TN coefficient: -0.05122844447287577\n",
      "x0_TO coefficient: -0.06643767404278865\n",
      "x0_TP coefficient: 0.00047194121331831524\n",
      "x0_TR coefficient: -0.0018545380394440543\n",
      "x0_TS coefficient: -0.0005011248556717576\n",
      "x0_TV coefficient: -0.032357139944209336\n",
      "x0_UD coefficient: -0.006817684896607079\n",
      "x0_VA coefficient: -0.013320543893442926\n",
      "x0_VB coefficient: 0.00041961906325585567\n",
      "x0_VC coefficient: -0.0035280730873375444\n",
      "x0_VE coefficient: -0.05590720432670782\n",
      "x0_VI coefficient: -0.005408901112635044\n",
      "x0_VR coefficient: -0.07650490138125528\n",
      "x0_VT coefficient: -0.008817384039662262\n",
      "x0_VV coefficient: 0.0036711954347494846\n",
      "x1_Abruzzo coefficient: -0.005435232279443252\n",
      "x1_Basilicata coefficient: -0.007814484579691878\n",
      "x1_Calabria coefficient: 0.061506860349358095\n",
      "x1_Campania coefficient: 0.09019696618886891\n",
      "x1_Emilia Romagna coefficient: -0.010894764498778043\n",
      "x1_Estero coefficient: 0.18119490671023467\n",
      "x1_Friuli Venezia Giuli coefficient: -0.01146843394037174\n",
      "x1_Lazio coefficient: -0.027105774913329835\n",
      "x1_Liguria coefficient: 0.0029894153012150404\n",
      "x1_Lombardia coefficient: -0.082114811454682\n",
      "x1_Marche coefficient: -0.011079924297874766\n",
      "x1_Molise coefficient: 0.0007276535068193455\n",
      "x1_NA coefficient: -3.0431475908361466e-05\n",
      "x1_Piemonte coefficient: -0.13412204386042087\n",
      "x1_Puglia coefficient: 0.008412731483511567\n",
      "x1_Sardegna coefficient: -0.02611234458516809\n",
      "x1_Sicilia coefficient: 0.06884544764235014\n",
      "x1_Toscana coefficient: -0.08445013849964901\n",
      "x1_Trentino Alto Adige coefficient: -0.045001174005186544\n",
      "x1_Umbria coefficient: -0.02010606019657983\n",
      "x1_Valle D'Aosta coefficient: -0.0007616707371720681\n",
      "x1_Veneto coefficient: -0.19617753602714158\n",
      "x2_C coefficient: -0.032013620429259065\n",
      "x2_E coefficient: -0.025529781358146396\n",
      "x2_I coefficient: 0.08226992441825551\n",
      "x2_NA coefficient: -3.0431475908361466e-05\n",
      "x2_NE coefficient: -0.2815233668396277\n",
      "x2_NW coefficient: -0.17048918281801573\n",
      "x2_S coefficient: 0.17851561433453564\n",
      "x3_C coefficient: -0.14274189790661138\n",
      "x3_E coefficient: 0.18119490671023467\n",
      "x3_I coefficient: 0.042733103056817615\n",
      "x3_NE coefficient: -0.2635419084739366\n",
      "x3_NW coefficient: -0.21403954222739044\n",
      "x3_S coefficient: 0.14759449466943617\n",
      "x4_C coefficient: -0.25905146510265403\n",
      "x4_D coefficient: 0.01812570326418295\n",
      "x4_G coefficient: -0.2098798595465805\n",
      "x4_S coefficient: 0.0706764428400518\n",
      "x4_V coefficient: 0.03950812492568267\n",
      "x4_X coefficient: 0.0918202094514861\n",
      "x5_A coefficient: 0.21198143077742565\n",
      "x5_C coefficient: -0.0056595370072709305\n",
      "x5_G coefficient: -0.24332876256298164\n",
      "x5_P coefficient: -0.3510604264569178\n",
      "x5_X coefficient: 0.1392664510809741\n",
      "x6_F coefficient: -0.4085663506697815\n",
      "x6_M coefficient: 0.011920114006256107\n",
      "x6_U coefficient: 0.1478453924933533\n",
      "x7_AG coefficient: 0.00882064446342429\n",
      "x7_AR coefficient: -0.00021175102630003576\n",
      "x7_AT coefficient: 0.12783641091324502\n",
      "x7_AU coefficient: 0.0243570361985961\n",
      "x7_BB coefficient: 0.0017768365562378767\n",
      "x7_CA coefficient: -0.042100527550885586\n",
      "x7_CC coefficient: -0.021574496372104006\n",
      "x7_CF coefficient: -0.04384989397286053\n",
      "x7_CL coefficient: -0.002328091118724133\n",
      "x7_CO coefficient: 0.09238834454784842\n",
      "x7_CT coefficient: -0.11553632132666579\n",
      "x7_DI coefficient: -0.0011615801578068149\n",
      "x7_DS coefficient: -0.020051126859132996\n",
      "x7_GG coefficient: 0.007076706673713611\n",
      "x7_IF coefficient: -0.032105453654536424\n",
      "x7_IM coefficient: -0.28966536039142\n",
      "x7_IN coefficient: -0.040118026897382385\n",
      "x7_IV coefficient: 0.005632007860322943\n",
      "x7_MI coefficient: -0.023557156300412163\n",
      "x7_OP coefficient: -0.05790143155369813\n",
      "x7_OS coefficient: -0.0017433580218207422\n",
      "x7_PA coefficient: -0.0015007289550838933\n",
      "x7_PE coefficient: 0.03041428717486245\n",
      "x7_PF coefficient: -0.0005310053618922752\n",
      "x7_PR coefficient: -0.013025296537300153\n",
      "x7_PS coefficient: -0.009475562759757425\n",
      "x7_RA coefficient: -0.0035214274389123875\n",
      "x7_SL coefficient: -0.006948620989995743\n",
      "x7_SO coefficient: 0.10911444794014453\n",
      "x7_ST coefficient: -0.050700089747394456\n",
      "x7_U coefficient: 0.1340521536985351\n",
      "x7_WW coefficient: -0.0019286194008008117\n",
      "x7_XX coefficient: -0.010733793799291997\n",
      "x8_PA coefficient: -0.2488008441691485\n",
      "x9_1 coefficient: -0.3213305713817889\n",
      "x9_10 coefficient: -0.09841447724399972\n",
      "x9_17 coefficient: 0.024441149940978103\n",
      "x9_20 coefficient: 0.14818059534831693\n",
      "x9_3 coefficient: -0.0016775408320429043\n",
      "x10_9999980.0 coefficient: 0.010451166452139924\n",
      "x10_9999990.0 coefficient: 0.06785045132254189\n",
      "x10_9999993.0 coefficient: 0.006392634261442497\n",
      "x10_9999994.0 coefficient: 0.002295554809756487\n",
      "x10_9999995.0 coefficient: 0.005557386129664819\n",
      "x10_9999996.0 coefficient: 0.026330303724173058\n",
      "x10_9999997.0 coefficient: 0.06078017889897317\n",
      "x10_9999999.0 coefficient: -0.42845851976965\n",
      "x11_500 coefficient: -0.07603491397650143\n",
      "x11_502 coefficient: 0.0011435465041107745\n",
      "x11_510 coefficient: -0.011819251564064501\n",
      "x11_511 coefficient: 0.008559825510087812\n",
      "x11_520 coefficient: -0.03610507589896083\n",
      "x11_525 coefficient: -0.00016150071394910282\n",
      "x11_530 coefficient: -0.011537998995025613\n",
      "x11_531 coefficient: -0.011054193304003194\n",
      "x11_532 coefficient: 0.009339104462765788\n",
      "x11_535 coefficient: -0.025921266942157767\n",
      "x11_536 coefficient: -0.02399711068928655\n",
      "x11_539 coefficient: 0.00025357885283520075\n",
      "x11_541 coefficient: 0.0034456532968797715\n",
      "x11_545 coefficient: 0.0010881942279549223\n",
      "x11_546 coefficient: -6.425607186853637e-05\n",
      "x11_547 coefficient: 0.0012289020029572814\n",
      "x11_610 coefficient: -0.13509899829211694\n",
      "x11_620 coefficient: -0.15466645277561133\n",
      "x11_621 coefficient: -0.00024315981534102753\n",
      "x11_700 coefficient: 0.011578448276375256\n",
      "x11_701 coefficient: -0.0036495172825692867\n",
      "x11_702 coefficient: -0.004800867298831849\n",
      "x11_703 coefficient: 0.00033376892821822805\n",
      "x11_705 coefficient: 3.8485206101805065e-05\n",
      "x11_706 coefficient: 0.002249885581048154\n",
      "x11_707 coefficient: -0.0009517707045348935\n",
      "x11_708 coefficient: 0.027469917802268148\n",
      "x11_710 coefficient: -0.04437158761966618\n",
      "x11_713 coefficient: 0.029281464047043772\n",
      "x11_714 coefficient: -0.00034923563051888015\n",
      "x11_718 coefficient: 0.004369836960580233\n",
      "x11_720 coefficient: 0.0043800532724761285\n",
      "x11_721 coefficient: -0.000850287448547984\n",
      "x11_723 coefficient: 0.0013572731004157933\n",
      "x11_724 coefficient: 0.0017895524145251402\n",
      "x11_730 coefficient: -0.01627968716512497\n",
      "x11_731 coefficient: -0.00018670910900365543\n",
      "x11_735 coefficient: -0.006131294056556122\n",
      "x11_737 coefficient: -0.014777866808027191\n",
      "x11_740 coefficient: -0.023978584308881255\n",
      "x11_750 coefficient: -0.009507174396014763\n",
      "x11_760 coefficient: -0.00022448077363458884\n",
      "x11_761 coefficient: 0.0001373580425530025\n",
      "x11_800 coefficient: 0.005785466955701635\n",
      "x11_801 coefficient: 0.0011445090038543282\n",
      "x11_802 coefficient: 0.004068145189846016\n",
      "x11_803 coefficient: 0.009854953589491313\n",
      "x11_810 coefficient: 0.009184175323817685\n",
      "x11_811 coefficient: -0.00023239746916479481\n",
      "x11_812 coefficient: 0.00021064964581559543\n",
      "x11_813 coefficient: -0.00020001073475545706\n",
      "x11_814 coefficient: 0.00048754971136839197\n",
      "x11_815 coefficient: 0.06811116805020476\n",
      "x11_820 coefficient: 0.01857723418802387\n",
      "x11_821 coefficient: -0.00032263088103981307\n",
      "x11_822 coefficient: -0.00020363520325253232\n",
      "x11_834 coefficient: -0.0006791323104081688\n",
      "x11_835 coefficient: 0.0008163829058152647\n",
      "x11_836 coefficient: 0.05978118016545114\n",
      "x11_841 coefficient: 0.00019199047986268007\n",
      "x11_850 coefficient: 0.0402692952757461\n",
      "x11_852 coefficient: 0.002018486068750093\n",
      "x11_860 coefficient: 0.014631301302233597\n",
      "x11_861 coefficient: 0.013208972525174573\n",
      "x11_866 coefficient: 0.00921389519979362\n",
      "x12_BP coefficient: 0.8904014274494559\n",
      "x12_RI coefficient: -1.0381185749340702\n",
      "x12_RP coefficient: -0.1010836966885166\n",
      "x13_AQ coefficient: -0.000850287448547984\n",
      "x13_BA coefficient: 0.019255374977967813\n",
      "x13_BI coefficient: -0.0258908354663039\n",
      "x13_BO coefficient: -0.009507174396014763\n",
      "x13_BR coefficient: -0.0005262660842940541\n",
      "x13_BS coefficient: 0.0034456532968797715\n",
      "x13_CA coefficient: -0.04437158761966618\n",
      "x13_CE coefficient: 0.06811116805020476\n",
      "x13_CO coefficient: 0.001023938156096457\n",
      "x13_CT coefficient: 0.014631301302233597\n",
      "x13_CZ coefficient: 0.0008163829058152647\n",
      "x13_FI coefficient: -0.0209091608647111\n",
      "x13_GE coefficient: -0.003259426053966579\n",
      "x13_LA coefficient: -0.004800867298831849\n",
      "x13_MB coefficient: 0.0014824808557955624\n",
      "x13_ME coefficient: 0.013208972525174573\n",
      "x13_MI coefficient: -0.03626657661299508\n",
      "x13_MS coefficient: -0.00018670910900365543\n",
      "x13_NA coefficient: 0.020653064004070302\n",
      "x13_NO coefficient: -0.02399711068928655\n",
      "x13_NU coefficient: -0.00034923563051888015\n",
      "x13_PA coefficient: 0.04228778134438782\n",
      "x13_PE coefficient: -0.019406540556460298\n",
      "x13_PI coefficient: -0.01627968716512497\n",
      "x13_PZ coefficient: 0.00021064964581559543\n",
      "x13_RC coefficient: 0.05978118016545114\n",
      "x13_RG coefficient: 0.00921389519979362\n",
      "x13_RM coefficient: 0.03876827752695192\n",
      "x13_SA coefficient: 0.009439327566069544\n",
      "x13_SS coefficient: 0.029281464047043772\n",
      "x13_TA coefficient: 0.0017895524145251402\n",
      "x13_TN coefficient: -0.00024315981534102753\n",
      "x13_TO coefficient: -0.07489136747281211\n",
      "x13_U coefficient: 0.002219454105137067\n",
      "x13_VA coefficient: -0.013253087836093243\n",
      "x13_VE coefficient: -0.13509899829211694\n",
      "x13_VR coefficient: -0.15466645277561133\n",
      "x13_ex Fia-RM coefficient: 0.00033376892821822805\n"
     ]
    }
   ],
   "source": [
    "print('intercept:', logistic_model.intercept_)\n",
    "coefficients = logistic_model.coef_[0,:]\n",
    "print(coefficients.shape)\n",
    "for i, name in enumerate(covariate_names):\n",
    "    print(name + ' coefficient:',coefficients[i])"
   ]
  },
  {
   "cell_type": "code",
   "execution_count": 39,
   "metadata": {},
   "outputs": [],
   "source": [
    "def one_hot_encode_test(test, encoder):\n",
    "    test_cat = test.select_dtypes(include=['object', 'category']).copy()\n",
    "    test_num = test.drop(test_cat.columns.values,1).copy()\n",
    "    test_cat = encoder.transform(test_cat)\n",
    "    test_new = np.hstack((test_num.values, test_cat))\n",
    "    return test_new"
   ]
  },
  {
   "cell_type": "code",
   "execution_count": 40,
   "metadata": {},
   "outputs": [],
   "source": [
    "test_for_logistic_array = one_hot_encode_test(test_for_logistic,logistic_encoder)\n",
    "y_test = test_for_logistic_array[:,names == \"FLAG_GOODBAD\"]\n",
    "X_test = test_for_logistic_array[:,names != \"FLAG_GOODBAD\"]"
   ]
  },
  {
   "cell_type": "code",
   "execution_count": 41,
   "metadata": {},
   "outputs": [
    {
     "data": {
      "text/plain": [
       "0.934269119070668"
      ]
     },
     "execution_count": 41,
     "metadata": {},
     "output_type": "execute_result"
    }
   ],
   "source": [
    "logistic_model.score(X_test, y_test)"
   ]
  },
  {
   "cell_type": "code",
   "execution_count": 42,
   "metadata": {},
   "outputs": [],
   "source": [
    "pred = logistic_model.predict_proba(X_test)"
   ]
  },
  {
   "cell_type": "code",
   "execution_count": 43,
   "metadata": {},
   "outputs": [
    {
     "data": {
      "text/plain": [
       "array([[9574,   43],\n",
       "       [ 636,   77]])"
      ]
     },
     "execution_count": 43,
     "metadata": {},
     "output_type": "execute_result"
    }
   ],
   "source": [
    "metrics.confusion_matrix(y_test,pred[:,1]>0.5)"
   ]
  },
  {
   "cell_type": "code",
   "execution_count": 44,
   "metadata": {},
   "outputs": [
    {
     "data": {
      "text/plain": [
       "0.8077418421475178"
      ]
     },
     "execution_count": 44,
     "metadata": {},
     "output_type": "execute_result"
    }
   ],
   "source": [
    "fpr, tpr, thresholds = metrics.roc_curve(y_test.ravel(), pred[:,1])\n",
    "metrics.auc(fpr, tpr)"
   ]
  },
  {
   "cell_type": "code",
   "execution_count": 45,
   "metadata": {},
   "outputs": [
    {
     "data": {
      "image/png": "[encoded data removed]",
      "text/plain": [
       "<Figure size 720x576 with 1 Axes>"
      ]
     },
     "metadata": {
      "needs_background": "light"
     },
     "output_type": "display_data"
    }
   ],
   "source": [
    "plt.figure(figsize = (10, 8))\n",
    "lw = 2\n",
    "plt.plot(fpr, tpr, color='darkorange',\n",
    "         lw=lw, label='ROC curve (area = %0.2f)' % metrics.auc(fpr, tpr))\n",
    "plt.plot([0, 1], [0, 1], color='navy', lw=lw, linestyle='--')\n",
    "plt.xlim([0.0, 1.0])\n",
    "plt.ylim([0.0, 1.05])\n",
    "plt.xlabel('False Positive Rate')\n",
    "plt.ylabel('True Positive Rate')\n",
    "plt.title('Receiver operating characteristic example')\n",
    "plt.legend(loc=\"lower right\")\n",
    "plt.show()"
   ]
  },
  {
   "cell_type": "code",
   "execution_count": 46,
   "metadata": {},
   "outputs": [
    {
     "data": {
      "text/plain": [
       "Text(0.5,1,'2-class Precision-Recall curve: AP=0.35')"
      ]
     },
     "execution_count": 46,
     "metadata": {},
     "output_type": "execute_result"
    },
    {
     "data": {
      "image/png": "[encoded data removed]",
      "text/plain": [
       "<Figure size 720x576 with 1 Axes>"
      ]
     },
     "metadata": {
      "needs_background": "light"
     },
     "output_type": "display_data"
    }
   ],
   "source": [
    "precision, recall, _ = metrics.precision_recall_curve(y_test.ravel(), pred[:,1])\n",
    "\n",
    "average_precision = metrics.average_precision_score(y_test, pred[:,1])\n",
    "plt.figure(figsize = (10, 8))\n",
    "step_kwargs = ({'step': 'post'}\n",
    "               if 'step' in signature(plt.fill_between).parameters\n",
    "               else {})\n",
    "plt.step(recall, precision, color='b', alpha=0.2,\n",
    "         where='post')\n",
    "plt.fill_between(recall, precision, alpha=0.2, color='b', **step_kwargs)\n",
    "\n",
    "plt.xlabel('Recall')\n",
    "plt.ylabel('Precision')\n",
    "plt.ylim([0.0, 1.05])\n",
    "plt.xlim([0.0, 1.0])\n",
    "plt.title('2-class Precision-Recall curve: AP={0:0.2f}'.format(\n",
    "          average_precision))"
   ]
  },
  {
   "cell_type": "code",
   "execution_count": null,
   "metadata": {},
   "outputs": [],
   "source": []
  },
  {
   "cell_type": "markdown",
   "metadata": {},
   "source": [
    "### Modello 2: random forest\n",
    "\n",
    "Passiamo al primo modello di machine learning. Con le sue limitazioni, le random forest sono un buon benchmark di partenza.\n",
    "\n",
    "Alcuni vantaggi:\n",
    "* Stimatore non lineare\n",
    "* Limitati iperparametri da gestire\n",
    "* Inclusa importanza variabili e verifica bontà di adattamento\n",
    "* Resistente outlier\n",
    "* Gestisce gli NA\n",
    "* Può ribilanciare le classi automaticamente\n",
    "\n",
    "Procediamo quindi a gestire gli NA per questo modello e ad affinarne il workflow."
   ]
  },
  {
   "cell_type": "code",
   "execution_count": 47,
   "metadata": {},
   "outputs": [],
   "source": [
    "train_for_rf = train.copy()\n",
    "test_for_rf = test.copy() \n",
    "train_for_rf.drop(['p_activation_date','p_end_date'],1,inplace=True)\n",
    "test_for_rf.drop(['p_activation_date','p_end_date'],1,inplace=True)"
   ]
  },
  {
   "cell_type": "code",
   "execution_count": 48,
   "metadata": {},
   "outputs": [],
   "source": [
    "train_for_rf.loc[train_for_rf['c_province'].isna(),'c_province'] = \"NAN\"\n",
    "test_for_rf.loc[test_for_rf['c_province'].isna(),'c_province'] = \"NAN\"\n",
    "train_for_rf.loc[train_for_rf['c_area_nielsen'].isna(),'c_area_nielsen'] = \"NA\"\n",
    "test_for_rf.loc[test_for_rf['c_area_nielsen'].isna(),'c_area_nielsen'] = \"NA\"\n",
    "\n",
    "train_for_rf.loc[train_for_rf['c_birth_region'].isna(),'c_birth_region'] = \"NA\"\n",
    "test_for_rf.loc[test_for_rf['c_birth_region'].isna(),'c_birth_region'] = \"NA\""
   ]
  },
  {
   "cell_type": "code",
   "execution_count": 49,
   "metadata": {},
   "outputs": [],
   "source": [
    "train_for_rf.loc[train_for_rf['d_age'].isna(),'d_age'] = -1\n",
    "test_for_rf.loc[test_for_rf['d_age'].isna(),'d_age'] = -1"
   ]
  },
  {
   "cell_type": "code",
   "execution_count": 50,
   "metadata": {},
   "outputs": [],
   "source": [
    "train_for_rf.loc[train_for_rf['d_job_age'].isna(),'d_job_age'] = -1\n",
    "test_for_rf.loc[test_for_rf['d_job_age'].isna(),'d_job_age'] = -1"
   ]
  },
  {
   "cell_type": "code",
   "execution_count": 51,
   "metadata": {},
   "outputs": [
    {
     "name": "stdout",
     "output_type": "stream",
     "text": [
      "Categorical variables: ['c_province' 'c_birth_region' 'c_area_nielsen' 'c_birth_area_nielsen'\n",
      " 'c_marital_status' 'c_housing_type' 'c_gender' 'c_job' 'p_loan_type'\n",
      " 'p_product' 'p_sale_network' 'p_sale_company' 'p_payment_mean'\n",
      " 'd_sale_company_province']\n",
      "Numerical variables: ['c_monthly_pay' 'c_legal_type' 'p_product_price' 'p_loan_value'\n",
      " 'p_num_installments' 'p_installment_value' 'FLAG_GOODBAD' 'd_age'\n",
      " 'd_job_age']\n",
      "(41562, 9)\n",
      "(41562, 313)\n"
     ]
    }
   ],
   "source": [
    "train_for_rf_array, rf_encoder, names = one_hot_encode_df(train_for_rf)"
   ]
  },
  {
   "cell_type": "code",
   "execution_count": 52,
   "metadata": {},
   "outputs": [],
   "source": [
    "y = train_for_rf_array[:,names == \"FLAG_GOODBAD\"]\n",
    "X = train_for_rf_array[:,names != \"FLAG_GOODBAD\"]"
   ]
  },
  {
   "cell_type": "code",
   "execution_count": 53,
   "metadata": {},
   "outputs": [],
   "source": [
    "rf_model=RandomForestClassifier(n_estimators=150, max_depth=3,random_state=0, class_weight='balanced').fit(X, y.ravel())"
   ]
  },
  {
   "cell_type": "code",
   "execution_count": 54,
   "metadata": {},
   "outputs": [],
   "source": [
    "test_for_rf_array = one_hot_encode_test(test_for_rf,rf_encoder)\n",
    "y_test = test_for_rf_array[:,names == \"FLAG_GOODBAD\"]\n",
    "X_test = test_for_rf_array[:,names != \"FLAG_GOODBAD\"]"
   ]
  },
  {
   "cell_type": "code",
   "execution_count": 55,
   "metadata": {},
   "outputs": [
    {
     "data": {
      "text/plain": [
       "0.755082284607938"
      ]
     },
     "execution_count": 55,
     "metadata": {},
     "output_type": "execute_result"
    }
   ],
   "source": [
    "rf_model.score(X_test, y_test)"
   ]
  },
  {
   "cell_type": "code",
   "execution_count": 56,
   "metadata": {},
   "outputs": [],
   "source": [
    "pred = rf_model.predict_proba(X_test)"
   ]
  },
  {
   "cell_type": "code",
   "execution_count": 57,
   "metadata": {},
   "outputs": [
    {
     "data": {
      "text/plain": [
       "array([[7327, 2290],\n",
       "       [ 240,  473]])"
      ]
     },
     "execution_count": 57,
     "metadata": {},
     "output_type": "execute_result"
    }
   ],
   "source": [
    "metrics.confusion_matrix(y_test,pred[:,1]>0.5)"
   ]
  },
  {
   "cell_type": "code",
   "execution_count": 58,
   "metadata": {},
   "outputs": [
    {
     "data": {
      "text/plain": [
       "0.7931514013359641"
      ]
     },
     "execution_count": 58,
     "metadata": {},
     "output_type": "execute_result"
    }
   ],
   "source": [
    "fpr, tpr, thresholds = metrics.roc_curve(y_test.ravel(), pred[:,1])\n",
    "metrics.auc(fpr, tpr)"
   ]
  },
  {
   "cell_type": "code",
   "execution_count": 59,
   "metadata": {},
   "outputs": [
    {
     "name": "stdout",
     "output_type": "stream",
     "text": [
      "x12_BP\n"
     ]
    }
   ],
   "source": [
    "print(covariate_names[np.argmax(rf_model.feature_importances_)])"
   ]
  },
  {
   "cell_type": "code",
   "execution_count": 60,
   "metadata": {},
   "outputs": [
    {
     "data": {
      "image/png": "[encoded data removed]",
      "text/plain": [
       "<Figure size 720x576 with 1 Axes>"
      ]
     },
     "metadata": {
      "needs_background": "light"
     },
     "output_type": "display_data"
    }
   ],
   "source": [
    "plt.figure(figsize = (10, 8))\n",
    "lw = 2\n",
    "plt.plot(fpr, tpr, color='darkorange',\n",
    "         lw=lw, label='ROC curve (area = %0.2f)' % metrics.auc(fpr, tpr))\n",
    "plt.plot([0, 1], [0, 1], color='navy', lw=lw, linestyle='--')\n",
    "plt.xlim([0.0, 1.0])\n",
    "plt.ylim([0.0, 1.05])\n",
    "plt.xlabel('False Positive Rate')\n",
    "plt.ylabel('True Positive Rate')\n",
    "plt.title('Receiver operating characteristic example')\n",
    "plt.legend(loc=\"lower right\")\n",
    "plt.show()"
   ]
  },
  {
   "cell_type": "code",
   "execution_count": 61,
   "metadata": {},
   "outputs": [
    {
     "data": {
      "text/plain": [
       "Text(0.5,1,'2-class Precision-Recall curve: AP=0.34')"
      ]
     },
     "execution_count": 61,
     "metadata": {},
     "output_type": "execute_result"
    },
    {
     "data": {
      "image/png": "[encoded data removed]",
      "text/plain": [
       "<Figure size 720x576 with 1 Axes>"
      ]
     },
     "metadata": {
      "needs_background": "light"
     },
     "output_type": "display_data"
    }
   ],
   "source": [
    "precision, recall, _ = metrics.precision_recall_curve(y_test.ravel(), pred[:,1])\n",
    "\n",
    "average_precision = metrics.average_precision_score(y_test, pred[:,1])\n",
    "plt.figure(figsize = (10, 8))\n",
    "step_kwargs = ({'step': 'post'}\n",
    "               if 'step' in signature(plt.fill_between).parameters\n",
    "               else {})\n",
    "plt.step(recall, precision, color='b', alpha=0.2,\n",
    "         where='post')\n",
    "plt.fill_between(recall, precision, alpha=0.2, color='b', **step_kwargs)\n",
    "\n",
    "plt.xlabel('Recall')\n",
    "plt.ylabel('Precision')\n",
    "plt.ylim([0.0, 1.05])\n",
    "plt.xlim([0.0, 1.0])\n",
    "plt.title('2-class Precision-Recall curve: AP={0:0.2f}'.format(\n",
    "          average_precision))"
   ]
  },
  {
   "cell_type": "code",
   "execution_count": null,
   "metadata": {},
   "outputs": [],
   "source": []
  },
  {
   "cell_type": "markdown",
   "metadata": {},
   "source": [
    "### Modello 3: XGBoost\n",
    "\n",
    "Un grande classico dei modelli di machine learning, decisamente più potente delle random forest, è una buona introduzione a qualche concetto più raffinato. Vediamo anche per la prima volta un modello che non si appoggia a `sklearn`, possiede un'interfaccia più simile a un modello di `R` e permette un controllo maggiore dell'allenamento.\n",
    "\n",
    "Alcuni vantaggi:\n",
    "* Stimatore non lineare\n",
    "* Inclusa importanza variabili e verifica bontà di adattamento\n",
    "* Resistente outlier\n",
    "* Allenabile su metriche personalizzabili\n",
    "* Gestisce gli NA\n",
    "* Può ribilanciare le classi automaticamente"
   ]
  },
  {
   "cell_type": "code",
   "execution_count": 62,
   "metadata": {},
   "outputs": [],
   "source": [
    "dtrain = xgb.DMatrix(data = X, label = y,feature_names = covariate_names)\n",
    "dtest = xgb.DMatrix(data = X_test, label = y_test,feature_names = covariate_names)"
   ]
  },
  {
   "cell_type": "code",
   "execution_count": 63,
   "metadata": {},
   "outputs": [],
   "source": [
    "# specify parameters via map, definition are same as c++ version\n",
    "param = {'max_depth':3, 'eta':0.2, 'silent':1, 'objective':'binary:logistic', 'eval_metric': 'auc', 'gamma':1}"
   ]
  },
  {
   "cell_type": "code",
   "execution_count": 64,
   "metadata": {
    "scrolled": false
   },
   "outputs": [
    {
     "name": "stdout",
     "output_type": "stream",
     "text": [
      "[0]\ttrain-auc:0.735566+0.000355514\ttest-auc:0.735077+0.00114754\n",
      "[5]\ttrain-auc:0.76066+0.00566778\ttest-auc:0.756702+0.00680741\n",
      "[10]\ttrain-auc:0.787889+0.00252042\ttest-auc:0.781418+0.00405355\n",
      "[15]\ttrain-auc:0.809242+0.00207576\ttest-auc:0.799632+0.00574257\n",
      "[20]\ttrain-auc:0.825736+0.00356918\ttest-auc:0.810678+0.00541582\n",
      "[25]\ttrain-auc:0.83872+0.00475693\ttest-auc:0.819193+0.00691234\n",
      "[30]\ttrain-auc:0.844834+0.00416319\ttest-auc:0.822793+0.0062979\n",
      "[35]\ttrain-auc:0.850724+0.00378879\ttest-auc:0.825387+0.00659604\n",
      "[40]\ttrain-auc:0.855703+0.00366178\ttest-auc:0.828707+0.00606469\n",
      "[45]\ttrain-auc:0.859592+0.00359754\ttest-auc:0.830337+0.00577797\n",
      "[50]\ttrain-auc:0.862819+0.00338874\ttest-auc:0.83179+0.00592935\n",
      "[55]\ttrain-auc:0.866364+0.00334052\ttest-auc:0.832925+0.00592226\n",
      "[60]\ttrain-auc:0.868692+0.00331376\ttest-auc:0.833293+0.00593176\n",
      "[65]\ttrain-auc:0.870851+0.00398249\ttest-auc:0.834037+0.00558253\n",
      "[70]\ttrain-auc:0.873913+0.00323372\ttest-auc:0.835188+0.00579655\n",
      "[75]\ttrain-auc:0.875982+0.0033598\ttest-auc:0.835451+0.0053419\n",
      "[80]\ttrain-auc:0.87775+0.00330154\ttest-auc:0.835211+0.00524499\n",
      "[85]\ttrain-auc:0.879618+0.00348687\ttest-auc:0.83539+0.00509057\n",
      "[90]\ttrain-auc:0.881563+0.0032477\ttest-auc:0.835391+0.00423814\n",
      "[95]\ttrain-auc:0.883112+0.00316571\ttest-auc:0.835493+0.00419178\n",
      "[100]\ttrain-auc:0.884782+0.0026207\ttest-auc:0.835671+0.00411807\n",
      "[105]\ttrain-auc:0.886326+0.00272089\ttest-auc:0.83623+0.0039534\n",
      "[110]\ttrain-auc:0.887914+0.00240583\ttest-auc:0.83617+0.00384065\n",
      "[115]\ttrain-auc:0.889095+0.00247338\ttest-auc:0.836445+0.00382747\n",
      "[120]\ttrain-auc:0.890402+0.00302295\ttest-auc:0.836508+0.00399167\n",
      "[125]\ttrain-auc:0.89144+0.00311188\ttest-auc:0.836516+0.00418858\n",
      "[130]\ttrain-auc:0.892915+0.00335961\ttest-auc:0.836618+0.00420731\n",
      "[135]\ttrain-auc:0.894598+0.00353826\ttest-auc:0.836764+0.00404787\n",
      "[140]\ttrain-auc:0.895873+0.00331658\ttest-auc:0.836778+0.00408166\n",
      "[145]\ttrain-auc:0.897043+0.00315262\ttest-auc:0.836858+0.00427372\n",
      "[150]\ttrain-auc:0.898176+0.00304947\ttest-auc:0.836736+0.00441771\n",
      "[155]\ttrain-auc:0.899362+0.00271773\ttest-auc:0.836545+0.00402913\n",
      "[160]\ttrain-auc:0.900235+0.0028158\ttest-auc:0.836373+0.0038737\n",
      "[165]\ttrain-auc:0.901105+0.00272139\ttest-auc:0.836074+0.0040152\n",
      "[170]\ttrain-auc:0.902203+0.00272602\ttest-auc:0.836136+0.00420094\n"
     ]
    }
   ],
   "source": [
    "num_round = 2000\n",
    "cv = xgb.cv(param, dtrain, num_round, nfold = 3, stratified = True, early_stopping_rounds = 30, verbose_eval=5, maximize=True, seed=42)"
   ]
  },
  {
   "cell_type": "code",
   "execution_count": 65,
   "metadata": {},
   "outputs": [
    {
     "name": "stdout",
     "output_type": "stream",
     "text": [
      "   train-auc-mean  train-auc-std  test-auc-mean  test-auc-std\n",
      "0        0.735566       0.000356       0.735077      0.001148\n",
      "1        0.741800       0.006369       0.739672      0.003825\n",
      "2        0.747722       0.007052       0.743656      0.004979\n",
      "3        0.748111       0.007069       0.743958      0.005050\n",
      "4        0.760500       0.005674       0.756258      0.006621\n"
     ]
    }
   ],
   "source": [
    "print(cv.head())\n",
    "num_round = np.argmax(cv['test-auc-mean'].values)\n",
    "xgboost_model = xgb.train(param, dtrain, num_round)"
   ]
  },
  {
   "cell_type": "code",
   "execution_count": 66,
   "metadata": {},
   "outputs": [],
   "source": [
    "pred = xgboost_model.predict(dtest)"
   ]
  },
  {
   "cell_type": "code",
   "execution_count": 67,
   "metadata": {},
   "outputs": [
    {
     "data": {
      "text/plain": [
       "array([[9570,   47],\n",
       "       [ 534,  179]])"
      ]
     },
     "execution_count": 67,
     "metadata": {},
     "output_type": "execute_result"
    }
   ],
   "source": [
    "metrics.confusion_matrix(y_test,pred>0.5)"
   ]
  },
  {
   "cell_type": "code",
   "execution_count": 68,
   "metadata": {},
   "outputs": [
    {
     "data": {
      "text/plain": [
       "0.8428397381273605"
      ]
     },
     "execution_count": 68,
     "metadata": {},
     "output_type": "execute_result"
    }
   ],
   "source": [
    "fpr, tpr, thresholds = metrics.roc_curve(y_test.ravel(), pred)\n",
    "metrics.auc(fpr, tpr)"
   ]
  },
  {
   "cell_type": "code",
   "execution_count": null,
   "metadata": {},
   "outputs": [],
   "source": []
  },
  {
   "cell_type": "code",
   "execution_count": 69,
   "metadata": {},
   "outputs": [
    {
     "data": {
      "image/png": "[encoded data removed]",
      "text/plain": [
       "<Figure size 720x576 with 1 Axes>"
      ]
     },
     "metadata": {
      "needs_background": "light"
     },
     "output_type": "display_data"
    }
   ],
   "source": [
    "plt.figure(figsize = (10, 8))\n",
    "lw = 2\n",
    "plt.plot(fpr, tpr, color='darkorange',\n",
    "         lw=lw, label='ROC curve (area = %0.2f)' % metrics.auc(fpr, tpr))\n",
    "plt.plot([0, 1], [0, 1], color='navy', lw=lw, linestyle='--')\n",
    "plt.xlim([0.0, 1.0])\n",
    "plt.ylim([0.0, 1.05])\n",
    "plt.xlabel('False Positive Rate')\n",
    "plt.ylabel('True Positive Rate')\n",
    "plt.title('Receiver operating characteristic example')\n",
    "plt.legend(loc=\"lower right\")\n",
    "plt.show()"
   ]
  },
  {
   "cell_type": "code",
   "execution_count": 70,
   "metadata": {},
   "outputs": [
    {
     "data": {
      "text/plain": [
       "Text(0.5,1,'2-class Precision-Recall curve: AP=0.47')"
      ]
     },
     "execution_count": 70,
     "metadata": {},
     "output_type": "execute_result"
    },
    {
     "data": {
      "image/png": "[encoded data removed]",
      "text/plain": [
       "<Figure size 720x576 with 1 Axes>"
      ]
     },
     "metadata": {
      "needs_background": "light"
     },
     "output_type": "display_data"
    }
   ],
   "source": [
    "precision, recall, _ = metrics.precision_recall_curve(y_test.ravel(), pred)\n",
    "\n",
    "average_precision = metrics.average_precision_score(y_test, pred)\n",
    "\n",
    "plt.figure(figsize = (10, 8))\n",
    "step_kwargs = ({'step': 'post'}\n",
    "               if 'step' in signature(plt.fill_between).parameters\n",
    "               else {})\n",
    "plt.step(recall, precision, color='b', alpha=0.2,\n",
    "         where='post')\n",
    "plt.fill_between(recall, precision, alpha=0.2, color='b', **step_kwargs)\n",
    "\n",
    "plt.xlabel('Recall')\n",
    "plt.ylabel('Precision')\n",
    "plt.ylim([0.0, 1.05])\n",
    "plt.xlim([0.0, 1.0])\n",
    "plt.title('2-class Precision-Recall curve: AP={0:0.2f}'.format(\n",
    "          average_precision))"
   ]
  },
  {
   "cell_type": "code",
   "execution_count": 71,
   "metadata": {
    "scrolled": false
   },
   "outputs": [
    {
     "data": {
      "text/plain": [
       "{'x12_BP': 155.2063595359091,\n",
       " 'p_num_installments': 52.26425687411766,\n",
       " 'p_installment_value': 6.158928368727271,\n",
       " 'x7_U': 30.067879555,\n",
       " 'p_product_price': 7.0480094782758655,\n",
       " 'p_loan_value': 14.65302403121213,\n",
       " 'x5_A': 29.2360202,\n",
       " 'x9_1': 33.391911739166666,\n",
       " 'x1_Estero': 28.52091676066667,\n",
       " 'x11_710': 17.241626597499998,\n",
       " 'x9_20': 23.30922497294118,\n",
       " 'x0_NA': 28.17199284571429,\n",
       " 'x5_P': 22.169797176428567,\n",
       " 'x2_NW': 14.38684476714286,\n",
       " 'x4_G': 15.474502865000003,\n",
       " 'd_age': 9.314061381882352,\n",
       " 'x12_RI': 26.822382344999994,\n",
       " 'c_monthly_pay': 7.061650059473681,\n",
       " 'd_job_age': 10.362708105342467,\n",
       " 'x7_CO': 20.783181463,\n",
       " 'x7_AT': 19.371576685,\n",
       " 'x3_NW': 1.52265167,\n",
       " 'x7_SO': 16.870883635000002,\n",
       " 'x2_S': 28.52404595,\n",
       " 'x2_NE': 35.3276081,\n",
       " 'x0_PA': 27.9985046,\n",
       " 'x7_IM': 13.999520095999998,\n",
       " 'x2_I': 10.194343974285713,\n",
       " 'x6_M': 5.78538847,\n",
       " 'x1_Veneto': 22.59190593,\n",
       " 'x0_TV': 4.11285436,\n",
       " 'x9_10': 10.817054656666665,\n",
       " 'x1_Sicilia': 13.787464570000001,\n",
       " 'x6_F': 9.379090438571426,\n",
       " 'x11_836': 13.60994029,\n",
       " 'x10_9999980.0': 7.32533377,\n",
       " 'x0_MI': 11.62566946,\n",
       " 'x3_S': 9.385116113333332,\n",
       " 'x4_D': 5.7096328739999995,\n",
       " 'x4_S': 12.749358662499999,\n",
       " 'x11_700': 5.1197227225,\n",
       " 'x0_RC': 7.353844316666667,\n",
       " 'x7_PE': 7.892064215000001,\n",
       " 'x5_X': 7.1462689025,\n",
       " 'x7_ST': 7.511255510000001,\n",
       " 'x1_Piemonte': 9.50117747,\n",
       " 'x1_Campania': 11.1111526,\n",
       " 'x11_820': 9.64497185,\n",
       " 'x7_OP': 10.897316685,\n",
       " 'x0_RM': 7.349678308333334,\n",
       " 'x7_IN': 4.563384056,\n",
       " 'x0_TN': 7.935730695,\n",
       " 'x0_CL': 6.8618351466666665,\n",
       " 'x11_713': 11.703655699999999,\n",
       " 'x7_CC': 5.709717072857143,\n",
       " 'x10_9999999.0': 6.726775995000001,\n",
       " 'x7_CF': 5.282277301666666,\n",
       " 'x1_Lombardia': 6.06249332,\n",
       " 'x10_9999996.0': 5.30509758,\n",
       " 'x11_750': 5.686980719999999,\n",
       " 'x7_CT': 4.201887894,\n",
       " 'x11_536': 3.71003532,\n",
       " 'x13_NA': 9.21079063,\n",
       " 'x2_C': 9.52489567,\n",
       " 'x11_861': 4.96408526,\n",
       " 'x9_17': 5.8171016575,\n",
       " 'x11_850': 5.085204756666667,\n",
       " 'x7_AU': 5.278112055,\n",
       " 'x11_708': 6.65337928,\n",
       " 'x4_C': 2.027990225,\n",
       " 'x3_C': 4.062396285,\n",
       " 'x11_610': 3.3438678375,\n",
       " 'x0_BO': 4.936224617500001,\n",
       " 'x4_X': 8.00836754,\n",
       " 'x7_AG': 5.68402648,\n",
       " 'x1_Calabria': 4.7336874,\n",
       " 'x10_9999993.0': 3.9633775566666665,\n",
       " 'x11_620': 3.4511993333333333,\n",
       " 'x7_MI': 3.3541561349999998,\n",
       " 'x11_730': 2.9825880533333335,\n",
       " 'x7_GG': 3.8464396,\n",
       " 'x0_LU': 7.30456876,\n",
       " 'x11_815': 11.395198815,\n",
       " 'x11_866': 4.88905621,\n",
       " 'x7_XX': 6.1194192175,\n",
       " 'x1_Liguria': 6.62955904,\n",
       " 'x0_CT': 5.95479345,\n",
       " 'x11_803': 3.1199646,\n",
       " 'x11_511': 2.7787843566666672,\n",
       " 'x0_SU': 3.51931524,\n",
       " 'x0_TO': 2.913285495,\n",
       " 'x7_RA': 6.72748089,\n",
       " 'x0_ME': 9.51016808,\n",
       " 'x7_OS': 8.86266994,\n",
       " 'x0_PV': 2.67983178,\n",
       " 'x0_SO': 2.96933329,\n",
       " 'x7_DS': 3.734170315,\n",
       " 'x0_RG': 2.7079211100000005,\n",
       " 'x13_FI': 10.4601936,\n",
       " 'x3_I': 4.20944643,\n",
       " 'x0_PI': 8.96064472,\n",
       " 'x0_FG': 3.2352868299999997,\n",
       " 'x11_520': 2.626936315,\n",
       " 'x1_Umbria': 3.39848781,\n",
       " 'x1_Basilicata': 2.68389583,\n",
       " 'x11_500': 2.53556371,\n",
       " 'x0_SA': 2.30624342,\n",
       " 'x7_IF': 2.56981134,\n",
       " 'x0_VE': 5.47746849,\n",
       " 'x0_FI': 2.076500535,\n",
       " 'x7_PS': 2.02787155,\n",
       " 'x0_AG': 1.974992635,\n",
       " 'x11_532': 2.32323718,\n",
       " 'x0_MO': 2.16282749,\n",
       " 'x11_860': 5.68719053,\n",
       " 'x11_701': 4.60230446,\n",
       " 'x11_740': 2.51648331,\n",
       " 'x10_9999990.0': 1.10083485,\n",
       " 'x11_810': 2.91220093,\n",
       " 'x11_530': 2.08990741,\n",
       " 'x11_720': 1.94587624,\n",
       " 'x0_RN': 1.94378912,\n",
       " 'x0_PO': 2.3131752,\n",
       " 'x7_CA': 5.70539379}"
      ]
     },
     "execution_count": 71,
     "metadata": {},
     "output_type": "execute_result"
    }
   ],
   "source": [
    "xgboost_model.get_score(importance_type='gain')"
   ]
  },
  {
   "cell_type": "code",
   "execution_count": 72,
   "metadata": {},
   "outputs": [
    {
     "data": {
      "text/plain": [
       "<matplotlib.axes._subplots.AxesSubplot at 0x7fbb2b0c2630>"
      ]
     },
     "execution_count": 72,
     "metadata": {},
     "output_type": "execute_result"
    },
    {
     "data": {
      "image/png": "[encoded data removed]",
      "text/plain": [
       "<Figure size 432x288 with 1 Axes>"
      ]
     },
     "metadata": {
      "needs_background": "light"
     },
     "output_type": "display_data"
    }
   ],
   "source": [
    "xgb.plot_importance(xgboost_model, max_num_features=10, height=0.8, importance_type=\"gain\")"
   ]
  },
  {
   "cell_type": "markdown",
   "metadata": {},
   "source": [
    "### Conclusioni\n",
    "\n",
    "Un'analisi così concisa e puntuale non può essere esaustiva su tutti gli aspetti.\n",
    "\n",
    "L'idea era quella di fornire magari maggiori spunti sugli aspetti meno banali dell'analisi, a scapito di quelli più comuni.\n",
    "\n",
    "Ogni area presenta però i suoi spunti di approfondimento e relative difficoltà:\n",
    "\n",
    "* __Data loading__: Dati che non sono contenibili in RAM? Dati collocati su un cluster distribuito? Dati provenienti da tanti sistemi differenti? \n",
    "* __Data cleaning__: Quanta? Con che criteri? Quando è troppa?\n",
    "* __Imputation__: Molti sistemi di imputazione, alcuni anche complessi ed articolati (eg. MICE)\n",
    "* __Visualization__: Visualizzazione interattive, grafici 3D, dashboard per la fruizione dei risultati, proiezione in spazio bidimensionali (eg. tSNE)\n",
    "* __Modelling__: Ensemble e stack di modelli differenti, diversi sistemi di validazione\n",
    "* __Serving__: Fornire i risultati delle proprie analisi! Dal depositarle in un DB al dover servire previsioni on-the-fly tramite tool come Flask.\n",
    "* __Monitoring__: Strategie per rilevare la degradazione delle performance dei modelli in produzione\n",
    "\n",
    "\n",
    "Anche i problemi che decidiamo di attaccare grazie ai dati a nostra disposizione possono essere dei più disparati:\n",
    "* __Regressione__\n",
    "* __Classificazione__\n",
    "* __Ranking__ (eg. PageRank)\n",
    "* __Analisi delle strutture interne ai dati__ (eg. Clustering)\n",
    "* __A/B testing__ (eg. Quale delle mie interfacce che propongo ai miei clienti genere più conversioni?)\n",
    "* __Analisi causale__\n",
    "* __Apprendimento di politiche di azione__\n",
    "\n",
    "La statistica è una disciplina che spesso nasconde insidie anche nei problemi più semplici. Questo richiede quindi un estremo rigore nelle proprie pratiche e una sempre maggiore necessità di comprovata competenza."
   ]
  },
  {
   "cell_type": "markdown",
   "metadata": {},
   "source": [
    "# Domande?"
   ]
  },
  {
   "cell_type": "code",
   "execution_count": null,
   "metadata": {},
   "outputs": [],
   "source": []
  },
  {
   "cell_type": "code",
   "execution_count": null,
   "metadata": {},
   "outputs": [],
   "source": []
  },
  {
   "cell_type": "code",
   "execution_count": null,
   "metadata": {},
   "outputs": [],
   "source": []
  }
 ],
 "metadata": {
  "kernelspec": {
   "display_name": "Python 3",
   "language": "python",
   "name": "python3"
  },
  "language_info": {
   "codemirror_mode": {
    "name": "ipython",
    "version": 3
   },
   "file_extension": ".py",
   "mimetype": "text/x-python",
   "name": "python",
   "nbconvert_exporter": "python",
   "pygments_lexer": "ipython3",
   "version": "3.7.3"
  }
 },
 "nbformat": 4,
 "nbformat_minor": 2
}
