{
 "cells": [
  {
   "cell_type": "markdown",
   "metadata": {},
   "source": [
    "# BIG DIVE Intesa 3\n",
    "## Python control flow, comprehensions, functions, lambda.\n",
    "by Stefania Delprete, TOP-IX  \n",
    "stefania.delprete@top-ix.org \n",
    "\n",
    "https://www.linkedin.com/in/astrastefania   \n",
    "https://twitter.com/astrastefania  \n",
    "\n",
    "---"
   ]
  },
  {
   "cell_type": "markdown",
   "metadata": {},
   "source": [
    "# The Style and Zen of Python\n",
    "\n",
    "Python has its own philosophy and way to be written, it has been created by Guido van Rossum (first released in 1991), and continues to grow as community project thorugh contribution and PEPs (Python Enhancement Proposals).\n",
    "\n",
    "I encourage you to read these two:  \n",
    "PEP 8 -- Style Guide for Python Code https://www.python.org/dev/peps/pep-0008  \n",
    "PEP 20 -- The Zen of Python https://www.python.org/dev/peps/pep-0020\n",
    "\n",
    "As you should already know **identation in Python is mandatory**, the convention (PEP 8) is four spaces."
   ]
  },
  {
   "cell_type": "code",
   "execution_count": 1,
   "metadata": {},
   "outputs": [],
   "source": [
    "!python3 -V"
   ]
  },
  {
   "cell_type": "code",
   "execution_count": 2,
   "metadata": {},
   "outputs": [],
   "source": [
    "# We will use 'import' different times, it finds a module and initizalize it to let us use it.\n",
    "# If the module is not part of the standard library we should install the package of interest.\n",
    "\n",
    "# Here's a little Easter Egg to import the PEP 20\n",
    "import this"
   ]
  },
  {
   "cell_type": "code",
   "execution_count": null,
   "metadata": {},
   "outputs": [],
   "source": []
  },
  {
   "cell_type": "markdown",
   "metadata": {},
   "source": [
    "# Types\n",
    "\n",
    "Let's review the **main built-in types** in Pyhton.  \n",
    "https://docs.python.org/3/library/stdtypes.html  \n",
    "\n",
    "They can be immutable (its value can't be changed) or mutable (the value of the same object can be changed)\n",
    "\n",
    "### Immutable\n",
    "\n",
    "* int\n",
    "* float \n",
    "* bool \n",
    "* str\n",
    "* tuple\n",
    "\n",
    "### Mutable\n",
    "\n",
    "* list\n",
    "* dictionary\n",
    "* set"
   ]
  },
  {
   "cell_type": "code",
   "execution_count": 3,
   "metadata": {},
   "outputs": [],
   "source": [
    "# If in doubt you can check it using the id() function (and use help() any time you need to know more)\n",
    "help(id)"
   ]
  },
  {
   "cell_type": "code",
   "execution_count": 4,
   "metadata": {},
   "outputs": [],
   "source": [
    "# Immutables when changed are pointing to a new object\n",
    "\n",
    "answer = 42\n",
    "print(id(answer))\n",
    "\n",
    "answer = answer + 3\n",
    "print(id(answer))"
   ]
  },
  {
   "cell_type": "code",
   "execution_count": null,
   "metadata": {},
   "outputs": [],
   "source": []
  },
  {
   "cell_type": "code",
   "execution_count": 5,
   "metadata": {},
   "outputs": [],
   "source": [
    "# Mutables when changed are pointing to the same object\n",
    "\n",
    "people = ['Paul', 'Richard', 'Brian']\n",
    "print(id(people))\n",
    "\n",
    "people.append('Marie')\n",
    "print(id(people))"
   ]
  },
  {
   "cell_type": "code",
   "execution_count": null,
   "metadata": {},
   "outputs": [],
   "source": []
  },
  {
   "cell_type": "markdown",
   "metadata": {},
   "source": [
    "## `>>> Let's practice` \n",
    "For each built-in type\n",
    "1. Assign a value to a variable\n",
    "2. Write a comment if its typt is mutable or immutable \n",
    "3. Perform an operation on them (see the first Jupyter Notebook)"
   ]
  },
  {
   "cell_type": "code",
   "execution_count": null,
   "metadata": {},
   "outputs": [],
   "source": []
  },
  {
   "cell_type": "markdown",
   "metadata": {},
   "source": [
    "---\n",
    "\n",
    "# Control flow\n",
    "Let's review now the important control flow structures.  \n",
    "https://docs.python.org/3/tutorial/controlflow.html\n",
    "\n",
    "## if statement\n",
    "`if <condition>:  \n",
    "    <statement>\n",
    "elif <condition>: \n",
    "    <statement>\n",
    "else:\n",
    "    <statement>`"
   ]
  },
  {
   "cell_type": "code",
   "execution_count": 6,
   "metadata": {},
   "outputs": [],
   "source": [
    "l_nm = 500\n",
    "\n",
    "if l_nm < 400:\n",
    "    print('Ultraviolet')\n",
    "elif l_nm >= 400 and l_nm <= 700:\n",
    "    print('Visible light')\n",
    "else:\n",
    "    print('Infrared')"
   ]
  },
  {
   "cell_type": "code",
   "execution_count": null,
   "metadata": {},
   "outputs": [],
   "source": []
  },
  {
   "cell_type": "markdown",
   "metadata": {},
   "source": [
    "## while loop\n",
    "\n",
    "`while <condition>: \n",
    "    <statement>`"
   ]
  },
  {
   "cell_type": "code",
   "execution_count": 7,
   "metadata": {},
   "outputs": [],
   "source": [
    "# Remeber we can use break to stop the cycle\n",
    "\n",
    "while True:\n",
    "    print('Write only once')\n",
    "    if True:\n",
    "        print('and then stop')\n",
    "        break   "
   ]
  },
  {
   "cell_type": "code",
   "execution_count": 8,
   "metadata": {},
   "outputs": [],
   "source": [
    "n1, n2 = 1, 1\n",
    "\n",
    "print('Fibonacci sequence: ')\n",
    "print(n1)\n",
    "\n",
    "while n2 < 1000:\n",
    "    print(n2)\n",
    "    n1, n2 = n2, n1 + n2"
   ]
  },
  {
   "cell_type": "code",
   "execution_count": null,
   "metadata": {},
   "outputs": [],
   "source": []
  },
  {
   "cell_type": "markdown",
   "metadata": {},
   "source": [
    "## for loop \n",
    "\n",
    "`for <variable> in <sequence>: \n",
    "    <statement>`"
   ]
  },
  {
   "cell_type": "code",
   "execution_count": 9,
   "metadata": {},
   "outputs": [],
   "source": [
    "for letter in 'Statistics':\n",
    "    print(letter)"
   ]
  },
  {
   "cell_type": "code",
   "execution_count": null,
   "metadata": {},
   "outputs": [],
   "source": []
  },
  {
   "cell_type": "code",
   "execution_count": 10,
   "metadata": {},
   "outputs": [],
   "source": [
    "libs = {'np': 'NumPy', 'pd': 'Pandas'}\n",
    "\n",
    "for key in libs: # We can notice that in a dictionary by default it accesses the keys\n",
    "    print(key)"
   ]
  },
  {
   "cell_type": "code",
   "execution_count": 11,
   "metadata": {},
   "outputs": [],
   "source": [
    "for key, value in libs.items():\n",
    "    print(f\"{key} is the alias for {value}\")"
   ]
  },
  {
   "cell_type": "code",
   "execution_count": null,
   "metadata": {},
   "outputs": [],
   "source": []
  },
  {
   "cell_type": "markdown",
   "metadata": {},
   "source": [
    "## Iterables \n",
    "We'll quickly mention some examples of two useful iterables: `range(start, stop, step)` and `enumerate()` "
   ]
  },
  {
   "cell_type": "code",
   "execution_count": 12,
   "metadata": {},
   "outputs": [
    {
     "data": {
      "text/plain": [
       "range(0, 8)"
      ]
     },
     "execution_count": 12,
     "metadata": {},
     "output_type": "execute_result"
    }
   ],
   "source": [
    "range(8) # from 0 to 7"
   ]
  },
  {
   "cell_type": "code",
   "execution_count": 13,
   "metadata": {},
   "outputs": [
    {
     "data": {
      "text/plain": [
       "[1, 2, 3, 4, 5, 6, 7, 8]"
      ]
     },
     "execution_count": 13,
     "metadata": {},
     "output_type": "execute_result"
    }
   ],
   "source": [
    "eight = range(1,9)\n",
    "list(eight)"
   ]
  },
  {
   "cell_type": "code",
   "execution_count": 14,
   "metadata": {},
   "outputs": [
    {
     "data": {
      "text/plain": [
       "[1, 3, 5, 7, 9, 11, 13, 15, 17, 19]"
      ]
     },
     "execution_count": 14,
     "metadata": {},
     "output_type": "execute_result"
    }
   ],
   "source": [
    "# Range from 1 to 20 with a step of 2 converted in alist\n",
    "list(range(1,20,2))"
   ]
  },
  {
   "cell_type": "code",
   "execution_count": 15,
   "metadata": {},
   "outputs": [
    {
     "data": {
      "text/plain": [
       "[(0, 'c'), (1, 'i'), (2, 'a'), (3, 'o')]"
      ]
     },
     "execution_count": 15,
     "metadata": {},
     "output_type": "execute_result"
    }
   ],
   "source": [
    "# Enumumerate assigns a number to each element of an object\n",
    "list(enumerate('ciao'))"
   ]
  },
  {
   "cell_type": "code",
   "execution_count": null,
   "metadata": {},
   "outputs": [],
   "source": []
  },
  {
   "cell_type": "markdown",
   "metadata": {},
   "source": [
    "Let's use them in a for cycle"
   ]
  },
  {
   "cell_type": "code",
   "execution_count": 16,
   "metadata": {},
   "outputs": [
    {
     "name": "stdout",
     "output_type": "stream",
     "text": [
      "BIG DIVE 1\n",
      "BIG DIVE 2\n",
      "BIG DIVE 3\n",
      "BIG DIVE 4\n",
      "BIG DIVE 5\n",
      "BIG DIVE 6\n",
      "BIG DIVE 7\n"
     ]
    }
   ],
   "source": [
    "for i in range(1,8):\n",
    "    print('BIG DIVE ' + str(i))"
   ]
  },
  {
   "cell_type": "code",
   "execution_count": 17,
   "metadata": {},
   "outputs": [
    {
     "name": "stdout",
     "output_type": "stream",
     "text": [
      "(0, 'r')\n",
      "(1, 'a')\n",
      "(2, 'i')\n",
      "(3, 'n')\n",
      "(4, 'b')\n",
      "(5, 'o')\n",
      "(6, 'w')\n"
     ]
    }
   ],
   "source": [
    "for n in enumerate('rainbow'):\n",
    "    print(n)"
   ]
  },
  {
   "cell_type": "code",
   "execution_count": null,
   "metadata": {},
   "outputs": [],
   "source": []
  },
  {
   "cell_type": "markdown",
   "metadata": {},
   "source": [
    "## `>>> Let's practice` \n",
    "\n",
    "1. If statement\n",
    "   * Take the text of the first tweet on your Twitter feed (or from a random account). \n",
    "   * Write an if statement that print \n",
    "     * 'short tweet' (less than 50 characters), \n",
    "     * 'medium' (between 51 and 100), \n",
    "     * long otherwise\n",
    "2. Write a for loop to print the first 10 words of the previous tweet\n",
    "3. Same for loop above enumerating the words"
   ]
  },
  {
   "cell_type": "code",
   "execution_count": null,
   "metadata": {},
   "outputs": [],
   "source": []
  },
  {
   "cell_type": "code",
   "execution_count": null,
   "metadata": {},
   "outputs": [],
   "source": []
  },
  {
   "cell_type": "code",
   "execution_count": null,
   "metadata": {},
   "outputs": [],
   "source": []
  },
  {
   "cell_type": "markdown",
   "metadata": {},
   "source": [
    "---\n",
    "# List, set and dictionary comprehensions\n",
    "\n",
    "**List comprehension**, a compact way to process all or part of the elements in a sequence and return a list with the results.  \n",
    "`[expression for item in list if conditional]`  "
   ]
  },
  {
   "cell_type": "code",
   "execution_count": 18,
   "metadata": {},
   "outputs": [],
   "source": [
    "bitcoins = [1,2,3,0.00002, 5, 100]\n",
    "euros = [round(btc * 3511.32, 2) for btc in bitcoins]"
   ]
  },
  {
   "cell_type": "code",
   "execution_count": 19,
   "metadata": {},
   "outputs": [
    {
     "data": {
      "text/plain": [
       "[3511.32, 7022.64, 10533.96, 0.07, 17556.6, 351132.0]"
      ]
     },
     "execution_count": 19,
     "metadata": {},
     "output_type": "execute_result"
    }
   ],
   "source": [
    "euros"
   ]
  },
  {
   "cell_type": "code",
   "execution_count": null,
   "metadata": {},
   "outputs": [],
   "source": []
  },
  {
   "cell_type": "markdown",
   "metadata": {},
   "source": [
    "**Set comprehension**:  \n",
    "`{expression for item in list if conditional}` "
   ]
  },
  {
   "cell_type": "code",
   "execution_count": 20,
   "metadata": {},
   "outputs": [],
   "source": [
    "cubes_set = {n**3 for n in range(12)}"
   ]
  },
  {
   "cell_type": "code",
   "execution_count": 21,
   "metadata": {
    "scrolled": true
   },
   "outputs": [
    {
     "data": {
      "text/plain": [
       "{0, 1, 8, 27, 64, 125, 216, 343, 512, 729, 1000, 1331}"
      ]
     },
     "execution_count": 21,
     "metadata": {},
     "output_type": "execute_result"
    }
   ],
   "source": [
    "cubes_set"
   ]
  },
  {
   "cell_type": "code",
   "execution_count": null,
   "metadata": {},
   "outputs": [],
   "source": []
  },
  {
   "cell_type": "markdown",
   "metadata": {},
   "source": [
    "**Dictionary comprehensions**  \n",
    "`{key:value for items in list if conditional}`"
   ]
  },
  {
   "cell_type": "code",
   "execution_count": 22,
   "metadata": {},
   "outputs": [],
   "source": [
    "tyger = 'Tyger Tyger, burning bright, In the forests of the night'\n",
    "tyger_words = tyger.split() # by default split() devide for spaces"
   ]
  },
  {
   "cell_type": "code",
   "execution_count": 23,
   "metadata": {},
   "outputs": [],
   "source": [
    "tyger_dict = {word: len(word) for word in tyger_words}"
   ]
  },
  {
   "cell_type": "code",
   "execution_count": 24,
   "metadata": {},
   "outputs": [
    {
     "data": {
      "text/plain": [
       "{'Tyger': 5,\n",
       " 'Tyger,': 6,\n",
       " 'burning': 7,\n",
       " 'bright,': 7,\n",
       " 'In': 2,\n",
       " 'the': 3,\n",
       " 'forests': 7,\n",
       " 'of': 2,\n",
       " 'night': 5}"
      ]
     },
     "execution_count": 24,
     "metadata": {},
     "output_type": "execute_result"
    }
   ],
   "source": [
    "tyger_dict"
   ]
  },
  {
   "cell_type": "code",
   "execution_count": null,
   "metadata": {},
   "outputs": [],
   "source": []
  },
  {
   "cell_type": "markdown",
   "metadata": {},
   "source": [
    "## `>>> Let's practice` \n",
    "1. Write a list comprehension that gives the numbers between 1 and 1111 divisible by 3 or 7\n",
    "2. Write a set comprehension that gives only the words with less than 5 letter from the quote \"The most difficult thing is the decision to act, the rest is merely tenacity.\"\n",
    "3. From the same quote above, write a dictionary comprehension with the word as key and the first characther as value"
   ]
  },
  {
   "cell_type": "code",
   "execution_count": null,
   "metadata": {},
   "outputs": [],
   "source": []
  },
  {
   "cell_type": "code",
   "execution_count": null,
   "metadata": {},
   "outputs": [],
   "source": []
  },
  {
   "cell_type": "markdown",
   "metadata": {},
   "source": [
    "---\n",
    "# Functions\n",
    "\n",
    "Wrting functions is an efficient way to avoid repetition in your code. Here's the basic structure:\n",
    "\n",
    "`def function_name(arg1, arg2):\n",
    "    <block of code>\n",
    "    return <function_output>`\n",
    "\n",
    "Pay attention to the description of your functions when you share your code, such description named **docstring** is written between triple double quote \"\"\" just after your function defintion, it could cointain only the purpose of the function or more details about its arguments. It can be used also for methods, classes and modules.  \n",
    "\n",
    "It becomes a real documentation that can be accessed with the `help()` function.\n",
    "\n",
    "Here's a guideline in PEP 257 https://www.python.org/dev/peps/pep-0257  \n",
    "Notice that different open source projects could have their own style, check NumPy for example  \n",
    "https://github.com/numpy/numpy/blob/master/doc/HOWTO_DOCUMENT.rst.txt#class-docstring"
   ]
  },
  {
   "cell_type": "code",
   "execution_count": 25,
   "metadata": {},
   "outputs": [],
   "source": [
    "def good_obs(dataset_name, total_obs, bad_obs=0): # We can set a default value for our arguments\n",
    "    '''Print the number of the good observations\n",
    "    \n",
    "    Parameters\n",
    "    ----------\n",
    "    dataset_name : str, name of the dataset\n",
    "    total_obs : int, total number of observations\n",
    "    bad_obs : int, number of the wrong or unreadable observations'''\n",
    "    \n",
    "    good_obs = total_obs - bad_obs\n",
    "    return 'The data set \"%s\" contains %i effective observations.' %(dataset_name, good_obs)"
   ]
  },
  {
   "cell_type": "code",
   "execution_count": 26,
   "metadata": {},
   "outputs": [
    {
     "name": "stdout",
     "output_type": "stream",
     "text": [
      "Help on function good_obs in module __main__:\n",
      "\n",
      "good_obs(dataset_name, total_obs, bad_obs=0)\n",
      "    Print the number of the good observations\n",
      "    \n",
      "    Parameters\n",
      "    ----------\n",
      "    dataset_name : str, name of the dataset\n",
      "    total_obs : int, total number of observations\n",
      "    bad_obs : int, number of the wrong or unreadable observations\n",
      "\n"
     ]
    }
   ],
   "source": [
    "help(good_obs)"
   ]
  },
  {
   "cell_type": "code",
   "execution_count": 27,
   "metadata": {},
   "outputs": [
    {
     "data": {
      "text/plain": [
       "'The data set \"UK Credit Scores\" contains 99966 effective observations.'"
      ]
     },
     "execution_count": 27,
     "metadata": {},
     "output_type": "execute_result"
    }
   ],
   "source": [
    "# We can recall out function in different ways\n",
    "\n",
    "good_obs(dataset_name='UK Credit Scores', total_obs=100000, bad_obs=34)"
   ]
  },
  {
   "cell_type": "code",
   "execution_count": 28,
   "metadata": {},
   "outputs": [
    {
     "data": {
      "text/plain": [
       "'The data set \"Population Estimates and Projections\" contains 9999166 effective observations.'"
      ]
     },
     "execution_count": 28,
     "metadata": {},
     "output_type": "execute_result"
    }
   ],
   "source": [
    "good_obs('Population Estimates and Projections', 10000000, 834)"
   ]
  },
  {
   "cell_type": "code",
   "execution_count": 29,
   "metadata": {},
   "outputs": [
    {
     "data": {
      "text/plain": [
       "'The data set \"Health Nutrition and Population Statistics\" contains 9999166 effective observations.'"
      ]
     },
     "execution_count": 29,
     "metadata": {},
     "output_type": "execute_result"
    }
   ],
   "source": [
    "# We can change the order id we mention the argument names\n",
    "\n",
    "good_obs(total_obs=10000000, bad_obs=834, dataset_name='Health Nutrition and Population Statistics')"
   ]
  },
  {
   "cell_type": "code",
   "execution_count": null,
   "metadata": {},
   "outputs": [],
   "source": []
  },
  {
   "cell_type": "code",
   "execution_count": 30,
   "metadata": {},
   "outputs": [],
   "source": [
    "def mean(item_list):\n",
    "    \"\"\"Find the mean of a list of numbers\"\"\"\n",
    "    mean = sum(item_list) / len(item_list)\n",
    "    return 'The mean is %.2f' %mean"
   ]
  },
  {
   "cell_type": "code",
   "execution_count": 31,
   "metadata": {},
   "outputs": [
    {
     "data": {
      "text/plain": [
       "'The mean is 0.00'"
      ]
     },
     "execution_count": 31,
     "metadata": {},
     "output_type": "execute_result"
    }
   ],
   "source": [
    "mean([1,-1,1,-1,1,-1,1,-1,1,-1,1,-1,1,-1])"
   ]
  },
  {
   "cell_type": "code",
   "execution_count": 32,
   "metadata": {},
   "outputs": [
    {
     "data": {
      "text/plain": [
       "'The mean is 185.18'"
      ]
     },
     "execution_count": 32,
     "metadata": {},
     "output_type": "execute_result"
    }
   ],
   "source": [
    "mean([1000,100,10,1,0.1,0.01])"
   ]
  },
  {
   "cell_type": "code",
   "execution_count": null,
   "metadata": {},
   "outputs": [],
   "source": []
  },
  {
   "cell_type": "code",
   "execution_count": 33,
   "metadata": {},
   "outputs": [],
   "source": [
    "# We can also return more the one value using a tuple\n",
    "\n",
    "import datetime\n",
    "\n",
    "def year_age(birth_year):\n",
    "    now = datetime.datetime.now()\n",
    "    age = now.year - birth_year\n",
    "    return (birth_year,age)"
   ]
  },
  {
   "cell_type": "code",
   "execution_count": 34,
   "metadata": {},
   "outputs": [
    {
     "data": {
      "text/plain": [
       "(2000, 19)"
      ]
     },
     "execution_count": 34,
     "metadata": {},
     "output_type": "execute_result"
    }
   ],
   "source": [
    "year_age(2000)"
   ]
  },
  {
   "cell_type": "code",
   "execution_count": 35,
   "metadata": {},
   "outputs": [
    {
     "name": "stdout",
     "output_type": "stream",
     "text": [
      "1984\n",
      "35\n"
     ]
    }
   ],
   "source": [
    "byear, age = year_age(1984)\n",
    "print(byear)\n",
    "print(age)"
   ]
  },
  {
   "cell_type": "code",
   "execution_count": null,
   "metadata": {},
   "outputs": [],
   "source": []
  },
  {
   "cell_type": "code",
   "execution_count": 36,
   "metadata": {},
   "outputs": [],
   "source": [
    "# Place holder\n",
    "def function_to_write():\n",
    "    pass"
   ]
  },
  {
   "cell_type": "code",
   "execution_count": null,
   "metadata": {},
   "outputs": [],
   "source": []
  },
  {
   "cell_type": "markdown",
   "metadata": {},
   "source": [
    "## Built-in functions\n",
    "\n",
    "Notice that we already saw some built-in functions like `print()`, `help()`, `dir()`, `split()`...  \n",
    "Check and practice with the full list here https://docs.python.org/3/library/functions.html"
   ]
  },
  {
   "cell_type": "code",
   "execution_count": null,
   "metadata": {},
   "outputs": [],
   "source": []
  },
  {
   "cell_type": "code",
   "execution_count": null,
   "metadata": {},
   "outputs": [],
   "source": []
  },
  {
   "cell_type": "markdown",
   "metadata": {},
   "source": [
    "---\n",
    "## Generators\n",
    "\n",
    "A function which returns a generator iterator. It looks like a normal function except that it contains yield expressions for producing a series of values usable in a for-loop or retrievable one at a time with the `next()` function.  "
   ]
  },
  {
   "cell_type": "code",
   "execution_count": 37,
   "metadata": {},
   "outputs": [],
   "source": [
    "def gen12():\n",
    "    \"\"\"Simple generator\"\"\"\n",
    "    print('Generate one')\n",
    "    yield 1\n",
    "    print('Genrate two')\n",
    "    yield 2"
   ]
  },
  {
   "cell_type": "code",
   "execution_count": 38,
   "metadata": {},
   "outputs": [],
   "source": [
    "g = gen12()"
   ]
  },
  {
   "cell_type": "code",
   "execution_count": 39,
   "metadata": {},
   "outputs": [
    {
     "name": "stdout",
     "output_type": "stream",
     "text": [
      "Generate one\n"
     ]
    },
    {
     "data": {
      "text/plain": [
       "1"
      ]
     },
     "execution_count": 39,
     "metadata": {},
     "output_type": "execute_result"
    }
   ],
   "source": [
    "next(g)"
   ]
  },
  {
   "cell_type": "code",
   "execution_count": null,
   "metadata": {},
   "outputs": [],
   "source": []
  },
  {
   "cell_type": "code",
   "execution_count": 40,
   "metadata": {},
   "outputs": [],
   "source": [
    "def countdown(n):\n",
    "    \"\"\"Count down generator. n: int\"\"\"\n",
    "    while n > 0:\n",
    "        yield n \n",
    "        n -= 1"
   ]
  },
  {
   "cell_type": "code",
   "execution_count": 41,
   "metadata": {},
   "outputs": [
    {
     "name": "stdout",
     "output_type": "stream",
     "text": [
      "5\n",
      "4\n",
      "3\n",
      "2\n",
      "1\n"
     ]
    }
   ],
   "source": [
    "for i in countdown(5):\n",
    "    print(i)"
   ]
  },
  {
   "cell_type": "code",
   "execution_count": null,
   "metadata": {},
   "outputs": [],
   "source": []
  },
  {
   "cell_type": "markdown",
   "metadata": {},
   "source": [
    "## `>>> Let's practice` \n",
    "1. Given a string, write a function that return the list of the first five words capitalized.\n",
    "2. Given a string, write a function that return both the mean and the max of the lenght of the first 5 words.\n",
    "3. Recall both functions for the following strings:\n",
    "   * \"Life is what happens to you while you’re busy making other plans.\"\n",
    "   * \"Life is 10% what happens to me and 90% of how I react to it.\"\n",
    "   * \"Whether you think you can or you think you can’t, you’re right.\"\n",
    "4. Create a generator using a function yields a number (from 1 to 5) and prints 5 greetings in order of the day. "
   ]
  },
  {
   "cell_type": "code",
   "execution_count": null,
   "metadata": {},
   "outputs": [],
   "source": []
  },
  {
   "cell_type": "code",
   "execution_count": null,
   "metadata": {},
   "outputs": [],
   "source": []
  },
  {
   "cell_type": "code",
   "execution_count": null,
   "metadata": {},
   "outputs": [],
   "source": []
  },
  {
   "cell_type": "code",
   "execution_count": null,
   "metadata": {},
   "outputs": [],
   "source": []
  },
  {
   "cell_type": "code",
   "execution_count": null,
   "metadata": {},
   "outputs": [],
   "source": []
  },
  {
   "cell_type": "markdown",
   "metadata": {},
   "source": [
    "---\n",
    "## Lambdas\n",
    "\n",
    "An **anonymous inline function** consisting of a single expression which is evaluated when the function is called.  \n",
    "The syntax to create a lambda function is:   \n",
    "`lambda [parameters]: expression`"
   ]
  },
  {
   "cell_type": "code",
   "execution_count": 42,
   "metadata": {},
   "outputs": [],
   "source": [
    "# One argument\n",
    "mod_3 = lambda n: n % 3"
   ]
  },
  {
   "cell_type": "code",
   "execution_count": 43,
   "metadata": {},
   "outputs": [
    {
     "data": {
      "text/plain": [
       "0"
      ]
     },
     "execution_count": 43,
     "metadata": {},
     "output_type": "execute_result"
    }
   ],
   "source": [
    "mod_3(18)"
   ]
  },
  {
   "cell_type": "code",
   "execution_count": 44,
   "metadata": {},
   "outputs": [
    {
     "data": {
      "text/plain": [
       "1"
      ]
     },
     "execution_count": 44,
     "metadata": {},
     "output_type": "execute_result"
    }
   ],
   "source": [
    "mod_3(22)"
   ]
  },
  {
   "cell_type": "code",
   "execution_count": 45,
   "metadata": {},
   "outputs": [],
   "source": [
    "# More arguments\n",
    "\n",
    "nat = lambda name, nationality : f\"{name} is {nationality}.\""
   ]
  },
  {
   "cell_type": "code",
   "execution_count": 46,
   "metadata": {},
   "outputs": [
    {
     "data": {
      "text/plain": [
       "'James is British.'"
      ]
     },
     "execution_count": 46,
     "metadata": {},
     "output_type": "execute_result"
    }
   ],
   "source": [
    "nat(\"James\", \"British\")"
   ]
  },
  {
   "cell_type": "code",
   "execution_count": null,
   "metadata": {},
   "outputs": [],
   "source": []
  },
  {
   "cell_type": "markdown",
   "metadata": {},
   "source": [
    "## `>>> Let's practice` \n",
    "\n",
    "1. Write a lambda function that counts all the B in a message, you can use the built-in function `.count()`\n",
    "2. Recall the lambda function for the following messages:\n",
    "   * \"It's Peter Norvig!\"\n",
    "   * \"Buon giorno, bom dia, good bye\"\n",
    "   * \"Is Ben Ng the Andrew Ng's brother?\""
   ]
  },
  {
   "cell_type": "code",
   "execution_count": 5,
   "metadata": {},
   "outputs": [],
   "source": [
    "count_B = lambda message: message.count('B')"
   ]
  },
  {
   "cell_type": "code",
   "execution_count": 6,
   "metadata": {},
   "outputs": [
    {
     "data": {
      "text/plain": [
       "1"
      ]
     },
     "execution_count": 6,
     "metadata": {},
     "output_type": "execute_result"
    }
   ],
   "source": [
    "count_B(\"Buon giorno, bom dia, good bye\")"
   ]
  },
  {
   "cell_type": "code",
   "execution_count": 10,
   "metadata": {},
   "outputs": [],
   "source": [
    "count_b = lambda message: message.lower().count('b')"
   ]
  },
  {
   "cell_type": "code",
   "execution_count": 11,
   "metadata": {},
   "outputs": [
    {
     "data": {
      "text/plain": [
       "3"
      ]
     },
     "execution_count": 11,
     "metadata": {},
     "output_type": "execute_result"
    }
   ],
   "source": [
    "count_b(\"Buon giorno, bom dia, good bye\")"
   ]
  },
  {
   "cell_type": "code",
   "execution_count": null,
   "metadata": {},
   "outputs": [],
   "source": []
  }
 ],
 "metadata": {
  "kernel_info": {
   "name": "python3"
  },
  "kernelspec": {
   "display_name": "Python 3",
   "language": "python",
   "name": "python3"
  },
  "language_info": {
   "codemirror_mode": {
    "name": "ipython",
    "version": 3
   },
   "file_extension": ".py",
   "mimetype": "text/x-python",
   "name": "python",
   "nbconvert_exporter": "python",
   "pygments_lexer": "ipython3",
   "version": "3.7.1"
  },
  "nteract": {
   "version": "0.9.0"
  }
 },
 "nbformat": 4,
 "nbformat_minor": 2
}
