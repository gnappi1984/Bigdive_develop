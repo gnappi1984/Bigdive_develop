{
 "cells": [
  {
   "cell_type": "markdown",
   "metadata": {},
   "source": [
    "# BIG DIVE Intesa 3\n",
    "## Mathematical buil-in libraries, error handling and basic file operations.\n",
    "by Stefania Delprete, TOP-IX  \n",
    "stefania.delprete@top-ix.org \n",
    "\n",
    "https://www.linkedin.com/in/astrastefania   \n",
    "https://twitter.com/astrastefania  \n",
    "\n",
    "---"
   ]
  },
  {
   "cell_type": "markdown",
   "metadata": {},
   "source": [
    "# Some more maths"
   ]
  },
  {
   "cell_type": "code",
   "execution_count": 1,
   "metadata": {},
   "outputs": [
    {
     "data": {
      "text/plain": [
       "(20, 18.0, 120.0, 3.5)"
      ]
     },
     "execution_count": 1,
     "metadata": {},
     "output_type": "execute_result"
    }
   ],
   "source": [
    "18 + 2, 20.0 - 2, 20.0 * 6, 21 / 6"
   ]
  },
  {
   "cell_type": "code",
   "execution_count": 2,
   "metadata": {},
   "outputs": [
    {
     "data": {
      "text/plain": [
       "(3.5, 3, 3)"
      ]
     },
     "execution_count": 2,
     "metadata": {},
     "output_type": "execute_result"
    }
   ],
   "source": [
    "21 / 6, 21 // 6, 21 % 6 "
   ]
  },
  {
   "cell_type": "code",
   "execution_count": 3,
   "metadata": {},
   "outputs": [
    {
     "name": "stdout",
     "output_type": "stream",
     "text": [
      "21 divided by 6 is 3 with remainder 3\n"
     ]
    }
   ],
   "source": [
    "print(f\"21 divided by 6 is {21 // 6} with remainder {21 % 6 }\")"
   ]
  },
  {
   "cell_type": "markdown",
   "metadata": {},
   "source": [
    "## math library\n",
    "\n",
    "https://docs.python.org/3/library/math.html"
   ]
  },
  {
   "cell_type": "code",
   "execution_count": 4,
   "metadata": {},
   "outputs": [
    {
     "data": {
      "text/plain": [
       "7.0"
      ]
     },
     "execution_count": 4,
     "metadata": {},
     "output_type": "execute_result"
    }
   ],
   "source": [
    "import math\n",
    "math.sqrt(49)"
   ]
  },
  {
   "cell_type": "code",
   "execution_count": 5,
   "metadata": {},
   "outputs": [
    {
     "data": {
      "text/plain": [
       "720"
      ]
     },
     "execution_count": 5,
     "metadata": {},
     "output_type": "execute_result"
    }
   ],
   "source": [
    "math.factorial(6)"
   ]
  },
  {
   "cell_type": "code",
   "execution_count": 6,
   "metadata": {},
   "outputs": [
    {
     "data": {
      "text/plain": [
       "3.141592653589793"
      ]
     },
     "execution_count": 6,
     "metadata": {},
     "output_type": "execute_result"
    }
   ],
   "source": [
    "math.pi"
   ]
  },
  {
   "cell_type": "markdown",
   "metadata": {},
   "source": [
    "Let's verify some trigonometry identities  \n",
    "https://en.wikipedia.org/wiki/List_of_trigonometric_identities"
   ]
  },
  {
   "cell_type": "code",
   "execution_count": 7,
   "metadata": {},
   "outputs": [],
   "source": [
    "from math import tan, sin, cos, pi"
   ]
  },
  {
   "cell_type": "code",
   "execution_count": 8,
   "metadata": {},
   "outputs": [
    {
     "data": {
      "text/plain": [
       "True"
      ]
     },
     "execution_count": 8,
     "metadata": {},
     "output_type": "execute_result"
    }
   ],
   "source": [
    "x = 0\n",
    "tan(x) == sin(x) / cos(x)"
   ]
  },
  {
   "cell_type": "code",
   "execution_count": 9,
   "metadata": {},
   "outputs": [
    {
     "data": {
      "text/plain": [
       "True"
      ]
     },
     "execution_count": 9,
     "metadata": {},
     "output_type": "execute_result"
    }
   ],
   "source": [
    "y = pi\n",
    "tan(y) == sin(y) / cos(y)"
   ]
  },
  {
   "cell_type": "markdown",
   "metadata": {},
   "source": [
    "## statistics library\n",
    "https://docs.python.org/3/library/statistics.html"
   ]
  },
  {
   "cell_type": "code",
   "execution_count": 18,
   "metadata": {},
   "outputs": [],
   "source": [
    "import statistics as stat"
   ]
  },
  {
   "cell_type": "code",
   "execution_count": 23,
   "metadata": {},
   "outputs": [],
   "source": [
    "age = [37,34,27,39,43,34,33,26,31,26,28,42,33,32,39,33]"
   ]
  },
  {
   "cell_type": "code",
   "execution_count": 35,
   "metadata": {},
   "outputs": [],
   "source": [
    "age2 = range(20,10,2)"
   ]
  },
  {
   "cell_type": "code",
   "execution_count": 36,
   "metadata": {},
   "outputs": [
    {
     "data": {
      "text/plain": [
       "range(20, 10, 2)"
      ]
     },
     "execution_count": 36,
     "metadata": {},
     "output_type": "execute_result"
    }
   ],
   "source": [
    "age2"
   ]
  },
  {
   "cell_type": "code",
   "execution_count": 24,
   "metadata": {},
   "outputs": [],
   "source": [
    "age_ = list(age)"
   ]
  },
  {
   "cell_type": "code",
   "execution_count": 25,
   "metadata": {},
   "outputs": [
    {
     "name": "stdout",
     "output_type": "stream",
     "text": [
      "[37, 34, 27, 39, 43, 34, 33, 26, 31, 26, 28, 42, 33, 32, 39, 33]\n"
     ]
    }
   ],
   "source": [
    "print(age_)"
   ]
  },
  {
   "cell_type": "code",
   "execution_count": 26,
   "metadata": {},
   "outputs": [
    {
     "data": {
      "text/plain": [
       "33.5625"
      ]
     },
     "execution_count": 26,
     "metadata": {},
     "output_type": "execute_result"
    }
   ],
   "source": [
    "stat.mean(age)"
   ]
  },
  {
   "cell_type": "code",
   "execution_count": 27,
   "metadata": {},
   "outputs": [
    {
     "data": {
      "text/plain": [
       "33.0"
      ]
     },
     "execution_count": 27,
     "metadata": {},
     "output_type": "execute_result"
    }
   ],
   "source": [
    "stat.median(age)"
   ]
  },
  {
   "cell_type": "code",
   "execution_count": 28,
   "metadata": {},
   "outputs": [
    {
     "data": {
      "text/plain": [
       "33"
      ]
     },
     "execution_count": 28,
     "metadata": {},
     "output_type": "execute_result"
    }
   ],
   "source": [
    "stat.mode(age)"
   ]
  },
  {
   "cell_type": "code",
   "execution_count": 30,
   "metadata": {},
   "outputs": [
    {
     "data": {
      "text/plain": [
       "5.353737012592233"
      ]
     },
     "execution_count": 30,
     "metadata": {},
     "output_type": "execute_result"
    }
   ],
   "source": [
    "stat.stdev(age)"
   ]
  },
  {
   "cell_type": "code",
   "execution_count": null,
   "metadata": {},
   "outputs": [],
   "source": []
  },
  {
   "cell_type": "markdown",
   "metadata": {},
   "source": [
    "---\n",
    "# Exceptions and error handling\n",
    "\n",
    "Here's a brief exposure on how to handle errors and exceptions (more info here https://docs.python.org/3/tutorial/errors.html)\n",
    "\n",
    "Built-in exceptions https://docs.python.org/3/library/exceptions.html"
   ]
  },
  {
   "cell_type": "code",
   "execution_count": 37,
   "metadata": {},
   "outputs": [
    {
     "name": "stdout",
     "output_type": "stream",
     "text": [
      "['math', 'numpy', 'pandas']\n",
      "End\n"
     ]
    }
   ],
   "source": [
    "# try-except \n",
    "try: \n",
    "    libreries = 'math, numpy, pandas'.split(\", \")\n",
    "except:\n",
    "    print('Error!')\n",
    "else:\n",
    "    print(libreries)\n",
    "finally:\n",
    "    print('End')"
   ]
  },
  {
   "cell_type": "code",
   "execution_count": null,
   "metadata": {},
   "outputs": [],
   "source": []
  },
  {
   "cell_type": "code",
   "execution_count": 38,
   "metadata": {},
   "outputs": [
    {
     "name": "stdout",
     "output_type": "stream",
     "text": [
      "You're adding a string to an int!\n"
     ]
    }
   ],
   "source": [
    "# Address a particular error\n",
    "try: \n",
    "    \"Ciao\" + 4\n",
    "except TypeError:\n",
    "    print(\"You're adding a string to an int!\")"
   ]
  },
  {
   "cell_type": "code",
   "execution_count": 39,
   "metadata": {},
   "outputs": [
    {
     "ename": "AssertionError",
     "evalue": "There's an error!",
     "output_type": "error",
     "traceback": [
      "\u001b[1;31m---------------------------------------------------------------------------\u001b[0m",
      "\u001b[1;31mAssertionError\u001b[0m                            Traceback (most recent call last)",
      "\u001b[1;32m<ipython-input-39-352fad9c710d>\u001b[0m in \u001b[0;36m<module>\u001b[1;34m\u001b[0m\n\u001b[0;32m      1\u001b[0m \u001b[1;32mif\u001b[0m \u001b[1;32mnot\u001b[0m \u001b[1;36m5\u001b[0m \u001b[1;33m<\u001b[0m \u001b[1;36m4\u001b[0m\u001b[1;33m:\u001b[0m\u001b[1;33m\u001b[0m\u001b[1;33m\u001b[0m\u001b[0m\n\u001b[1;32m----> 2\u001b[1;33m     \u001b[1;32mraise\u001b[0m \u001b[0mAssertionError\u001b[0m\u001b[1;33m(\u001b[0m\u001b[1;34m\"There's an error!\"\u001b[0m\u001b[1;33m)\u001b[0m\u001b[1;33m\u001b[0m\u001b[1;33m\u001b[0m\u001b[0m\n\u001b[0m",
      "\u001b[1;31mAssertionError\u001b[0m: There's an error!"
     ]
    }
   ],
   "source": [
    "if not 5 < 4: \n",
    "    raise AssertionError(\"There's an error!\")"
   ]
  },
  {
   "cell_type": "code",
   "execution_count": 40,
   "metadata": {},
   "outputs": [
    {
     "ename": "AssertionError",
     "evalue": "There's an error!",
     "output_type": "error",
     "traceback": [
      "\u001b[1;31m---------------------------------------------------------------------------\u001b[0m",
      "\u001b[1;31mAssertionError\u001b[0m                            Traceback (most recent call last)",
      "\u001b[1;32m<ipython-input-40-1334de3ac254>\u001b[0m in \u001b[0;36m<module>\u001b[1;34m\u001b[0m\n\u001b[0;32m      1\u001b[0m \u001b[1;31m# Compact way to error handling\u001b[0m\u001b[1;33m\u001b[0m\u001b[1;33m\u001b[0m\u001b[1;33m\u001b[0m\u001b[0m\n\u001b[0;32m      2\u001b[0m \u001b[1;33m\u001b[0m\u001b[0m\n\u001b[1;32m----> 3\u001b[1;33m \u001b[1;32massert\u001b[0m \u001b[1;36m5\u001b[0m \u001b[1;33m<\u001b[0m \u001b[1;36m4\u001b[0m\u001b[1;33m,\u001b[0m \u001b[1;34m\"There's an error!\"\u001b[0m\u001b[1;33m\u001b[0m\u001b[1;33m\u001b[0m\u001b[0m\n\u001b[0m",
      "\u001b[1;31mAssertionError\u001b[0m: There's an error!"
     ]
    }
   ],
   "source": [
    "# Compact way to error handling\n",
    "\n",
    "assert 5 < 4, \"There's an error!\""
   ]
  },
  {
   "cell_type": "code",
   "execution_count": null,
   "metadata": {},
   "outputs": [],
   "source": []
  },
  {
   "cell_type": "markdown",
   "metadata": {},
   "source": [
    "---\n",
    "# Reading a file \n",
    "\n",
    "https://docs.python.org/3/tutorial/inputoutput.html#reading-and-writing-files"
   ]
  },
  {
   "cell_type": "code",
   "execution_count": 42,
   "metadata": {},
   "outputs": [],
   "source": [
    "with open('the_tyger.txt') as tyger_file:\n",
    "    tyger_content = tyger_file.read()"
   ]
  },
  {
   "cell_type": "code",
   "execution_count": 43,
   "metadata": {},
   "outputs": [
    {
     "data": {
      "text/plain": [
       "'\"The Tyger\" by William Blake\\n\\nTyger Tyger, burning bright,\\nIn the forests of the night;\\nWhat immortal hand or eye,\\nCould frame thy fearful symmetry?\\n\\nIn what distant deeps or skies,\\nBurnt the fire of thine eyes?\\nOn what wings dare he aspire?\\nWhat the hand, dare seize the fire?\\n\\nAnd what shoulder, & what art,\\nCould twist the sinews of thy heart?\\nAnd when thy heart began to beat,\\nWhat dread hand? & what dread feet?\\n\\nWhat the hammer? what the chain,\\nIn what furnace was thy brain?\\nWhat the anvil? what dread grasp,\\nDare its deadly terrors clasp!\\n\\nWhen the stars threw down their spears\\nAnd water\\'d heaven with their tears:\\nDid he smile his work to see?\\nDid he who made the Lamb make thee?\\n\\nTyger Tyger burning bright,\\nIn the forests of the night:\\nWhat immortal hand or eye,\\nDare frame thy fearful symmetry?'"
      ]
     },
     "execution_count": 43,
     "metadata": {},
     "output_type": "execute_result"
    }
   ],
   "source": [
    "tyger_content"
   ]
  },
  {
   "cell_type": "code",
   "execution_count": 44,
   "metadata": {},
   "outputs": [
    {
     "data": {
      "text/plain": [
       "str"
      ]
     },
     "execution_count": 44,
     "metadata": {},
     "output_type": "execute_result"
    }
   ],
   "source": [
    "type(tyger_content)"
   ]
  },
  {
   "cell_type": "code",
   "execution_count": 45,
   "metadata": {},
   "outputs": [
    {
     "data": {
      "text/plain": [
       "['\"The Tyger\" by William Blake',\n",
       " '',\n",
       " 'Tyger Tyger, burning bright,',\n",
       " 'In the forests of the night;',\n",
       " 'What immortal hand or eye,']"
      ]
     },
     "execution_count": 45,
     "metadata": {},
     "output_type": "execute_result"
    }
   ],
   "source": [
    "tyger_content.split('\\n')[:5]"
   ]
  },
  {
   "cell_type": "code",
   "execution_count": 46,
   "metadata": {},
   "outputs": [
    {
     "name": "stdout",
     "output_type": "stream",
     "text": [
      "\"The Tyger\" by William Blake\n",
      "\n",
      "\n",
      "\n",
      "Tyger Tyger, burning bright,\n",
      "\n",
      "In the forests of the night;\n",
      "\n",
      "What immortal hand or eye,\n",
      "\n",
      "Could frame thy fearful symmetry?\n",
      "\n",
      "\n",
      "\n",
      "In what distant deeps or skies,\n",
      "\n",
      "Burnt the fire of thine eyes?\n",
      "\n",
      "On what wings dare he aspire?\n",
      "\n",
      "What the hand, dare seize the fire?\n",
      "\n",
      "\n",
      "\n",
      "And what shoulder, & what art,\n",
      "\n",
      "Could twist the sinews of thy heart?\n",
      "\n",
      "And when thy heart began to beat,\n",
      "\n",
      "What dread hand? & what dread feet?\n",
      "\n",
      "\n",
      "\n",
      "What the hammer? what the chain,\n",
      "\n",
      "In what furnace was thy brain?\n",
      "\n",
      "What the anvil? what dread grasp,\n",
      "\n",
      "Dare its deadly terrors clasp!\n",
      "\n",
      "\n",
      "\n",
      "When the stars threw down their spears\n",
      "\n",
      "And water'd heaven with their tears:\n",
      "\n",
      "Did he smile his work to see?\n",
      "\n",
      "Did he who made the Lamb make thee?\n",
      "\n",
      "\n",
      "\n",
      "Tyger Tyger burning bright,\n",
      "\n",
      "In the forests of the night:\n",
      "\n",
      "What immortal hand or eye,\n",
      "\n",
      "Dare frame thy fearful symmetry?\n"
     ]
    }
   ],
   "source": [
    "tyger_file = open('the_tyger.txt', 'r')\n",
    "\n",
    "for line in tyger_file:\n",
    "    print(line)"
   ]
  },
  {
   "cell_type": "code",
   "execution_count": null,
   "metadata": {},
   "outputs": [],
   "source": []
  },
  {
   "cell_type": "code",
   "execution_count": null,
   "metadata": {},
   "outputs": [],
   "source": []
  },
  {
   "cell_type": "code",
   "execution_count": null,
   "metadata": {},
   "outputs": [],
   "source": []
  }
 ],
 "metadata": {
  "kernelspec": {
   "display_name": "Python 3",
   "language": "python",
   "name": "python3"
  },
  "language_info": {
   "codemirror_mode": {
    "name": "ipython",
    "version": 3
   },
   "file_extension": ".py",
   "mimetype": "text/x-python",
   "name": "python",
   "nbconvert_exporter": "python",
   "pygments_lexer": "ipython3",
   "version": "3.7.1"
  }
 },
 "nbformat": 4,
 "nbformat_minor": 2
}
