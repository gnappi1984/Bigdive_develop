{
 "cells": [
  {
   "cell_type": "markdown",
   "metadata": {},
   "source": [
    "flatmap\n",
    "map che converte tutto in minuscolo\n",
    "RDD piatto in RDD chiave valore\n",
    "groupby(key)\n",
    "Reduce by key"
   ]
  },
  {
   "cell_type": "code",
   "execution_count": null,
   "metadata": {},
   "outputs": [],
   "source": [
    "import sys\n",
    " \n",
    "from pyspark import SparkContext, SparkConf"
   ]
  },
  {
   "cell_type": "code",
   "execution_count": null,
   "metadata": {},
   "outputs": [],
   "source": [
    "conf = SparkConf().setAppName(\"Read Text to RDD - Python\")\n",
    "sc = SparkContext(conf=conf) "
   ]
  },
  {
   "cell_type": "code",
   "execution_count": null,
   "metadata": {},
   "outputs": [],
   "source": [
    "# read input text file to RDD\n",
    "lines = sc.textFile(\"divina_commedia.txt\").flatMap(lambda line: line.split(\" \"))"
   ]
  },
  {
   "cell_type": "code",
   "execution_count": null,
   "metadata": {},
   "outputs": [],
   "source": [
    "lines.collect()"
   ]
  },
  {
   "cell_type": "code",
   "execution_count": null,
   "metadata": {},
   "outputs": [],
   "source": [
    "linesl = lines.flatMap(lambda line: line.lower())"
   ]
  },
  {
   "cell_type": "code",
   "execution_count": null,
   "metadata": {
    "scrolled": true
   },
   "outputs": [],
   "source": [
    "linesl.countByValue()"
   ]
  },
  {
   "cell_type": "code",
   "execution_count": null,
   "metadata": {},
   "outputs": [],
   "source": [
    "lines.collect()"
   ]
  },
  {
   "cell_type": "code",
   "execution_count": null,
   "metadata": {},
   "outputs": [],
   "source": [
    "prima = lines.map(lambda x: x[0] if len(x)>0 else '').flatMap(lambda line: line.lower())"
   ]
  },
  {
   "cell_type": "code",
   "execution_count": null,
   "metadata": {},
   "outputs": [],
   "source": [
    "prima.countByValue()"
   ]
  },
  {
   "cell_type": "code",
   "execution_count": null,
   "metadata": {},
   "outputs": [],
   "source": [
    "prima.countByKey()"
   ]
  },
  {
   "cell_type": "code",
   "execution_count": null,
   "metadata": {},
   "outputs": [],
   "source": [
    "divina_comm = sc.textFile(\"divina_commedia.txt\")\n",
    "divina_lower = divina_comm.map(lambda x: x.lower())\n",
    "counts = divina_lower.flatMap(lambda line: line.split(\" \")).distinct().filter(lambda word: len(word)>0).filter(lambda word: word[0].isalpha()).map(lambda word: (word,1)).reduceByKey(lambda a,b:a+b).map(lambda word: (word[0][0], 1)).reduceByKey(lambda a, b: a + b)\n",
    "print(counts.take(10))"
   ]
  },
  {
   "cell_type": "code",
   "execution_count": null,
   "metadata": {},
   "outputs": [],
   "source": [
    "scartate = sc.accumulator(0)\n",
    "\n",
    "def myFilter(x):\n",
    "    if x.isalpha():\n",
    "        return True\n",
    "    else:\n",
    "        scartate.add(1)\n",
    "        return False\n",
    "        "
   ]
  },
  {
   "cell_type": "code",
   "execution_count": null,
   "metadata": {},
   "outputs": [],
   "source": [
    "divina_comm = sc.textFile(\"divina_commedia.txt\")\n",
    "divina_lower = divina_comm.map(lambda x: x.lower())\n",
    "counts = divina_lower.flatMap(lambda line: line.split(\" \")).distinct().filter(lambda word: len(word)>0).filter(lambda x: myFilter(x)).map(lambda word: (word,1)).reduceByKey(lambda a,b:a+b).map(lambda word: (word[0][0], 1)).reduceByKey(lambda a, b: a + b)\n",
    "print(counts.take(10))\n",
    "print(\"Scartate: \",scartate)"
   ]
  },
  {
   "cell_type": "code",
   "execution_count": 2,
   "metadata": {},
   "outputs": [],
   "source": [
    "from pyspark.sql import SparkSession\n",
    "from pyspark import SparkContext, SparkConf\n",
    "spark = SparkSession.builder.master (\"local[*]\").appName(\"SQL\").getOrCreate()\n",
    "sc = spark.sparkContext"
   ]
  },
  {
   "cell_type": "code",
   "execution_count": 11,
   "metadata": {},
   "outputs": [],
   "source": [
    "df = spark.read.format(\"csv\").load(\"people.csv\",header=\"true\",inferSchema=\"true\", delimiter=\";\")\n",
    "\n",
    "df.createOrReplaceTempView(\"people\")\n",
    "\n",
    "filtered = spark.sql(\"select * from people\")\n",
    "out = filtered.where(\"age>30\")\n",
    "#out.write.format(\"json\").save(\"c:\\profili\\U413635\\Desktop\\BIGDIVE\\BIGDIVE_develop\\Day10\\sample_json_out​sample_json_out\")"
   ]
  },
  {
   "cell_type": "code",
   "execution_count": 12,
   "metadata": {},
   "outputs": [
    {
     "data": {
      "text/plain": [
       "[Row(name='Bob', age=32, job='Developer')]"
      ]
     },
     "execution_count": 12,
     "metadata": {},
     "output_type": "execute_result"
    }
   ],
   "source": [
    "out.collect()"
   ]
  },
  {
   "cell_type": "code",
   "execution_count": null,
   "metadata": {},
   "outputs": [],
   "source": []
  }
 ],
 "metadata": {
  "kernelspec": {
   "display_name": "Python 3",
   "language": "python",
   "name": "python3"
  },
  "language_info": {
   "codemirror_mode": {
    "name": "ipython",
    "version": 3
   },
   "file_extension": ".py",
   "mimetype": "text/x-python",
   "name": "python",
   "nbconvert_exporter": "python",
   "pygments_lexer": "ipython3",
   "version": "3.7.1"
  }
 },
 "nbformat": 4,
 "nbformat_minor": 2
}
