{
 "cells": [
  {
   "cell_type": "markdown",
   "metadata": {},
   "source": [
    "# BIG DIVE Intesa 3\n",
    "## Data Science and Scikit-learn\n",
    "by Stefania Delprete, TOP-IX  \n",
    "stefania.delprete@top-ix.org \n",
    "\n",
    "https://www.linkedin.com/in/astrastefania   \n",
    "https://twitter.com/astrastefania  \n",
    "\n",
    "---"
   ]
  },
  {
   "cell_type": "markdown",
   "metadata": {},
   "source": [
    "## Exploring a big Effective Altruism survey\n",
    "\n",
    "Effective Altruism https://www.effectivealtruism.com"
   ]
  },
  {
   "cell_type": "code",
   "execution_count": 1,
   "metadata": {},
   "outputs": [],
   "source": [
    "import pandas as pd"
   ]
  },
  {
   "cell_type": "code",
   "execution_count": 2,
   "metadata": {},
   "outputs": [],
   "source": [
    "survey = pd.read_csv('../../BDINTESA3/Data_Science/data/EA_imsurvey2017-anonymized-currencied.csv')"
   ]
  },
  {
   "cell_type": "code",
   "execution_count": 3,
   "metadata": {},
   "outputs": [
    {
     "data": {
      "text/plain": [
       "(2521, 218)"
      ]
     },
     "execution_count": 3,
     "metadata": {},
     "output_type": "execute_result"
    }
   ],
   "source": [
    "survey.shape"
   ]
  },
  {
   "cell_type": "code",
   "execution_count": 4,
   "metadata": {},
   "outputs": [
    {
     "data": {
      "text/html": [
       "<div>\n",
       "<style scoped>\n",
       "    .dataframe tbody tr th:only-of-type {\n",
       "        vertical-align: middle;\n",
       "    }\n",
       "\n",
       "    .dataframe tbody tr th {\n",
       "        vertical-align: top;\n",
       "    }\n",
       "\n",
       "    .dataframe thead th {\n",
       "        text-align: right;\n",
       "    }\n",
       "</style>\n",
       "<table border=\"1\" class=\"dataframe\">\n",
       "  <thead>\n",
       "    <tr style=\"text-align: right;\">\n",
       "      <th></th>\n",
       "      <th>id</th>\n",
       "      <th>referrer_url</th>\n",
       "      <th>heard_ea</th>\n",
       "      <th>is_ea</th>\n",
       "      <th>is_ea_comment</th>\n",
       "      <th>sincere</th>\n",
       "      <th>cause_import_animal_welfare</th>\n",
       "      <th>cause_import_cause_prioritization</th>\n",
       "      <th>cause_import_environmentalism</th>\n",
       "      <th>cause_import_ai</th>\n",
       "      <th>...</th>\n",
       "      <th>donate_sp_2016_c</th>\n",
       "      <th>donate_thl_2015_c</th>\n",
       "      <th>donate_thl_2016_c</th>\n",
       "      <th>donate_tlycs_2015_c</th>\n",
       "      <th>donate_tlycs_2016_c</th>\n",
       "      <th>plan_donate_how_much_c</th>\n",
       "      <th>income_2015_household_c</th>\n",
       "      <th>income_2015_individual_c</th>\n",
       "      <th>income_2016_household_c</th>\n",
       "      <th>income_2016_individual_c</th>\n",
       "    </tr>\n",
       "  </thead>\n",
       "  <tbody>\n",
       "    <tr>\n",
       "      <th>0</th>\n",
       "      <td>NaN</td>\n",
       "      <td>NaN</td>\n",
       "      <td>NaN</td>\n",
       "      <td>NaN</td>\n",
       "      <td>NaN</td>\n",
       "      <td>NaN</td>\n",
       "      <td>NaN</td>\n",
       "      <td>NaN</td>\n",
       "      <td>NaN</td>\n",
       "      <td>NaN</td>\n",
       "      <td>...</td>\n",
       "      <td>NaN</td>\n",
       "      <td>NaN</td>\n",
       "      <td>NaN</td>\n",
       "      <td>NaN</td>\n",
       "      <td>NaN</td>\n",
       "      <td>NaN</td>\n",
       "      <td>NaN</td>\n",
       "      <td>NaN</td>\n",
       "      <td>NaN</td>\n",
       "      <td>NaN</td>\n",
       "    </tr>\n",
       "    <tr>\n",
       "      <th>1</th>\n",
       "      <td>\\t \"</td>\n",
       "      <td>EAs_sometimes_think_some_causes_are_more_impor...</td>\n",
       "      <td>EAs_sometimes_think_some_causes_are_more_impor...</td>\n",
       "      <td>EAs_sometimes_think_some_causes_are_more_impor...</td>\n",
       "      <td>EAs_sometimes_think_some_causes_are_more_impor...</td>\n",
       "      <td>Comments?</td>\n",
       "      <td>Do_you_identify_with_any_other_social_movement...</td>\n",
       "      <td>Do_you_identify_with_any_other_social_movement...</td>\n",
       "      <td>Do_you_identify_with_any_other_social_movement...</td>\n",
       "      <td>Do_you_identify_with_any_other_social_movement...</td>\n",
       "      <td>...</td>\n",
       "      <td>NaN</td>\n",
       "      <td>NaN</td>\n",
       "      <td>NaN</td>\n",
       "      <td>NaN</td>\n",
       "      <td>NaN</td>\n",
       "      <td>NaN</td>\n",
       "      <td>NaN</td>\n",
       "      <td>NaN</td>\n",
       "      <td>NaN</td>\n",
       "      <td>NaN</td>\n",
       "    </tr>\n",
       "    <tr>\n",
       "      <th>2</th>\n",
       "      <td>9</td>\n",
       "      <td>http://survey.effectivealtruismhub.com/index.p...</td>\n",
       "      <td>Yes</td>\n",
       "      <td>Yes</td>\n",
       "      <td>But I am concerned EA looks cultish from the o...</td>\n",
       "      <td>Yes (pick this option to have your answers cou...</td>\n",
       "      <td>This cause should be the top priority</td>\n",
       "      <td>This cause should be a near-top priority</td>\n",
       "      <td>I do not think this is a priority, but I am gl...</td>\n",
       "      <td>I do not think this is a priority, but I am gl...</td>\n",
       "      <td>...</td>\n",
       "      <td>NaN</td>\n",
       "      <td>NaN</td>\n",
       "      <td>NaN</td>\n",
       "      <td>NaN</td>\n",
       "      <td>NaN</td>\n",
       "      <td>NaN</td>\n",
       "      <td>15908.37</td>\n",
       "      <td>15908.37</td>\n",
       "      <td>15908.37</td>\n",
       "      <td>15908.37</td>\n",
       "    </tr>\n",
       "    <tr>\n",
       "      <th>3</th>\n",
       "      <td>10</td>\n",
       "      <td>http://survey.effectivealtruismhub.com/index.p...</td>\n",
       "      <td>Yes</td>\n",
       "      <td>Yes</td>\n",
       "      <td>NaN</td>\n",
       "      <td>Yes (pick this option to have your answers cou...</td>\n",
       "      <td>This cause should be a near-top priority</td>\n",
       "      <td>This cause should be a near-top priority</td>\n",
       "      <td>This cause deserves significant investment but...</td>\n",
       "      <td>This cause should be the top priority</td>\n",
       "      <td>...</td>\n",
       "      <td>NaN</td>\n",
       "      <td>NaN</td>\n",
       "      <td>NaN</td>\n",
       "      <td>NaN</td>\n",
       "      <td>NaN</td>\n",
       "      <td>1.5</td>\n",
       "      <td>0.00</td>\n",
       "      <td>0.00</td>\n",
       "      <td>0.00</td>\n",
       "      <td>0.00</td>\n",
       "    </tr>\n",
       "    <tr>\n",
       "      <th>4</th>\n",
       "      <td>11</td>\n",
       "      <td>http://survey.effectivealtruismhub.com/index.p...</td>\n",
       "      <td>Yes</td>\n",
       "      <td>Yes</td>\n",
       "      <td>NaN</td>\n",
       "      <td>Yes (pick this option to have your answers cou...</td>\n",
       "      <td>NaN</td>\n",
       "      <td>NaN</td>\n",
       "      <td>NaN</td>\n",
       "      <td>NaN</td>\n",
       "      <td>...</td>\n",
       "      <td>NaN</td>\n",
       "      <td>NaN</td>\n",
       "      <td>NaN</td>\n",
       "      <td>NaN</td>\n",
       "      <td>NaN</td>\n",
       "      <td>NaN</td>\n",
       "      <td>NaN</td>\n",
       "      <td>NaN</td>\n",
       "      <td>NaN</td>\n",
       "      <td>NaN</td>\n",
       "    </tr>\n",
       "  </tbody>\n",
       "</table>\n",
       "<p>5 rows × 218 columns</p>\n",
       "</div>"
      ],
      "text/plain": [
       "     id                                       referrer_url  \\\n",
       "0   NaN                                                NaN   \n",
       "1  \\t \"  EAs_sometimes_think_some_causes_are_more_impor...   \n",
       "2     9  http://survey.effectivealtruismhub.com/index.p...   \n",
       "3    10  http://survey.effectivealtruismhub.com/index.p...   \n",
       "4    11  http://survey.effectivealtruismhub.com/index.p...   \n",
       "\n",
       "                                            heard_ea  \\\n",
       "0                                                NaN   \n",
       "1  EAs_sometimes_think_some_causes_are_more_impor...   \n",
       "2                                                Yes   \n",
       "3                                                Yes   \n",
       "4                                                Yes   \n",
       "\n",
       "                                               is_ea  \\\n",
       "0                                                NaN   \n",
       "1  EAs_sometimes_think_some_causes_are_more_impor...   \n",
       "2                                                Yes   \n",
       "3                                                Yes   \n",
       "4                                                Yes   \n",
       "\n",
       "                                       is_ea_comment  \\\n",
       "0                                                NaN   \n",
       "1  EAs_sometimes_think_some_causes_are_more_impor...   \n",
       "2  But I am concerned EA looks cultish from the o...   \n",
       "3                                                NaN   \n",
       "4                                                NaN   \n",
       "\n",
       "                                             sincere  \\\n",
       "0                                                NaN   \n",
       "1                                          Comments?   \n",
       "2  Yes (pick this option to have your answers cou...   \n",
       "3  Yes (pick this option to have your answers cou...   \n",
       "4  Yes (pick this option to have your answers cou...   \n",
       "\n",
       "                         cause_import_animal_welfare  \\\n",
       "0                                                NaN   \n",
       "1  Do_you_identify_with_any_other_social_movement...   \n",
       "2              This cause should be the top priority   \n",
       "3           This cause should be a near-top priority   \n",
       "4                                                NaN   \n",
       "\n",
       "                   cause_import_cause_prioritization  \\\n",
       "0                                                NaN   \n",
       "1  Do_you_identify_with_any_other_social_movement...   \n",
       "2           This cause should be a near-top priority   \n",
       "3           This cause should be a near-top priority   \n",
       "4                                                NaN   \n",
       "\n",
       "                       cause_import_environmentalism  \\\n",
       "0                                                NaN   \n",
       "1  Do_you_identify_with_any_other_social_movement...   \n",
       "2  I do not think this is a priority, but I am gl...   \n",
       "3  This cause deserves significant investment but...   \n",
       "4                                                NaN   \n",
       "\n",
       "                                     cause_import_ai           ...             \\\n",
       "0                                                NaN           ...              \n",
       "1  Do_you_identify_with_any_other_social_movement...           ...              \n",
       "2  I do not think this is a priority, but I am gl...           ...              \n",
       "3              This cause should be the top priority           ...              \n",
       "4                                                NaN           ...              \n",
       "\n",
       "  donate_sp_2016_c donate_thl_2015_c donate_thl_2016_c donate_tlycs_2015_c  \\\n",
       "0              NaN               NaN               NaN                 NaN   \n",
       "1              NaN               NaN               NaN                 NaN   \n",
       "2              NaN               NaN               NaN                 NaN   \n",
       "3              NaN               NaN               NaN                 NaN   \n",
       "4              NaN               NaN               NaN                 NaN   \n",
       "\n",
       "  donate_tlycs_2016_c plan_donate_how_much_c income_2015_household_c  \\\n",
       "0                 NaN                    NaN                     NaN   \n",
       "1                 NaN                    NaN                     NaN   \n",
       "2                 NaN                    NaN                15908.37   \n",
       "3                 NaN                    1.5                    0.00   \n",
       "4                 NaN                    NaN                     NaN   \n",
       "\n",
       "  income_2015_individual_c income_2016_household_c income_2016_individual_c  \n",
       "0                      NaN                     NaN                      NaN  \n",
       "1                      NaN                     NaN                      NaN  \n",
       "2                 15908.37                15908.37                 15908.37  \n",
       "3                     0.00                    0.00                     0.00  \n",
       "4                      NaN                     NaN                      NaN  \n",
       "\n",
       "[5 rows x 218 columns]"
      ]
     },
     "execution_count": 4,
     "metadata": {},
     "output_type": "execute_result"
    }
   ],
   "source": [
    "survey.head(5)"
   ]
  },
  {
   "cell_type": "code",
   "execution_count": 6,
   "metadata": {},
   "outputs": [
    {
     "data": {
      "text/plain": [
       "Index(['id', 'referrer_url', 'heard_ea', 'is_ea', 'is_ea_comment', 'sincere',\n",
       "       'cause_import_animal_welfare', 'cause_import_cause_prioritization',\n",
       "       'cause_import_environmentalism', 'cause_import_ai',\n",
       "       ...\n",
       "       'donate_sp_2016_c', 'donate_thl_2015_c', 'donate_thl_2016_c',\n",
       "       'donate_tlycs_2015_c', 'donate_tlycs_2016_c', 'plan_donate_how_much_c',\n",
       "       'income_2015_household_c', 'income_2015_individual_c',\n",
       "       'income_2016_household_c', 'income_2016_individual_c'],\n",
       "      dtype='object', length=218)"
      ]
     },
     "execution_count": 6,
     "metadata": {},
     "output_type": "execute_result"
    }
   ],
   "source": [
    "# A lot of variables/columns!\n",
    "survey.columns"
   ]
  },
  {
   "cell_type": "code",
   "execution_count": null,
   "metadata": {},
   "outputs": [],
   "source": []
  },
  {
   "cell_type": "code",
   "execution_count": 7,
   "metadata": {},
   "outputs": [
    {
     "data": {
      "text/html": [
       "<div>\n",
       "<style scoped>\n",
       "    .dataframe tbody tr th:only-of-type {\n",
       "        vertical-align: middle;\n",
       "    }\n",
       "\n",
       "    .dataframe tbody tr th {\n",
       "        vertical-align: top;\n",
       "    }\n",
       "\n",
       "    .dataframe thead th {\n",
       "        text-align: right;\n",
       "    }\n",
       "</style>\n",
       "<table border=\"1\" class=\"dataframe\">\n",
       "  <thead>\n",
       "    <tr style=\"text-align: right;\">\n",
       "      <th></th>\n",
       "      <th>id</th>\n",
       "      <th>is_ea</th>\n",
       "      <th>student</th>\n",
       "      <th>employment_status</th>\n",
       "      <th>field</th>\n",
       "      <th>education</th>\n",
       "    </tr>\n",
       "  </thead>\n",
       "  <tbody>\n",
       "    <tr>\n",
       "      <th>2</th>\n",
       "      <td>9</td>\n",
       "      <td>Yes</td>\n",
       "      <td>Yes</td>\n",
       "      <td>NaN</td>\n",
       "      <td>NaN</td>\n",
       "      <td>Master’s degree</td>\n",
       "    </tr>\n",
       "    <tr>\n",
       "      <th>3</th>\n",
       "      <td>10</td>\n",
       "      <td>Yes</td>\n",
       "      <td>Yes</td>\n",
       "      <td>NaN</td>\n",
       "      <td>NaN</td>\n",
       "      <td>Undergraduate degree (bachelor’s)</td>\n",
       "    </tr>\n",
       "    <tr>\n",
       "      <th>4</th>\n",
       "      <td>11</td>\n",
       "      <td>Yes</td>\n",
       "      <td>NaN</td>\n",
       "      <td>NaN</td>\n",
       "      <td>NaN</td>\n",
       "      <td>NaN</td>\n",
       "    </tr>\n",
       "    <tr>\n",
       "      <th>5</th>\n",
       "      <td>12</td>\n",
       "      <td>NaN</td>\n",
       "      <td>NaN</td>\n",
       "      <td>NaN</td>\n",
       "      <td>NaN</td>\n",
       "      <td>NaN</td>\n",
       "    </tr>\n",
       "    <tr>\n",
       "      <th>6</th>\n",
       "      <td>13</td>\n",
       "      <td>Yes</td>\n",
       "      <td>NaN</td>\n",
       "      <td>NaN</td>\n",
       "      <td>NaN</td>\n",
       "      <td>NaN</td>\n",
       "    </tr>\n",
       "  </tbody>\n",
       "</table>\n",
       "</div>"
      ],
      "text/plain": [
       "   id is_ea student employment_status field                          education\n",
       "2   9   Yes     Yes               NaN   NaN                    Master’s degree\n",
       "3  10   Yes     Yes               NaN   NaN  Undergraduate degree (bachelor’s)\n",
       "4  11   Yes     NaN               NaN   NaN                                NaN\n",
       "5  12   NaN     NaN               NaN   NaN                                NaN\n",
       "6  13   Yes     NaN               NaN   NaN                                NaN"
      ]
     },
     "execution_count": 7,
     "metadata": {},
     "output_type": "execute_result"
    }
   ],
   "source": [
    "# Let's choose 5 columns, and remove the first two rows\n",
    "survey_ = survey.loc[2:,['id', 'is_ea', 'student', 'employment_status', 'field', 'education',]]\n",
    "survey_.head()"
   ]
  },
  {
   "cell_type": "code",
   "execution_count": 8,
   "metadata": {},
   "outputs": [
    {
     "data": {
      "text/plain": [
       "(2519, 6)"
      ]
     },
     "execution_count": 8,
     "metadata": {},
     "output_type": "execute_result"
    }
   ],
   "source": [
    "survey_.shape"
   ]
  },
  {
   "cell_type": "code",
   "execution_count": null,
   "metadata": {},
   "outputs": [],
   "source": []
  },
  {
   "cell_type": "markdown",
   "metadata": {},
   "source": [
    "### Exploring values"
   ]
  },
  {
   "cell_type": "code",
   "execution_count": null,
   "metadata": {},
   "outputs": [],
   "source": [
    "survey_['is_ea'].count()"
   ]
  },
  {
   "cell_type": "code",
   "execution_count": null,
   "metadata": {},
   "outputs": [],
   "source": [
    "survey_['is_ea'].unique() # .unique() shows the unique values"
   ]
  },
  {
   "cell_type": "code",
   "execution_count": null,
   "metadata": {},
   "outputs": [],
   "source": [
    "survey_['employment_status'].unique() "
   ]
  },
  {
   "cell_type": "code",
   "execution_count": null,
   "metadata": {},
   "outputs": [],
   "source": [
    "survey_['employment_status'].nunique() # .unique() shows the number of unique values"
   ]
  },
  {
   "cell_type": "code",
   "execution_count": null,
   "metadata": {},
   "outputs": [],
   "source": [
    "survey_['field'].unique(), survey_['field'].nunique()"
   ]
  },
  {
   "cell_type": "code",
   "execution_count": null,
   "metadata": {},
   "outputs": [],
   "source": []
  },
  {
   "cell_type": "markdown",
   "metadata": {},
   "source": [
    "### Counting values \n",
    "https://pandas.pydata.org/pandas-docs/stable/generated/pandas.Series.value_counts.html"
   ]
  },
  {
   "cell_type": "code",
   "execution_count": null,
   "metadata": {},
   "outputs": [],
   "source": [
    "survey_['field'].value_counts() # .value_counts() counts the number of observations for each unique value"
   ]
  },
  {
   "cell_type": "code",
   "execution_count": null,
   "metadata": {},
   "outputs": [],
   "source": [
    "survey_['employment_status'].value_counts(dropna=False) # The argument dropna=False show us the null values too"
   ]
  },
  {
   "cell_type": "code",
   "execution_count": null,
   "metadata": {},
   "outputs": [],
   "source": []
  },
  {
   "cell_type": "markdown",
   "metadata": {},
   "source": [
    "## Drop null values\n",
    "\n",
    "We can clean our pandas DataFrame from null values in different ways"
   ]
  },
  {
   "cell_type": "code",
   "execution_count": null,
   "metadata": {},
   "outputs": [],
   "source": [
    "survey_['employment_status'].head(15)"
   ]
  },
  {
   "cell_type": "code",
   "execution_count": null,
   "metadata": {},
   "outputs": [],
   "source": [
    "value_index3 = survey_['employment_status'][3]"
   ]
  },
  {
   "cell_type": "code",
   "execution_count": null,
   "metadata": {},
   "outputs": [],
   "source": [
    "value_index3, type(value_index3)"
   ]
  },
  {
   "cell_type": "code",
   "execution_count": null,
   "metadata": {},
   "outputs": [],
   "source": []
  },
  {
   "cell_type": "markdown",
   "metadata": {},
   "source": [
    "We can use `.dropna()`to delete all the rows with a null values  \n",
    "https://pandas.pydata.org/pandas-docs/stable/generated/pandas.DataFrame.dropna.html"
   ]
  },
  {
   "cell_type": "code",
   "execution_count": null,
   "metadata": {},
   "outputs": [],
   "source": [
    "survey_['employment_status'].dropna().head(15)"
   ]
  },
  {
   "cell_type": "code",
   "execution_count": null,
   "metadata": {},
   "outputs": [],
   "source": []
  },
  {
   "cell_type": "markdown",
   "metadata": {},
   "source": [
    "Or we can fill the null value with a custom value with `.fillna()`  \n",
    "https://pandas.pydata.org/pandas-docs/stable/generated/pandas.Series.fillna.html"
   ]
  },
  {
   "cell_type": "code",
   "execution_count": null,
   "metadata": {},
   "outputs": [],
   "source": [
    "survey_['employment_status'].fillna('no answer').head(15)"
   ]
  },
  {
   "cell_type": "code",
   "execution_count": null,
   "metadata": {},
   "outputs": [],
   "source": []
  },
  {
   "cell_type": "markdown",
   "metadata": {},
   "source": [
    "## Grouping by a column/variable with `.groupby()`"
   ]
  },
  {
   "cell_type": "code",
   "execution_count": null,
   "metadata": {},
   "outputs": [],
   "source": [
    "field = survey.groupby(['field']).mean() # 'field' becomes the index"
   ]
  },
  {
   "cell_type": "code",
   "execution_count": null,
   "metadata": {},
   "outputs": [],
   "source": [
    "field.head()"
   ]
  },
  {
   "cell_type": "code",
   "execution_count": null,
   "metadata": {},
   "outputs": [],
   "source": []
  },
  {
   "cell_type": "markdown",
   "metadata": {},
   "source": [
    "## Make a graph to put all together"
   ]
  },
  {
   "cell_type": "code",
   "execution_count": null,
   "metadata": {},
   "outputs": [],
   "source": [
    "import matplotlib.pyplot as plt"
   ]
  },
  {
   "cell_type": "code",
   "execution_count": null,
   "metadata": {},
   "outputs": [],
   "source": [
    "def donation_2015on2016(field):\n",
    "    survey_ = survey[survey['field'] == field]\n",
    "    \n",
    "    groups = survey_.groupby('employment_status')\n",
    "\n",
    "    fig, ax = plt.subplots(figsize=(8,5))\n",
    "    ax.margins(0.05)\n",
    "\n",
    "    for status, group in groups:\n",
    "        ax.plot(group['donate_2015_c'], group['donate_2016_c'], marker='.', linestyle='', alpha=0.4, ms=12, label=status)\n",
    "    \n",
    "    ax.legend()\n",
    "\n",
    "    ax.set_xlabel('Donations made in 2015 (USD)')\n",
    "    ax.set_ylabel('Donations made in 2016 (USD)')\n",
    "    ax.set_title('Donation from people working in ' + field)\n",
    "\n",
    "    plt.show()"
   ]
  },
  {
   "cell_type": "code",
   "execution_count": null,
   "metadata": {},
   "outputs": [],
   "source": [
    "donation_2015on2016('Computers (Practical: IT, programming, etc.)')"
   ]
  },
  {
   "cell_type": "code",
   "execution_count": null,
   "metadata": {},
   "outputs": [],
   "source": [
    "donation_2015on2016('Other')"
   ]
  },
  {
   "cell_type": "code",
   "execution_count": null,
   "metadata": {},
   "outputs": [],
   "source": [
    "donation_2015on2016('Business (non-EA)')"
   ]
  },
  {
   "cell_type": "code",
   "execution_count": null,
   "metadata": {},
   "outputs": [],
   "source": [
    "donation_2015on2016('Finance')"
   ]
  },
  {
   "cell_type": "code",
   "execution_count": null,
   "metadata": {},
   "outputs": [],
   "source": [
    "survey[survey['field'] == 'Finance'].loc[:, ['id', 'donate_2015_c', 'donate_2016_c']].head()"
   ]
  },
  {
   "cell_type": "code",
   "execution_count": null,
   "metadata": {},
   "outputs": [],
   "source": []
  },
  {
   "cell_type": "markdown",
   "metadata": {},
   "source": [
    "---\n",
    "### `>>> Let's practice` \n",
    "Interactive session in groups, going back on the the American time usage.  \n",
    "Source https://www.ibm.com/communities/analytics/watson-analytics-blog/american-time-use-survey\n",
    "\n",
    "1. As a group explore and decide the major hypothesis and insights you want to deepen\n",
    "2. Use Matplotlib and Seaborn (and Pandas if necessary) to visualise and rapprensent hypothesis and insights\n",
    "3. Choose one particular exploration and insight you want to share with the rest of the class"
   ]
  },
  {
   "cell_type": "code",
   "execution_count": null,
   "metadata": {},
   "outputs": [],
   "source": [
    "time_survey = pd.read_csv('data/WA_American-Time-Use-Survey-lite.csv')"
   ]
  },
  {
   "cell_type": "code",
   "execution_count": null,
   "metadata": {},
   "outputs": [],
   "source": [
    "# 1  \n",
    "# Using Pandas to decide what to explore (you can merge together the individual work of last week)"
   ]
  },
  {
   "cell_type": "code",
   "execution_count": null,
   "metadata": {},
   "outputs": [],
   "source": []
  },
  {
   "cell_type": "code",
   "execution_count": null,
   "metadata": {},
   "outputs": [],
   "source": []
  },
  {
   "cell_type": "code",
   "execution_count": null,
   "metadata": {},
   "outputs": [],
   "source": []
  },
  {
   "cell_type": "code",
   "execution_count": null,
   "metadata": {},
   "outputs": [],
   "source": [
    "# 2\n",
    "# Start exploring the data with visualisations"
   ]
  },
  {
   "cell_type": "code",
   "execution_count": null,
   "metadata": {},
   "outputs": [],
   "source": []
  },
  {
   "cell_type": "code",
   "execution_count": null,
   "metadata": {},
   "outputs": [],
   "source": []
  },
  {
   "cell_type": "code",
   "execution_count": null,
   "metadata": {},
   "outputs": [],
   "source": []
  },
  {
   "cell_type": "code",
   "execution_count": null,
   "metadata": {},
   "outputs": [],
   "source": [
    "# 3\n",
    "# Choose one insight to dig deeper and to share later with the rest of the class"
   ]
  },
  {
   "cell_type": "code",
   "execution_count": null,
   "metadata": {},
   "outputs": [],
   "source": []
  },
  {
   "cell_type": "code",
   "execution_count": null,
   "metadata": {},
   "outputs": [],
   "source": []
  },
  {
   "cell_type": "code",
   "execution_count": null,
   "metadata": {},
   "outputs": [],
   "source": []
  }
 ],
 "metadata": {
  "kernel_info": {
   "name": "python3"
  },
  "kernelspec": {
   "display_name": "Python 3",
   "language": "python",
   "name": "python3"
  },
  "language_info": {
   "codemirror_mode": {
    "name": "ipython",
    "version": 3
   },
   "file_extension": ".py",
   "mimetype": "text/x-python",
   "name": "python",
   "nbconvert_exporter": "python",
   "pygments_lexer": "ipython3",
   "version": "3.7.1"
  },
  "nteract": {
   "version": "0.9.0"
  }
 },
 "nbformat": 4,
 "nbformat_minor": 2
}
