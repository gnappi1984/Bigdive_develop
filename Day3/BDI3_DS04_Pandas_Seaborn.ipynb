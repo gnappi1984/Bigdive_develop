{
 "cells": [
  {
   "cell_type": "markdown",
   "metadata": {},
   "source": [
    "# BIG DIVE Intesa 3\n",
    "## Data visualisation with Seaborn\n",
    "by Stefania Delprete, TOP-IX  \n",
    "stefania.delprete@top-ix.org \n",
    "\n",
    "https://www.linkedin.com/in/astrastefania   \n",
    "https://twitter.com/astrastefania  \n",
    "\n",
    "---"
   ]
  },
  {
   "cell_type": "markdown",
   "metadata": {},
   "source": [
    "## IMDB dataset\n",
    "\n",
    "Source Kaggle: https://www.kaggle.com/kevalm/movie-imbd-dataset"
   ]
  },
  {
   "cell_type": "code",
   "execution_count": 2,
   "metadata": {},
   "outputs": [],
   "source": [
    "import pandas as pd"
   ]
  },
  {
   "cell_type": "code",
   "execution_count": 3,
   "metadata": {},
   "outputs": [],
   "source": [
    "movies = pd.read_csv('../../BDINTESA3/Data_Science/data/IMDB_social.csv')"
   ]
  },
  {
   "cell_type": "code",
   "execution_count": null,
   "metadata": {},
   "outputs": [],
   "source": []
  },
  {
   "cell_type": "markdown",
   "metadata": {},
   "source": [
    "## First exploration"
   ]
  },
  {
   "cell_type": "code",
   "execution_count": 4,
   "metadata": {},
   "outputs": [
    {
     "data": {
      "text/plain": [
       "(5043, 28)"
      ]
     },
     "execution_count": 4,
     "metadata": {},
     "output_type": "execute_result"
    }
   ],
   "source": [
    "movies.shape"
   ]
  },
  {
   "cell_type": "code",
   "execution_count": 5,
   "metadata": {},
   "outputs": [
    {
     "data": {
      "text/plain": [
       "Index(['color', 'director_name', 'num_critic_for_reviews', 'duration',\n",
       "       'director_facebook_likes', 'actor_3_facebook_likes', 'actor_2_name',\n",
       "       'actor_1_facebook_likes', 'gross', 'genres', 'actor_1_name',\n",
       "       'movie_title', 'num_voted_users', 'cast_total_facebook_likes',\n",
       "       'actor_3_name', 'facenumber_in_poster', 'plot_keywords',\n",
       "       'movie_imdb_link', 'num_user_for_reviews', 'language', 'country',\n",
       "       'content_rating', 'budget', 'title_year', 'actor_2_facebook_likes',\n",
       "       'imdb_score', 'aspect_ratio', 'movie_facebook_likes'],\n",
       "      dtype='object')"
      ]
     },
     "execution_count": 5,
     "metadata": {},
     "output_type": "execute_result"
    }
   ],
   "source": [
    "movies.columns"
   ]
  },
  {
   "cell_type": "code",
   "execution_count": 6,
   "metadata": {},
   "outputs": [
    {
     "data": {
      "text/html": [
       "<div>\n",
       "<style scoped>\n",
       "    .dataframe tbody tr th:only-of-type {\n",
       "        vertical-align: middle;\n",
       "    }\n",
       "\n",
       "    .dataframe tbody tr th {\n",
       "        vertical-align: top;\n",
       "    }\n",
       "\n",
       "    .dataframe thead th {\n",
       "        text-align: right;\n",
       "    }\n",
       "</style>\n",
       "<table border=\"1\" class=\"dataframe\">\n",
       "  <thead>\n",
       "    <tr style=\"text-align: right;\">\n",
       "      <th></th>\n",
       "      <th>color</th>\n",
       "      <th>director_name</th>\n",
       "      <th>num_critic_for_reviews</th>\n",
       "      <th>duration</th>\n",
       "      <th>director_facebook_likes</th>\n",
       "      <th>actor_3_facebook_likes</th>\n",
       "      <th>actor_2_name</th>\n",
       "      <th>actor_1_facebook_likes</th>\n",
       "      <th>gross</th>\n",
       "      <th>genres</th>\n",
       "      <th>...</th>\n",
       "      <th>num_user_for_reviews</th>\n",
       "      <th>language</th>\n",
       "      <th>country</th>\n",
       "      <th>content_rating</th>\n",
       "      <th>budget</th>\n",
       "      <th>title_year</th>\n",
       "      <th>actor_2_facebook_likes</th>\n",
       "      <th>imdb_score</th>\n",
       "      <th>aspect_ratio</th>\n",
       "      <th>movie_facebook_likes</th>\n",
       "    </tr>\n",
       "  </thead>\n",
       "  <tbody>\n",
       "    <tr>\n",
       "      <th>0</th>\n",
       "      <td>Color</td>\n",
       "      <td>James Cameron</td>\n",
       "      <td>723.0</td>\n",
       "      <td>178.0</td>\n",
       "      <td>0.0</td>\n",
       "      <td>855.0</td>\n",
       "      <td>Joel David Moore</td>\n",
       "      <td>1000.0</td>\n",
       "      <td>760505847.0</td>\n",
       "      <td>Action|Adventure|Fantasy|Sci-Fi</td>\n",
       "      <td>...</td>\n",
       "      <td>3054.0</td>\n",
       "      <td>English</td>\n",
       "      <td>USA</td>\n",
       "      <td>PG-13</td>\n",
       "      <td>237000000.0</td>\n",
       "      <td>2009.0</td>\n",
       "      <td>936.0</td>\n",
       "      <td>7.9</td>\n",
       "      <td>1.78</td>\n",
       "      <td>33000</td>\n",
       "    </tr>\n",
       "    <tr>\n",
       "      <th>1</th>\n",
       "      <td>Color</td>\n",
       "      <td>Gore Verbinski</td>\n",
       "      <td>302.0</td>\n",
       "      <td>169.0</td>\n",
       "      <td>563.0</td>\n",
       "      <td>1000.0</td>\n",
       "      <td>Orlando Bloom</td>\n",
       "      <td>40000.0</td>\n",
       "      <td>309404152.0</td>\n",
       "      <td>Action|Adventure|Fantasy</td>\n",
       "      <td>...</td>\n",
       "      <td>1238.0</td>\n",
       "      <td>English</td>\n",
       "      <td>USA</td>\n",
       "      <td>PG-13</td>\n",
       "      <td>300000000.0</td>\n",
       "      <td>2007.0</td>\n",
       "      <td>5000.0</td>\n",
       "      <td>7.1</td>\n",
       "      <td>2.35</td>\n",
       "      <td>0</td>\n",
       "    </tr>\n",
       "    <tr>\n",
       "      <th>2</th>\n",
       "      <td>Color</td>\n",
       "      <td>Sam Mendes</td>\n",
       "      <td>602.0</td>\n",
       "      <td>148.0</td>\n",
       "      <td>0.0</td>\n",
       "      <td>161.0</td>\n",
       "      <td>Rory Kinnear</td>\n",
       "      <td>11000.0</td>\n",
       "      <td>200074175.0</td>\n",
       "      <td>Action|Adventure|Thriller</td>\n",
       "      <td>...</td>\n",
       "      <td>994.0</td>\n",
       "      <td>English</td>\n",
       "      <td>UK</td>\n",
       "      <td>PG-13</td>\n",
       "      <td>245000000.0</td>\n",
       "      <td>2015.0</td>\n",
       "      <td>393.0</td>\n",
       "      <td>6.8</td>\n",
       "      <td>2.35</td>\n",
       "      <td>85000</td>\n",
       "    </tr>\n",
       "    <tr>\n",
       "      <th>3</th>\n",
       "      <td>Color</td>\n",
       "      <td>Christopher Nolan</td>\n",
       "      <td>813.0</td>\n",
       "      <td>164.0</td>\n",
       "      <td>22000.0</td>\n",
       "      <td>23000.0</td>\n",
       "      <td>Christian Bale</td>\n",
       "      <td>27000.0</td>\n",
       "      <td>448130642.0</td>\n",
       "      <td>Action|Thriller</td>\n",
       "      <td>...</td>\n",
       "      <td>2701.0</td>\n",
       "      <td>English</td>\n",
       "      <td>USA</td>\n",
       "      <td>PG-13</td>\n",
       "      <td>250000000.0</td>\n",
       "      <td>2012.0</td>\n",
       "      <td>23000.0</td>\n",
       "      <td>8.5</td>\n",
       "      <td>2.35</td>\n",
       "      <td>164000</td>\n",
       "    </tr>\n",
       "    <tr>\n",
       "      <th>4</th>\n",
       "      <td>NaN</td>\n",
       "      <td>Doug Walker</td>\n",
       "      <td>NaN</td>\n",
       "      <td>NaN</td>\n",
       "      <td>131.0</td>\n",
       "      <td>NaN</td>\n",
       "      <td>Rob Walker</td>\n",
       "      <td>131.0</td>\n",
       "      <td>NaN</td>\n",
       "      <td>Documentary</td>\n",
       "      <td>...</td>\n",
       "      <td>NaN</td>\n",
       "      <td>NaN</td>\n",
       "      <td>NaN</td>\n",
       "      <td>NaN</td>\n",
       "      <td>NaN</td>\n",
       "      <td>NaN</td>\n",
       "      <td>12.0</td>\n",
       "      <td>7.1</td>\n",
       "      <td>NaN</td>\n",
       "      <td>0</td>\n",
       "    </tr>\n",
       "  </tbody>\n",
       "</table>\n",
       "<p>5 rows × 28 columns</p>\n",
       "</div>"
      ],
      "text/plain": [
       "   color      director_name  num_critic_for_reviews  duration  \\\n",
       "0  Color      James Cameron                   723.0     178.0   \n",
       "1  Color     Gore Verbinski                   302.0     169.0   \n",
       "2  Color         Sam Mendes                   602.0     148.0   \n",
       "3  Color  Christopher Nolan                   813.0     164.0   \n",
       "4    NaN        Doug Walker                     NaN       NaN   \n",
       "\n",
       "   director_facebook_likes  actor_3_facebook_likes      actor_2_name  \\\n",
       "0                      0.0                   855.0  Joel David Moore   \n",
       "1                    563.0                  1000.0     Orlando Bloom   \n",
       "2                      0.0                   161.0      Rory Kinnear   \n",
       "3                  22000.0                 23000.0    Christian Bale   \n",
       "4                    131.0                     NaN        Rob Walker   \n",
       "\n",
       "   actor_1_facebook_likes        gross                           genres  \\\n",
       "0                  1000.0  760505847.0  Action|Adventure|Fantasy|Sci-Fi   \n",
       "1                 40000.0  309404152.0         Action|Adventure|Fantasy   \n",
       "2                 11000.0  200074175.0        Action|Adventure|Thriller   \n",
       "3                 27000.0  448130642.0                  Action|Thriller   \n",
       "4                   131.0          NaN                      Documentary   \n",
       "\n",
       "          ...          num_user_for_reviews language  country  content_rating  \\\n",
       "0         ...                        3054.0  English      USA           PG-13   \n",
       "1         ...                        1238.0  English      USA           PG-13   \n",
       "2         ...                         994.0  English       UK           PG-13   \n",
       "3         ...                        2701.0  English      USA           PG-13   \n",
       "4         ...                           NaN      NaN      NaN             NaN   \n",
       "\n",
       "        budget  title_year actor_2_facebook_likes imdb_score  aspect_ratio  \\\n",
       "0  237000000.0      2009.0                  936.0        7.9          1.78   \n",
       "1  300000000.0      2007.0                 5000.0        7.1          2.35   \n",
       "2  245000000.0      2015.0                  393.0        6.8          2.35   \n",
       "3  250000000.0      2012.0                23000.0        8.5          2.35   \n",
       "4          NaN         NaN                   12.0        7.1           NaN   \n",
       "\n",
       "  movie_facebook_likes  \n",
       "0                33000  \n",
       "1                    0  \n",
       "2                85000  \n",
       "3               164000  \n",
       "4                    0  \n",
       "\n",
       "[5 rows x 28 columns]"
      ]
     },
     "execution_count": 6,
     "metadata": {},
     "output_type": "execute_result"
    }
   ],
   "source": [
    "movies.head()"
   ]
  },
  {
   "cell_type": "code",
   "execution_count": 7,
   "metadata": {},
   "outputs": [
    {
     "data": {
      "text/html": [
       "<div>\n",
       "<style scoped>\n",
       "    .dataframe tbody tr th:only-of-type {\n",
       "        vertical-align: middle;\n",
       "    }\n",
       "\n",
       "    .dataframe tbody tr th {\n",
       "        vertical-align: top;\n",
       "    }\n",
       "\n",
       "    .dataframe thead th {\n",
       "        text-align: right;\n",
       "    }\n",
       "</style>\n",
       "<table border=\"1\" class=\"dataframe\">\n",
       "  <thead>\n",
       "    <tr style=\"text-align: right;\">\n",
       "      <th></th>\n",
       "      <th>num_critic_for_reviews</th>\n",
       "      <th>duration</th>\n",
       "      <th>director_facebook_likes</th>\n",
       "      <th>actor_3_facebook_likes</th>\n",
       "      <th>actor_1_facebook_likes</th>\n",
       "      <th>gross</th>\n",
       "      <th>num_voted_users</th>\n",
       "      <th>cast_total_facebook_likes</th>\n",
       "      <th>facenumber_in_poster</th>\n",
       "      <th>num_user_for_reviews</th>\n",
       "      <th>budget</th>\n",
       "      <th>title_year</th>\n",
       "      <th>actor_2_facebook_likes</th>\n",
       "      <th>imdb_score</th>\n",
       "      <th>aspect_ratio</th>\n",
       "      <th>movie_facebook_likes</th>\n",
       "    </tr>\n",
       "  </thead>\n",
       "  <tbody>\n",
       "    <tr>\n",
       "      <th>count</th>\n",
       "      <td>4993.000000</td>\n",
       "      <td>5028.000000</td>\n",
       "      <td>4939.000000</td>\n",
       "      <td>5020.000000</td>\n",
       "      <td>5036.000000</td>\n",
       "      <td>4.159000e+03</td>\n",
       "      <td>5.043000e+03</td>\n",
       "      <td>5043.000000</td>\n",
       "      <td>5030.000000</td>\n",
       "      <td>5022.000000</td>\n",
       "      <td>4.551000e+03</td>\n",
       "      <td>4935.000000</td>\n",
       "      <td>5030.000000</td>\n",
       "      <td>5043.000000</td>\n",
       "      <td>4714.000000</td>\n",
       "      <td>5043.000000</td>\n",
       "    </tr>\n",
       "    <tr>\n",
       "      <th>mean</th>\n",
       "      <td>140.194272</td>\n",
       "      <td>107.201074</td>\n",
       "      <td>686.509212</td>\n",
       "      <td>645.009761</td>\n",
       "      <td>6560.047061</td>\n",
       "      <td>4.846841e+07</td>\n",
       "      <td>8.366816e+04</td>\n",
       "      <td>9699.063851</td>\n",
       "      <td>1.371173</td>\n",
       "      <td>272.770808</td>\n",
       "      <td>3.975262e+07</td>\n",
       "      <td>2002.470517</td>\n",
       "      <td>1651.754473</td>\n",
       "      <td>6.442138</td>\n",
       "      <td>2.220403</td>\n",
       "      <td>7525.964505</td>\n",
       "    </tr>\n",
       "    <tr>\n",
       "      <th>std</th>\n",
       "      <td>121.601675</td>\n",
       "      <td>25.197441</td>\n",
       "      <td>2813.328607</td>\n",
       "      <td>1665.041728</td>\n",
       "      <td>15020.759120</td>\n",
       "      <td>6.845299e+07</td>\n",
       "      <td>1.384853e+05</td>\n",
       "      <td>18163.799124</td>\n",
       "      <td>2.013576</td>\n",
       "      <td>377.982886</td>\n",
       "      <td>2.061149e+08</td>\n",
       "      <td>12.474599</td>\n",
       "      <td>4042.438863</td>\n",
       "      <td>1.125116</td>\n",
       "      <td>1.385113</td>\n",
       "      <td>19320.445110</td>\n",
       "    </tr>\n",
       "    <tr>\n",
       "      <th>min</th>\n",
       "      <td>1.000000</td>\n",
       "      <td>7.000000</td>\n",
       "      <td>0.000000</td>\n",
       "      <td>0.000000</td>\n",
       "      <td>0.000000</td>\n",
       "      <td>1.620000e+02</td>\n",
       "      <td>5.000000e+00</td>\n",
       "      <td>0.000000</td>\n",
       "      <td>0.000000</td>\n",
       "      <td>1.000000</td>\n",
       "      <td>2.180000e+02</td>\n",
       "      <td>1916.000000</td>\n",
       "      <td>0.000000</td>\n",
       "      <td>1.600000</td>\n",
       "      <td>1.180000</td>\n",
       "      <td>0.000000</td>\n",
       "    </tr>\n",
       "    <tr>\n",
       "      <th>25%</th>\n",
       "      <td>50.000000</td>\n",
       "      <td>93.000000</td>\n",
       "      <td>7.000000</td>\n",
       "      <td>133.000000</td>\n",
       "      <td>614.000000</td>\n",
       "      <td>5.340988e+06</td>\n",
       "      <td>8.593500e+03</td>\n",
       "      <td>1411.000000</td>\n",
       "      <td>0.000000</td>\n",
       "      <td>65.000000</td>\n",
       "      <td>6.000000e+06</td>\n",
       "      <td>1999.000000</td>\n",
       "      <td>281.000000</td>\n",
       "      <td>5.800000</td>\n",
       "      <td>1.850000</td>\n",
       "      <td>0.000000</td>\n",
       "    </tr>\n",
       "    <tr>\n",
       "      <th>50%</th>\n",
       "      <td>110.000000</td>\n",
       "      <td>103.000000</td>\n",
       "      <td>49.000000</td>\n",
       "      <td>371.500000</td>\n",
       "      <td>988.000000</td>\n",
       "      <td>2.551750e+07</td>\n",
       "      <td>3.435900e+04</td>\n",
       "      <td>3090.000000</td>\n",
       "      <td>1.000000</td>\n",
       "      <td>156.000000</td>\n",
       "      <td>2.000000e+07</td>\n",
       "      <td>2005.000000</td>\n",
       "      <td>595.000000</td>\n",
       "      <td>6.600000</td>\n",
       "      <td>2.350000</td>\n",
       "      <td>166.000000</td>\n",
       "    </tr>\n",
       "    <tr>\n",
       "      <th>75%</th>\n",
       "      <td>195.000000</td>\n",
       "      <td>118.000000</td>\n",
       "      <td>194.500000</td>\n",
       "      <td>636.000000</td>\n",
       "      <td>11000.000000</td>\n",
       "      <td>6.230944e+07</td>\n",
       "      <td>9.630900e+04</td>\n",
       "      <td>13756.500000</td>\n",
       "      <td>2.000000</td>\n",
       "      <td>326.000000</td>\n",
       "      <td>4.500000e+07</td>\n",
       "      <td>2011.000000</td>\n",
       "      <td>918.000000</td>\n",
       "      <td>7.200000</td>\n",
       "      <td>2.350000</td>\n",
       "      <td>3000.000000</td>\n",
       "    </tr>\n",
       "    <tr>\n",
       "      <th>max</th>\n",
       "      <td>813.000000</td>\n",
       "      <td>511.000000</td>\n",
       "      <td>23000.000000</td>\n",
       "      <td>23000.000000</td>\n",
       "      <td>640000.000000</td>\n",
       "      <td>7.605058e+08</td>\n",
       "      <td>1.689764e+06</td>\n",
       "      <td>656730.000000</td>\n",
       "      <td>43.000000</td>\n",
       "      <td>5060.000000</td>\n",
       "      <td>1.221550e+10</td>\n",
       "      <td>2016.000000</td>\n",
       "      <td>137000.000000</td>\n",
       "      <td>9.500000</td>\n",
       "      <td>16.000000</td>\n",
       "      <td>349000.000000</td>\n",
       "    </tr>\n",
       "  </tbody>\n",
       "</table>\n",
       "</div>"
      ],
      "text/plain": [
       "       num_critic_for_reviews     duration  director_facebook_likes  \\\n",
       "count             4993.000000  5028.000000              4939.000000   \n",
       "mean               140.194272   107.201074               686.509212   \n",
       "std                121.601675    25.197441              2813.328607   \n",
       "min                  1.000000     7.000000                 0.000000   \n",
       "25%                 50.000000    93.000000                 7.000000   \n",
       "50%                110.000000   103.000000                49.000000   \n",
       "75%                195.000000   118.000000               194.500000   \n",
       "max                813.000000   511.000000             23000.000000   \n",
       "\n",
       "       actor_3_facebook_likes  actor_1_facebook_likes         gross  \\\n",
       "count             5020.000000             5036.000000  4.159000e+03   \n",
       "mean               645.009761             6560.047061  4.846841e+07   \n",
       "std               1665.041728            15020.759120  6.845299e+07   \n",
       "min                  0.000000                0.000000  1.620000e+02   \n",
       "25%                133.000000              614.000000  5.340988e+06   \n",
       "50%                371.500000              988.000000  2.551750e+07   \n",
       "75%                636.000000            11000.000000  6.230944e+07   \n",
       "max              23000.000000           640000.000000  7.605058e+08   \n",
       "\n",
       "       num_voted_users  cast_total_facebook_likes  facenumber_in_poster  \\\n",
       "count     5.043000e+03                5043.000000           5030.000000   \n",
       "mean      8.366816e+04                9699.063851              1.371173   \n",
       "std       1.384853e+05               18163.799124              2.013576   \n",
       "min       5.000000e+00                   0.000000              0.000000   \n",
       "25%       8.593500e+03                1411.000000              0.000000   \n",
       "50%       3.435900e+04                3090.000000              1.000000   \n",
       "75%       9.630900e+04               13756.500000              2.000000   \n",
       "max       1.689764e+06              656730.000000             43.000000   \n",
       "\n",
       "       num_user_for_reviews        budget   title_year  \\\n",
       "count           5022.000000  4.551000e+03  4935.000000   \n",
       "mean             272.770808  3.975262e+07  2002.470517   \n",
       "std              377.982886  2.061149e+08    12.474599   \n",
       "min                1.000000  2.180000e+02  1916.000000   \n",
       "25%               65.000000  6.000000e+06  1999.000000   \n",
       "50%              156.000000  2.000000e+07  2005.000000   \n",
       "75%              326.000000  4.500000e+07  2011.000000   \n",
       "max             5060.000000  1.221550e+10  2016.000000   \n",
       "\n",
       "       actor_2_facebook_likes   imdb_score  aspect_ratio  movie_facebook_likes  \n",
       "count             5030.000000  5043.000000   4714.000000           5043.000000  \n",
       "mean              1651.754473     6.442138      2.220403           7525.964505  \n",
       "std               4042.438863     1.125116      1.385113          19320.445110  \n",
       "min                  0.000000     1.600000      1.180000              0.000000  \n",
       "25%                281.000000     5.800000      1.850000              0.000000  \n",
       "50%                595.000000     6.600000      2.350000            166.000000  \n",
       "75%                918.000000     7.200000      2.350000           3000.000000  \n",
       "max             137000.000000     9.500000     16.000000         349000.000000  "
      ]
     },
     "execution_count": 7,
     "metadata": {},
     "output_type": "execute_result"
    }
   ],
   "source": [
    "movies.describe()"
   ]
  },
  {
   "cell_type": "code",
   "execution_count": 8,
   "metadata": {},
   "outputs": [
    {
     "name": "stdout",
     "output_type": "stream",
     "text": [
      "<class 'pandas.core.frame.DataFrame'>\n",
      "RangeIndex: 5043 entries, 0 to 5042\n",
      "Data columns (total 28 columns):\n",
      "color                        5024 non-null object\n",
      "director_name                4939 non-null object\n",
      "num_critic_for_reviews       4993 non-null float64\n",
      "duration                     5028 non-null float64\n",
      "director_facebook_likes      4939 non-null float64\n",
      "actor_3_facebook_likes       5020 non-null float64\n",
      "actor_2_name                 5030 non-null object\n",
      "actor_1_facebook_likes       5036 non-null float64\n",
      "gross                        4159 non-null float64\n",
      "genres                       5043 non-null object\n",
      "actor_1_name                 5036 non-null object\n",
      "movie_title                  5043 non-null object\n",
      "num_voted_users              5043 non-null int64\n",
      "cast_total_facebook_likes    5043 non-null int64\n",
      "actor_3_name                 5020 non-null object\n",
      "facenumber_in_poster         5030 non-null float64\n",
      "plot_keywords                4890 non-null object\n",
      "movie_imdb_link              5043 non-null object\n",
      "num_user_for_reviews         5022 non-null float64\n",
      "language                     5031 non-null object\n",
      "country                      5038 non-null object\n",
      "content_rating               4740 non-null object\n",
      "budget                       4551 non-null float64\n",
      "title_year                   4935 non-null float64\n",
      "actor_2_facebook_likes       5030 non-null float64\n",
      "imdb_score                   5043 non-null float64\n",
      "aspect_ratio                 4714 non-null float64\n",
      "movie_facebook_likes         5043 non-null int64\n",
      "dtypes: float64(13), int64(3), object(12)\n",
      "memory usage: 1.1+ MB\n"
     ]
    }
   ],
   "source": [
    "movies.info()"
   ]
  },
  {
   "cell_type": "code",
   "execution_count": 9,
   "metadata": {},
   "outputs": [
    {
     "data": {
      "text/plain": [
       "array(['Action|Adventure|Fantasy|Sci-Fi', 'Action|Adventure|Fantasy',\n",
       "       'Action|Adventure|Thriller', 'Action|Thriller', 'Documentary',\n",
       "       'Action|Adventure|Sci-Fi', 'Action|Adventure|Romance',\n",
       "       'Adventure|Animation|Comedy|Family|Fantasy|Musical|Romance',\n",
       "       'Adventure|Family|Fantasy|Mystery', 'Action|Adventure',\n",
       "       'Action|Adventure|Western', 'Action|Adventure|Family|Fantasy',\n",
       "       'Action|Adventure|Comedy|Family|Fantasy|Sci-Fi',\n",
       "       'Adventure|Fantasy', 'Action|Adventure|Drama|History',\n",
       "       'Adventure|Family|Fantasy', 'Action|Adventure|Drama|Romance',\n",
       "       'Drama|Romance', 'Action|Adventure|Sci-Fi|Thriller',\n",
       "       'Action|Adventure|Fantasy|Romance',\n",
       "       'Action|Adventure|Fantasy|Sci-Fi|Thriller',\n",
       "       'Adventure|Animation|Comedy|Family|Fantasy',\n",
       "       'Adventure|Animation|Comedy|Family|Sport', 'Action|Crime|Thriller',\n",
       "       'Action|Adventure|Horror|Sci-Fi|Thriller',\n",
       "       'Adventure|Animation|Family|Sci-Fi',\n",
       "       'Action|Comedy|Crime|Thriller', 'Animation|Drama|Family|Fantasy',\n",
       "       'Action|Crime|Drama|Thriller', 'Adventure|Animation|Comedy|Family',\n",
       "       'Action|Adventure|Animation|Comedy|Family|Sci-Fi',\n",
       "       'Adventure|Drama|Family|Mystery', 'Action|Comedy|Sci-Fi|Western',\n",
       "       'Action|Adventure|Fantasy|Horror|Thriller',\n",
       "       'Action|Adventure|Comedy|Sci-Fi', 'Comedy|Family|Fantasy',\n",
       "       'Adventure|Animation|Comedy|Drama|Family|Fantasy',\n",
       "       'Adventure|Drama|Family|Fantasy', 'Action|Adventure|Drama|Fantasy',\n",
       "       'Action|Adventure|Family|Fantasy|Romance',\n",
       "       'Action|Adventure|Drama|Sci-Fi', 'Action|Adventure|Romance|Sci-Fi',\n",
       "       'Action|Adventure|Family|Mystery|Sci-Fi',\n",
       "       'Action|Adventure|Animation|Comedy|Drama|Family|Sci-Fi',\n",
       "       'Adventure|Animation|Comedy|Family|Sci-Fi',\n",
       "       'Adventure|Animation|Family|Fantasy', 'Action|Sci-Fi',\n",
       "       'Adventure|Drama|Sci-Fi', 'Action|Adventure|Drama|Horror|Sci-Fi',\n",
       "       'Drama|Fantasy|Romance', 'Adventure|Sci-Fi',\n",
       "       'Action|Adventure|Drama|Thriller',\n",
       "       'Action|Drama|History|Romance|War',\n",
       "       'Action|Adventure|Biography|Drama|History|Romance|War',\n",
       "       'Action|Drama', 'Drama|Horror|Sci-Fi',\n",
       "       'Adventure|Comedy|Family|Fantasy',\n",
       "       'Animation|Comedy|Family|Fantasy',\n",
       "       'Action|Adventure|Animation|Comedy|Family',\n",
       "       'Adventure|Animation|Comedy|Family|Fantasy|Musical',\n",
       "       'Mystery|Thriller', 'Adventure|Animation|Comedy|Drama|Family',\n",
       "       'Action|Adventure|Animation|Comedy|Family|Fantasy|Sci-Fi',\n",
       "       'Comedy|Fantasy|Horror', 'Drama|Fantasy|Horror|Thriller',\n",
       "       'Action|Drama|Thriller', 'Adventure',\n",
       "       'Action|Comedy|Fantasy|Sci-Fi',\n",
       "       'Action|Adventure|Comedy|Family|Fantasy|Mystery|Sci-Fi',\n",
       "       'Action|Adventure|Animation|Fantasy', 'Comedy|Crime',\n",
       "       'Action|Drama|History|War', 'Action|Adventure|Drama',\n",
       "       'Action|Adventure|Animation|Comedy|Family|Fantasy',\n",
       "       'Action|Drama|Mystery|Sci-Fi', 'Action|Adventure|Comedy|Thriller',\n",
       "       'Action|Adventure|Animation|Fantasy|Romance|Sci-Fi',\n",
       "       'Action|Adventure|Drama|History|War',\n",
       "       'Adventure|Drama|Fantasy|Romance',\n",
       "       'Animation|Comedy|Family|Musical',\n",
       "       'Action|Crime|Drama|Mystery|Thriller',\n",
       "       'Adventure|Drama|Thriller|Western',\n",
       "       'Adventure|Animation|Comedy|Family|Western',\n",
       "       'Action|Mystery|Thriller', 'Adventure|Sci-Fi|Thriller',\n",
       "       'Adventure|Animation|Comedy|Family|Fantasy|Sci-Fi',\n",
       "       'Action|Crime|Mystery|Thriller', 'Action|Adventure|Family|Mystery',\n",
       "       'Adventure|Drama|Romance|War',\n",
       "       'Adventure|Animation|Family|Thriller', 'Action|Fantasy',\n",
       "       'Action|Animation|Comedy|Family|Sci-Fi', 'Action|Comedy|Fantasy',\n",
       "       'Fantasy', 'Adventure|Animation|Comedy|Family|Musical',\n",
       "       'Action|Adventure|Crime|Mystery|Thriller',\n",
       "       'Action|Adventure|History', 'Action', 'Adventure|Drama|Fantasy',\n",
       "       'Action|Fantasy|Thriller', 'Action|Adventure|Comedy|Crime',\n",
       "       'Adventure|Mystery|Sci-Fi', 'Action|Drama|Sci-Fi|Thriller',\n",
       "       'Action|Crime|Sci-Fi|Thriller', 'Action|Family|Sport',\n",
       "       'Comedy|Drama|Romance', 'Action|Comedy|Romance',\n",
       "       'Action|Adventure|Mystery|Sci-Fi', 'Action|Drama|War',\n",
       "       'Adventure|Drama|Sci-Fi|Thriller',\n",
       "       'Action|Adventure|Comedy|Family|Fantasy', 'Crime|Thriller',\n",
       "       'Action|Comedy|Crime|Romance|Thriller', 'Biography|Drama',\n",
       "       'Action|Comedy|Crime|Sci-Fi|Thriller', 'Action|Adventure|Crime',\n",
       "       'Action|Drama|Fantasy|War',\n",
       "       'Animation|Comedy|Family|Music|Western',\n",
       "       'Action|Adventure|Mystery|Sci-Fi|Thriller',\n",
       "       'Action|Drama|Sci-Fi|Sport', 'Action|Crime|Romance|Thriller',\n",
       "       'Action|Adventure|Comedy', 'Biography|Drama|Sport',\n",
       "       'Action|Mystery|Sci-Fi|Thriller',\n",
       "       'Animation|Family|Fantasy|Musical|Romance', 'Comedy',\n",
       "       'Action|Adventure|Romance|Sci-Fi|Thriller', 'Comedy|Romance',\n",
       "       'Action|Drama|Romance', 'Biography|Crime|Drama|History|Romance',\n",
       "       'Biography|Crime|Drama', 'Action|Comedy|Thriller',\n",
       "       'Action|Comedy|Crime', 'Action|Drama|Mystery|Thriller',\n",
       "       'Drama|Western', 'Animation|Drama|Family|Musical|Romance',\n",
       "       'Action|Adventure|Comedy|Family|Mystery',\n",
       "       'Action|Romance|Thriller', 'Action|Fantasy|Horror|Mystery',\n",
       "       'Adventure|Drama|Thriller', 'Biography|Comedy|Crime|Drama',\n",
       "       'Action|Sci-Fi|War', 'Drama|Sci-Fi',\n",
       "       'Action|Adventure|Animation|Family|Fantasy',\n",
       "       'Action|Crime|Fantasy|Romance|Thriller', 'Adventure|Comedy|Sci-Fi',\n",
       "       'Action|Crime|Sport|Thriller',\n",
       "       'Action|Adventure|Biography|Drama|History|Thriller',\n",
       "       'Action|Comedy|Sci-Fi', 'Action|Drama|Thriller|War',\n",
       "       'Drama|Mystery|Thriller', 'Action|Adventure|Fantasy|Thriller',\n",
       "       'Crime|Drama', 'Drama|History|Romance|War',\n",
       "       'Animation|Comedy|Family|Sport', 'Comedy|Sci-Fi|Thriller',\n",
       "       'Drama|History|War', 'Adventure|Animation|Comedy|Family|Romance',\n",
       "       'Drama|Family|Fantasy|Romance', 'Drama|Fantasy|Thriller',\n",
       "       'Drama|Mystery|Romance|Sci-Fi|Thriller',\n",
       "       'Drama|History|War|Western', 'Action|Adventure|Animation|Family',\n",
       "       'Adventure|Comedy|Family|Mystery|Sci-Fi',\n",
       "       'Drama|Fantasy|Horror|Mystery|Thriller',\n",
       "       'Animation|Comedy|Family|Sci-Fi',\n",
       "       'Adventure|Comedy|Drama|Fantasy|Romance',\n",
       "       'Action|Adventure|Comedy|Crime|Thriller', 'Crime|Drama|Thriller',\n",
       "       'Adventure|Animation|Family|Fantasy|Musical|War', 'Action|Comedy',\n",
       "       'Crime|Drama|Mystery|Thriller', 'Adventure|Drama|History',\n",
       "       'Action|Adventure|Animation|Family|Fantasy|Sci-Fi',\n",
       "       'Adventure|Animation|Comedy|Family|Fantasy|Music',\n",
       "       'Drama|History|Thriller|War', 'Action|Animation|Comedy|Sci-Fi',\n",
       "       'Comedy|Family|Fantasy|Horror|Mystery',\n",
       "       'Drama|Mystery|Sci-Fi|Thriller', 'Action|Horror|Sci-Fi|Thriller',\n",
       "       'Crime|Mystery|Thriller',\n",
       "       'Action|Adventure|Comedy|Crime|Mystery|Thriller',\n",
       "       'Comedy|Drama|Sci-Fi', 'Action|Family|Fantasy|Musical',\n",
       "       'Drama|History|Sport', 'Adventure|Drama|Romance',\n",
       "       'Animation|Comedy|Family|Music|Romance',\n",
       "       'Animation|Comedy|Family|Fantasy|Musical|Romance',\n",
       "       'Crime|Drama|Horror|Mystery|Thriller', 'Adventure|Comedy|Family',\n",
       "       'Action|Adventure|Comedy|Fantasy', 'Comedy|Drama|Music|Musical',\n",
       "       'Adventure|Comedy|Drama|Family|Fantasy',\n",
       "       'Action|Comedy|Fantasy|Romance', 'Comedy|Romance|Sci-Fi',\n",
       "       'Adventure|Comedy|Mystery', 'Comedy|Drama|Fantasy|Romance',\n",
       "       'Action|Comedy|Family|Fantasy',\n",
       "       'Action|Adventure|Fantasy|Horror|Sci-Fi',\n",
       "       'Crime|Drama|History|Mystery|Thriller', 'Comedy|Drama',\n",
       "       'Adventure|Animation|Comedy|Drama|Family|Fantasy|Sci-Fi',\n",
       "       'Action|Drama|Romance|Sci-Fi|Thriller', 'Comedy|Crime|Sport',\n",
       "       'Comedy|Family|Fantasy|Romance',\n",
       "       'Action|Adventure|Crime|Drama|Sci-Fi|Thriller',\n",
       "       'Adventure|Drama|History|Romance|War', 'Comedy|Family|Sci-Fi',\n",
       "       'Fantasy|Horror|Mystery|Thriller',\n",
       "       'Adventure|Animation|Comedy|Family|Fantasy|Sci-Fi|Sport',\n",
       "       'Adventure|Comedy|Crime|Family|Mystery', 'Drama|Sci-Fi|Thriller',\n",
       "       'Action|Crime|Mystery|Romance|Thriller',\n",
       "       'Action|Adventure|Comedy|Romance',\n",
       "       'Adventure|Animation|Family|Western', 'Comedy|Family|Romance',\n",
       "       'Action|Adventure|Family|Sci-Fi|Thriller',\n",
       "       'Animation|Family|Fantasy|Music',\n",
       "       'Action|Adventure|Family|Fantasy|Thriller', 'Comedy|Fantasy',\n",
       "       'Action|Adventure|Comedy|Fantasy|Thriller',\n",
       "       'Drama|Horror|Mystery|Sci-Fi', 'Action|Sci-Fi|Thriller',\n",
       "       'Drama|History|Thriller', 'Adventure|Animation|Family',\n",
       "       'Drama|Musical|Romance', 'Documentary|Drama',\n",
       "       'Action|Adventure|Drama|History|Romance', 'Animation|Family',\n",
       "       'Adventure|Animation|Drama|Family|Musical',\n",
       "       'Animation|Comedy|Family|Fantasy|Sci-Fi',\n",
       "       'Adventure|Animation|Drama|Family|Fantasy', 'Sci-Fi|Thriller',\n",
       "       'Animation|Comedy|Family', 'Action|Crime|Fantasy|Thriller',\n",
       "       'Comedy|Drama|Family|Music|Musical|Romance',\n",
       "       'Horror|Mystery|Thriller', 'Action|Adventure|Comedy|Family|Sci-Fi',\n",
       "       'Comedy|Family', 'Biography|Comedy|Drama|History',\n",
       "       'Drama|Music|Musical', 'Crime|Drama|Mystery', 'Comedy|Crime|Music',\n",
       "       'Action|Comedy|Romance|Thriller',\n",
       "       'Animation|Comedy|Family|Fantasy|Mystery',\n",
       "       'Comedy|Crime|Drama|Romance', 'Action|Adventure|Romance|Thriller',\n",
       "       'Drama|History|Romance', 'Action|Drama|Fantasy|Romance',\n",
       "       'Action|Adventure|Animation|Family|Sci-Fi', 'Action|Drama|Sci-Fi',\n",
       "       'Drama|Horror|Sci-Fi|Thriller', 'Animation|Comedy|Fantasy',\n",
       "       'Action|Animation|Comedy|Family',\n",
       "       'Action|Adventure|Comedy|Romance|Thriller', 'Action|Comedy|Sport',\n",
       "       'Biography|Drama|History|War', 'Adventure|Animation|Comedy',\n",
       "       'Action|Drama|Sport', 'Adventure|Drama|Family',\n",
       "       'Drama|Mystery|Romance|Thriller',\n",
       "       'Adventure|Animation|Comedy|Family|Fantasy|Romance',\n",
       "       'Adventure|Drama|War', 'Action|Adventure|Crime|Thriller',\n",
       "       'Adventure|Drama|Fantasy|Mystery|Thriller',\n",
       "       'Fantasy|Mystery|Romance|Sci-Fi|Thriller',\n",
       "       'Drama|Fantasy|Mystery|Thriller',\n",
       "       'Animation|Comedy|Family|Fantasy|Music',\n",
       "       'Drama|Horror|Romance|Thriller', 'Drama|War', 'Drama',\n",
       "       'Action|Drama|Fantasy|Horror|War',\n",
       "       'Adventure|Family|Fantasy|Romance',\n",
       "       'Adventure|Biography|Drama|History|War',\n",
       "       'Action|Adventure|Horror|Sci-Fi', 'Action|Fantasy|Horror',\n",
       "       'Comedy|Drama|Musical|Romance', 'Action|Sci-Fi|Sport',\n",
       "       'Action|Adventure|Animation|Comedy|Crime|Family|Fantasy',\n",
       "       'Adventure|Animation|Family|Fantasy|Musical',\n",
       "       'Action|Crime|Mystery|Sci-Fi|Thriller',\n",
       "       'Action|Comedy|Crime|Drama|Thriller',\n",
       "       'Adventure|Drama|History|Romance', 'Biography|Drama|Thriller',\n",
       "       'Action|Drama|History|Thriller', 'Action|Adventure|Fantasy|War',\n",
       "       'Comedy|Fantasy|Romance',\n",
       "       'Action|Adventure|Comedy|Romance|Thriller|Western',\n",
       "       'Biography|Drama|Sport|War', 'Comedy|Drama|Family|Musical',\n",
       "       'Action|Adventure|Fantasy|Horror|Sci-Fi|Thriller', 'Drama|Sport',\n",
       "       'Action|Fantasy|Sci-Fi|Thriller', 'Drama|Mystery|Romance',\n",
       "       'Adventure|Biography|Drama|History|Sport|Thriller',\n",
       "       'Crime|Drama|Fantasy', 'Adventure|Biography|Crime|Drama|Western',\n",
       "       'Action|War', 'Comedy|Romance|Sport',\n",
       "       'Crime|Drama|Mystery|Thriller|Western', 'Comedy|Sport',\n",
       "       'Comedy|Drama|Family', 'Crime|Drama|Fantasy|Mystery',\n",
       "       'Adventure|Animation|Biography|Drama|Family|Fantasy|Musical',\n",
       "       'Drama|Romance|Western', 'Documentary|Music', 'Drama|Thriller',\n",
       "       'Animation|Family|Fantasy', 'Action|Fantasy|Horror|Sci-Fi',\n",
       "       'Biography|Comedy|Drama', 'Action|Horror|Sci-Fi',\n",
       "       'Adventure|Comedy', 'Biography|Drama|History|Sport',\n",
       "       'Comedy|Crime|Romance|Thriller', 'Comedy|Crime|Romance',\n",
       "       'Horror|Mystery|Sci-Fi|Thriller', 'Biography|Drama|Music',\n",
       "       'Drama|Fantasy|Sport', 'Adventure|Comedy|Drama|Music',\n",
       "       'Action|Fantasy|Horror|Sci-Fi|Thriller',\n",
       "       'Adventure|Animation|Comedy|Drama|Family|Fantasy|Romance',\n",
       "       'Horror|Sci-Fi|Thriller', 'Drama|Fantasy|Mystery|Romance|Thriller',\n",
       "       'Action|Adventure|Drama|History|Romance|War',\n",
       "       'Drama|Fantasy|Mystery|Romance', 'Fantasy|Horror|Mystery|Romance',\n",
       "       'Adventure|Comedy|Family|Romance|Sci-Fi', 'Drama|Horror|Thriller',\n",
       "       'Action|Comedy|Mystery|Romance',\n",
       "       'Action|Adventure|Comedy|Romance|Sci-Fi',\n",
       "       'Action|Biography|Drama|History|Thriller|War',\n",
       "       'Adventure|Comedy|Family|Fantasy|Horror',\n",
       "       'Comedy|Family|Romance|Sci-Fi', 'Action|Adventure|Thriller|War',\n",
       "       'Comedy|Drama|Romance|Sport', 'Comedy|Western',\n",
       "       'Action|Comedy|Crime|Drama', 'Drama|Music|Romance|War',\n",
       "       'Action|Comedy|Drama|Family|Thriller', 'Action|Crime',\n",
       "       'Adventure|Animation|Drama|Family|History|Musical|Romance',\n",
       "       'Action|Adventure|Drama|Romance|Sci-Fi',\n",
       "       'Action|Adventure|Comedy|Family|Romance',\n",
       "       'Action|Adventure|Comedy|Western',\n",
       "       'Biography|Drama|History|Musical',\n",
       "       'Adventure|Drama|Horror|Thriller', 'Action|Drama|Sport|Thriller',\n",
       "       'Drama|Musical|Romance|Thriller', 'Comedy|Drama|Family|Fantasy',\n",
       "       'Adventure|Comedy|Crime|Family|Musical',\n",
       "       'Drama|Music|Musical|Romance', 'Drama|Mystery|Romance|War',\n",
       "       'Crime|Drama|Romance', 'Crime|Horror|Mystery|Thriller',\n",
       "       'Adventure|Animation|Drama|Family|Fantasy|Musical|Mystery|Romance',\n",
       "       'Action|Horror|Thriller', 'Drama|History|Horror',\n",
       "       'Drama|Romance|Sport', 'Comedy|Family|Musical|Romance',\n",
       "       'Romance|Sci-Fi|Thriller', 'Biography|Comedy|Drama|Romance',\n",
       "       'Mystery|Sci-Fi|Thriller', 'Drama|Fantasy|Horror',\n",
       "       'Adventure|Comedy|Drama|Fantasy|Musical', 'Horror|Mystery',\n",
       "       'Action|Adventure|Family|Fantasy|Sci-Fi|Thriller',\n",
       "       'Adventure|Comedy|Family|Fantasy|Romance|Sport',\n",
       "       'Adventure|Horror|Mystery', 'Crime|Drama|Romance|Thriller',\n",
       "       'Comedy|Crime|Drama|Thriller', 'Drama|Fantasy',\n",
       "       'Adventure|Comedy|Drama', 'Action|Biography|Drama|History|War',\n",
       "       'Adventure|Comedy|Fantasy', 'Adventure|Comedy|Crime|Drama|Family',\n",
       "       'Action|Biography|Crime|Drama|Thriller', 'Comedy|Sci-Fi',\n",
       "       'Drama|Romance|Sci-Fi',\n",
       "       'Action|Adventure|Comedy|Crime|Music|Mystery',\n",
       "       'Comedy|Drama|Music', 'Action|Crime|Drama|Sci-Fi|Thriller',\n",
       "       'Horror|Thriller', 'Action|Adventure|Comedy|Drama|War',\n",
       "       'Drama|Mystery|Sci-Fi', 'Crime|Drama|Music',\n",
       "       'Adventure|Crime|Drama|Western', 'Comedy|Drama|Thriller',\n",
       "       'Drama|Romance|War', 'Action|Comedy|Crime|Music|Romance|Thriller',\n",
       "       'Crime|Romance|Thriller', 'Action|Adventure|Drama|Sci-Fi|Thriller',\n",
       "       'Action|Drama|Fantasy|Thriller|Western',\n",
       "       'Action|Drama|Mystery|Thriller|War',\n",
       "       'Biography|Crime|Drama|Thriller', 'Action|Comedy|Crime|Romance',\n",
       "       'Action|Adventure|Family|Fantasy|Sci-Fi',\n",
       "       'Adventure|Comedy|Family|Musical', 'Action|Horror',\n",
       "       'Action|Adventure|Horror|Thriller', 'Comedy|Drama|Music|Romance',\n",
       "       'Action|Crime|Drama|Romance|Thriller',\n",
       "       'Comedy|Family|Romance|Sport', 'Drama|Family|Fantasy',\n",
       "       'Drama|Fantasy|Musical|Romance',\n",
       "       'Adventure|Comedy|Family|Fantasy|Sci-Fi', 'Comedy|Musical',\n",
       "       'Biography|Drama|History', 'Action|Crime|Drama|Thriller|War',\n",
       "       'Comedy|Crime|Thriller', 'Drama|Fantasy|Horror|Mystery',\n",
       "       'Action|Animation|Comedy|Family|Fantasy',\n",
       "       'Biography|Drama|History|Thriller',\n",
       "       'Action|Adventure|Crime|Drama|Mystery|Thriller',\n",
       "       'Animation|Family|Fantasy|Musical', 'Adventure|Drama|Western',\n",
       "       'Biography|Drama|History|Romance', 'Drama|Horror|Mystery|Thriller',\n",
       "       'Action|Fantasy|Western', 'Comedy|War', 'Drama|Music',\n",
       "       'Action|Drama|Family|Sport', 'Action|Biography|Drama|Thriller|War',\n",
       "       'Comedy|Drama|Sport', 'Adventure|Comedy|Sci-Fi|Western',\n",
       "       'Fantasy|Horror|Romance', 'Biography|Drama|Romance',\n",
       "       'Action|Adventure|Drama|Romance|War',\n",
       "       'Adventure|Comedy|Crime|Romance',\n",
       "       'Comedy|Drama|Family|Fantasy|Romance', 'Horror', 'Comedy|Music',\n",
       "       'Action|Adventure|Drama|Romance|Thriller',\n",
       "       'Biography|Drama|Music|Musical', 'Drama|History',\n",
       "       'Comedy|Music|Romance',\n",
       "       'Action|Adventure|Crime|Fantasy|Mystery|Thriller',\n",
       "       'Adventure|Drama|Mystery', 'Biography|Crime|Drama|Music',\n",
       "       'Crime|Drama|Horror|Thriller',\n",
       "       'Adventure|Animation|Comedy|Drama|Family|Fantasy|Musical',\n",
       "       'Action|Adventure|Comedy|Music|Thriller',\n",
       "       'Adventure|Animation|Comedy|Crime|Family',\n",
       "       'Comedy|Romance|Sci-Fi|Thriller', 'Comedy|Crime|Family|Romance',\n",
       "       'Crime|Horror|Thriller', 'Action|Horror|Mystery|Sci-Fi|Thriller',\n",
       "       'Comedy|Fantasy|Sci-Fi',\n",
       "       'Adventure|Animation|Comedy|Fantasy|Romance',\n",
       "       'Action|Adventure|Family|Thriller',\n",
       "       'Adventure|Comedy|Drama|Romance|Thriller|War',\n",
       "       'Adventure|Animation|Comedy|Fantasy|Music|Romance',\n",
       "       'Action|Drama|Fantasy', 'Action|Adventure|Drama|Fantasy|War',\n",
       "       'Drama|Fantasy|Romance|Sci-Fi',\n",
       "       'Animation|Comedy|Family|Horror|Sci-Fi',\n",
       "       'Biography|Drama|Romance|Sport', 'Action|Biography|Drama',\n",
       "       'Adventure|Drama', 'Horror|Mystery|Sci-Fi',\n",
       "       'Action|Adventure|Drama|Thriller|Western',\n",
       "       'Adventure|Family|Fantasy|Sci-Fi',\n",
       "       'Adventure|Comedy|History|Romance', 'Action|Biography|Drama|Sport',\n",
       "       'Drama|Family',\n",
       "       'Action|Adventure|Crime|Drama|Family|Fantasy|Romance|Thriller',\n",
       "       'Biography|Comedy|Romance', 'Action|Biography|Drama|History',\n",
       "       'Biography|Drama|War', 'Adventure|Comedy|Family|Sci-Fi',\n",
       "       'Biography|Drama|Family|History|Sport',\n",
       "       'Biography|Comedy|Drama|History|Music', 'Fantasy|Horror',\n",
       "       'Comedy|Drama|Family|Sport', 'Comedy|Drama|Romance|Sci-Fi',\n",
       "       'Adventure|Animation|Comedy|Family|War',\n",
       "       'Action|Comedy|Sci-Fi|Thriller', 'Comedy|Horror',\n",
       "       'Drama|Thriller|War', 'Action|Western',\n",
       "       'Action|Adventure|Family|Sci-Fi',\n",
       "       'Adventure|Biography|Drama|Thriller', 'Drama|Romance|War|Western',\n",
       "       'Action|Comedy|Crime|Western',\n",
       "       'Action|Adventure|Comedy|Drama|Thriller', 'Drama|Music|Romance',\n",
       "       'Action|Adventure|Crime|Drama|Thriller',\n",
       "       'Adventure|Comedy|Family|Sport', 'Comedy|Drama|Fantasy',\n",
       "       'Comedy|Family|Sport', 'Action|Adventure|Drama|Family',\n",
       "       'Action|Comedy|War', 'Drama|Family|Sport',\n",
       "       'Action|Thriller|Western', 'Action|Drama|Fantasy|Horror|Thriller',\n",
       "       'Animation|Comedy|Family|Fantasy|Musical',\n",
       "       'Action|Adventure|Comedy|Fantasy|Romance',\n",
       "       'Action|Crime|Drama|Mystery|Sci-Fi|Thriller',\n",
       "       'Adventure|Comedy|Crime|Drama', 'Drama|Mystery',\n",
       "       'Comedy|Fantasy|Horror|Thriller',\n",
       "       'Crime|Drama|Mystery|Sci-Fi|Thriller', 'Comedy|Crime|Musical',\n",
       "       'Comedy|Drama|Family|Music|Romance', 'Comedy|Horror|Romance',\n",
       "       'Comedy|Family|Fantasy|Sport',\n",
       "       'Animation|Comedy|Family|Mystery|Sci-Fi',\n",
       "       'Adventure|Comedy|Drama|Family|Sport',\n",
       "       'Animation|Drama|Family|Fantasy|Musical|Romance',\n",
       "       'Comedy|Horror|Musical|Sci-Fi', 'Crime|Drama|Sport',\n",
       "       'Action|Adventure|Animation|Drama|Mystery|Sci-Fi|Thriller',\n",
       "       'Action|Adventure|Crime|Drama|Romance', 'Action|Comedy|Horror',\n",
       "       'Adventure|Horror|Thriller', 'Adventure|Fantasy|Mystery',\n",
       "       'Action|Drama|Romance|Sport',\n",
       "       'Biography|Crime|Drama|History|Western',\n",
       "       'Action|Biography|Crime|Drama', 'Adventure|Animation|Fantasy',\n",
       "       'Adventure|Animation|Comedy|Fantasy',\n",
       "       'Biography|Drama|Music|Romance',\n",
       "       'Adventure|Drama|Mystery|Sci-Fi|Thriller',\n",
       "       'Biography|Comedy|Crime|Drama|Romance|Thriller',\n",
       "       'Biography|Crime|Drama|History|Music',\n",
       "       'Adventure|Animation|Comedy|Drama|Family|Musical',\n",
       "       'Biography|Comedy|Drama|Music|Romance',\n",
       "       'Adventure|Animation|Sci-Fi', 'Drama|Romance|Thriller',\n",
       "       'Action|Fantasy|Horror|Thriller', 'Adventure|Biography',\n",
       "       'Action|Comedy|Family', 'Action|Horror|Romance',\n",
       "       'Adventure|Drama|History|Romance|Thriller|War',\n",
       "       'Crime|Drama|Sci-Fi|Thriller', 'Action|Comedy|Crime|Music',\n",
       "       'Comedy|Drama|Family|Romance',\n",
       "       'Action|Drama|Fantasy|Mystery|Sci-Fi|Thriller',\n",
       "       'Adventure|Family|Fantasy|Horror|Mystery',\n",
       "       'Action|Crime|Drama|History|Western', 'Comedy|Crime|Drama',\n",
       "       'Comedy|Family|Fantasy|Music|Romance',\n",
       "       'Adventure|Comedy|Crime|Music',\n",
       "       'Action|Adventure|Comedy|Sci-Fi|Thriller',\n",
       "       'Action|Crime|Drama|Western',\n",
       "       'Action|Adventure|Comedy|Family|Romance|Sci-Fi',\n",
       "       'Action|Fantasy|Romance|Sci-Fi', 'Comedy|Crime|Mystery|Romance',\n",
       "       'Adventure|Family', 'Action|Drama|Music|Romance',\n",
       "       'Adventure|Comedy|Family|Fantasy|Horror|Mystery',\n",
       "       'Adventure|Fantasy|Mystery|Thriller',\n",
       "       'Action|Biography|Drama|History|Romance|Western',\n",
       "       'Fantasy|Horror|Mystery', 'Biography|Drama|Family',\n",
       "       'Action|Adventure|Comedy|Crime|Family|Romance|Thriller',\n",
       "       'Comedy|Fantasy|Horror|Romance', 'Comedy|Family|Music',\n",
       "       'Action|Comedy|Music', 'Adventure|Comedy|Crime',\n",
       "       'Biography|Comedy|Drama|Sport', 'Fantasy|Horror|Thriller',\n",
       "       'Comedy|Drama|Romance|Thriller', 'Adventure|Comedy|Family|Romance',\n",
       "       'Adventure|Family|Fantasy|Musical',\n",
       "       'Biography|Crime|Drama|History|Thriller',\n",
       "       'Action|Animation|Comedy|Family|Fantasy|Sci-Fi',\n",
       "       'Crime|Drama|History', 'Biography|Drama|Thriller|War',\n",
       "       'Drama|Music|Mystery|Romance|Thriller',\n",
       "       'Action|Adventure|Fantasy|Horror', 'Crime|Drama|Mystery|Romance',\n",
       "       'Action|Adventure|History|Romance', 'Action|Drama|Western',\n",
       "       'Adventure|Comedy|Family|Fantasy|Music|Sci-Fi',\n",
       "       'Adventure|Family|Fantasy|Music|Musical',\n",
       "       'Action|Adventure|Animation|Comedy|Fantasy',\n",
       "       'Adventure|Comedy|Horror|Sci-Fi', 'Horror|Sci-Fi',\n",
       "       'Biography|Comedy|Drama|Family|Sport',\n",
       "       'Action|Crime|Drama|Thriller|Western', 'Action|Drama|History',\n",
       "       'Drama|Fantasy|Romance|Thriller', 'Thriller', 'Comedy|Mystery',\n",
       "       'Comedy|Drama|Musical|Romance|War',\n",
       "       'Drama|History|Music|Romance|War', 'Comedy|History',\n",
       "       'Adventure|Animation|Family|Sport',\n",
       "       'Animation|Comedy|Fantasy|Musical', 'Game-Show|Reality-TV|Romance',\n",
       "       'Action|Comedy|Documentary',\n",
       "       'Adventure|Comedy|Drama|Family|Romance',\n",
       "       'Adventure|Comedy|Drama|Family|Mystery',\n",
       "       'Drama|Family|Music|Romance', 'Fantasy|Romance',\n",
       "       'Adventure|Animation|Family|Musical',\n",
       "       'Animation|Comedy|Drama|Family|Musical',\n",
       "       'Biography|Crime|Drama|History',\n",
       "       'Adventure|Comedy|Fantasy|Music|Sci-Fi',\n",
       "       'Comedy|Drama|Musical|Romance|Western',\n",
       "       'Action|Adventure|Drama|Mystery',\n",
       "       'Comedy|Crime|Family|Mystery|Romance|Thriller',\n",
       "       'Action|Adventure|Drama|Romance|Western',\n",
       "       'Adventure|Crime|Mystery|Sci-Fi|Thriller', 'Crime|Drama|Western',\n",
       "       'Adventure|Comedy|Drama|Fantasy', 'Adventure|Biography|Drama',\n",
       "       'Adventure|Drama|Horror|Mystery|Thriller', 'Crime|Fantasy|Horror',\n",
       "       'Animation|Family|Fantasy|Mystery', 'Action|Comedy|Crime|Fantasy',\n",
       "       'Comedy|Family|Music|Musical', 'Crime|Documentary|News',\n",
       "       'Drama|Mystery|Romance|Thriller|War', 'Action|Crime|Drama|Sport',\n",
       "       'Comedy|Drama|Music|War', 'Comedy|Musical|Romance',\n",
       "       'Comedy|Drama|Music|Musical|Romance',\n",
       "       'Comedy|Crime|Drama|Mystery|Romance',\n",
       "       'Biography|Comedy|Drama|History|Music|Musical',\n",
       "       'Animation|Drama|Mystery|Sci-Fi|Thriller',\n",
       "       'Adventure|Comedy|Drama|Romance',\n",
       "       'Comedy|Drama|Mystery|Romance|Thriller|War',\n",
       "       'Biography|Comedy|Musical',\n",
       "       'Action|Adventure|Animation|Family|Sci-Fi|Thriller',\n",
       "       'Crime|Drama|Mystery|Romance|Thriller',\n",
       "       'Comedy|Family|Fantasy|Sci-Fi',\n",
       "       'Action|Comedy|Crime|Fantasy|Horror|Mystery|Sci-Fi|Thriller',\n",
       "       'Romance|Short', 'Animation', 'Drama|Horror',\n",
       "       'Comedy|Drama|Reality-TV|Romance', 'Adventure|Comedy|Romance',\n",
       "       'Family|Fantasy|Music', 'Crime|Drama|Music|Thriller',\n",
       "       'Action|Drama|Fantasy|Mystery|Thriller',\n",
       "       'Biography|Drama|History|Music', 'Biography|Drama|Family|Sport',\n",
       "       'Comedy|Drama|War', 'Biography|Drama|Romance|War',\n",
       "       'Action|Horror|Romance|Sci-Fi|Thriller', 'Music',\n",
       "       'Action|Drama|History|Romance|War|Western',\n",
       "       'Action|Animation|Sci-Fi|Thriller',\n",
       "       'Action|Animation|Comedy|Crime|Family',\n",
       "       'Drama|Family|Music|Musical', 'Drama|Family|Musical|Romance',\n",
       "       'Comedy|Drama|Family|Fantasy|Sci-Fi',\n",
       "       'Comedy|Crime|Drama|Music|Romance',\n",
       "       'Adventure|Comedy|Family|Fantasy|Musical',\n",
       "       'Adventure|Crime|Drama|Romance', 'Comedy|Mystery|Sci-Fi|Thriller',\n",
       "       'Sci-Fi', 'Drama|Fantasy|War', 'Action|Comedy|Crime|Family',\n",
       "       'Action|Comedy|Mystery', 'Comedy|Crime|Mystery',\n",
       "       'Action|Crime|Sci-Fi', 'Comedy|Horror|Sci-Fi',\n",
       "       'Action|Comedy|Drama|Thriller', 'Drama|Family|Romance',\n",
       "       'Adventure|Comedy|Family|Music|Romance', 'Comedy|Horror|Thriller',\n",
       "       'Comedy|Family|Music|Romance',\n",
       "       'Adventure|Fantasy|Horror|Mystery|Thriller',\n",
       "       'Crime|Drama|Musical|Romance', 'Family|Music|Romance',\n",
       "       'Drama|Fantasy|Mystery|Sci-Fi',\n",
       "       'Biography|Drama|History|Thriller|War',\n",
       "       'Adventure|Crime|Drama|Mystery|Western',\n",
       "       'Drama|Fantasy|Horror|Romance', 'Comedy|Crime|Drama|Thriller|War',\n",
       "       'Action|Adventure|Drama|History|Thriller|War',\n",
       "       'Action|Comedy|Drama|War', 'Comedy|Drama|Fantasy|Music|Romance',\n",
       "       'Biography|Drama|Fantasy|History', 'Biography',\n",
       "       'Drama|Family|Music', 'Adventure|Mystery|Thriller',\n",
       "       'Comedy|Mystery|Romance', 'Biography|Crime|Drama|War',\n",
       "       'Crime|Drama|Music|Mystery|Thriller', 'Biography|Comedy|Drama|War',\n",
       "       'Comedy|Crime|Family|Sci-Fi', 'Adventure|Family|Sci-Fi',\n",
       "       'Adventure|Comedy|Romance|Sci-Fi',\n",
       "       'Action|Adventure|Comedy|Family',\n",
       "       'Biography|Comedy|Crime|Drama|Romance', 'Crime|Drama|Musical',\n",
       "       'Animation|Comedy|Crime|Drama|Family',\n",
       "       'Action|Adventure|Comedy|Fantasy|Mystery',\n",
       "       'Action|Adventure|Drama|Thriller|War', 'Crime|Drama|Music|Romance',\n",
       "       'Adventure|Animation|Comedy|Crime',\n",
       "       'Adventure|Comedy|Fantasy|Sci-Fi',\n",
       "       'Comedy|Drama|Family|Fantasy|Musical',\n",
       "       'Action|Adventure|Biography|Drama|History', 'Comedy|Crime|Family',\n",
       "       'Adventure|Drama|Thriller|War', 'Comedy|Drama|Horror|Sci-Fi',\n",
       "       'Adventure|Crime|Thriller', 'Mystery|Romance|Sci-Fi|Thriller',\n",
       "       'Fantasy|Mystery|Thriller', 'Family|Musical',\n",
       "       'Adventure|Crime|Drama|Mystery|Thriller',\n",
       "       'Drama|Fantasy|Music|Romance', 'Adventure|Drama|History|War',\n",
       "       'Family|Sci-Fi', 'Drama|History|Romance|Western',\n",
       "       'Adventure|Comedy|Music|Sci-Fi', 'Drama|Family|Musical',\n",
       "       'Action|Comedy|Drama|Music', 'Fantasy|Horror|Sci-Fi', 'Western',\n",
       "       'Comedy|Romance|Thriller', 'Biography|Crime|Drama|Romance',\n",
       "       'Adventure|Comedy|Drama|Romance|Sci-Fi',\n",
       "       'Drama|Music|Mystery|Romance', 'Action|Crime|Drama',\n",
       "       'Adventure|Biography|Drama|War', 'Action|Comedy|Drama',\n",
       "       'Adventure|Animation', 'Comedy|Drama|Horror|Romance',\n",
       "       'Action|Comedy|Drama|Western', 'Comedy|Crime|Drama|Mystery',\n",
       "       'Adventure|Animation|Fantasy|Horror|Sci-Fi',\n",
       "       'Action|Drama|Romance|Thriller',\n",
       "       'Biography|Comedy|Drama|Family|Romance',\n",
       "       'Action|Biography|Drama|History|Romance|War',\n",
       "       'Action|Animation|Fantasy|Horror|Mystery|Sci-Fi|Thriller',\n",
       "       'Action|Adventure|Animation|Drama|Fantasy|Sci-Fi',\n",
       "       'Horror|Musical|Sci-Fi', 'Biography|Drama|Family|Musical|Romance',\n",
       "       'Comedy|Crime|Drama|Romance|Thriller',\n",
       "       'Adventure|Drama|Fantasy|Mystery',\n",
       "       'Animation|Comedy|Drama|Romance', 'Comedy|Crime|Musical|Romance',\n",
       "       'Comedy|Crime|Musical|Mystery', 'Action|Animation|Sci-Fi',\n",
       "       'Drama|War|Western', 'Drama|Romance|Sci-Fi|Thriller',\n",
       "       'Animation|Biography|Drama|War', 'Adventure|Fantasy|Thriller',\n",
       "       'Documentary|Sport', 'Crime|Horror',\n",
       "       'Adventure|Biography|Drama|History',\n",
       "       'Action|Crime|Horror|Sci-Fi|Thriller',\n",
       "       'Comedy|Fantasy|Horror|Mystery',\n",
       "       'Action|Adventure|Animation|Comedy|Drama|Family|Fantasy|Thriller',\n",
       "       'Action|Adventure|Drama|Fantasy|Sci-Fi', 'Drama|Mystery|War',\n",
       "       'Action|Comedy|Crime|Drama|Romance|Thriller',\n",
       "       'Comedy|Drama|Musical', 'Mystery|Romance|Thriller',\n",
       "       'Adventure|Comedy|Drama|Family', 'Action|Adventure|Drama|Western',\n",
       "       'Musical|Romance', 'Documentary|Drama|War',\n",
       "       'Biography|Crime|Drama|Western', 'Comedy|Family|Fantasy|Musical',\n",
       "       'Crime|Drama|Musical|Romance|Thriller',\n",
       "       'Fantasy|Horror|Romance|Thriller', 'Adventure|Documentary|Short',\n",
       "       'Adventure|Crime|Drama|Thriller', 'Thriller|War', 'Action|Sport',\n",
       "       'Musical', 'Mystery|Western', 'Comedy|Drama|History|Romance',\n",
       "       'Comedy|Horror|Sci-Fi|Thriller',\n",
       "       'Drama|Horror|Mystery|Sci-Fi|Thriller', 'Comedy|Documentary',\n",
       "       'Adventure|Drama|Family|Fantasy|Sci-Fi',\n",
       "       'Adventure|Drama|Family|Romance|Western', 'Adventure|Horror',\n",
       "       'Comedy|Music|Sci-Fi', 'Biography|Crime|Drama|Romance|Thriller',\n",
       "       'Comedy|Crime|Drama|Mystery|Thriller',\n",
       "       'Biography|Crime|Drama|Mystery|Thriller',\n",
       "       'Crime|Horror|Music|Thriller', 'Crime|Documentary|War',\n",
       "       'Crime|Thriller|War', 'Comedy|Crime|Horror|Thriller',\n",
       "       'Animation|Comedy', 'Family', 'Comedy|Drama|Romance|War',\n",
       "       'Biography|Drama|Romance|Western', 'Drama|Musical',\n",
       "       'Adventure|Comedy|Western', 'Action|Drama|History|Thriller|War',\n",
       "       'Fantasy|Thriller', 'Drama|Horror|Mystery',\n",
       "       'Adventure|Drama|History|Thriller|War',\n",
       "       'Comedy|Documentary|Drama|Fantasy|Mystery|Sci-Fi',\n",
       "       'Crime|Drama|Fantasy|Romance', 'Action|Crime|Horror|Thriller',\n",
       "       'Comedy|Horror|Mystery', 'Drama|Family|History|Musical',\n",
       "       'Adventure|Biography|Drama|Romance', 'Adventure|War|Western',\n",
       "       'Biography|Comedy|Musical|Romance|Western',\n",
       "       'Adventure|Comedy|Musical|Romance', 'Comedy|Drama|Romance|Western',\n",
       "       'Action|Adventure|Comedy|Musical', 'Comedy|Drama|Fantasy|Horror',\n",
       "       'Action|Biography|Crime|Drama|Family|Fantasy',\n",
       "       'Action|Animation|Crime|Sci-Fi|Thriller',\n",
       "       'Action|Comedy|Horror|Thriller', 'Crime|Documentary|Drama',\n",
       "       'Biography|Comedy|Documentary', 'Comedy|Thriller',\n",
       "       'Comedy|Documentary|Music', 'Action|Adventure|Romance|Western',\n",
       "       'Crime|Drama|History|Romance', 'Family|Fantasy|Musical',\n",
       "       'Comedy|Drama|Horror', 'Drama|Family|Western',\n",
       "       'Comedy|Drama|Horror|Sci-Fi|Thriller', 'Drama|Horror|Romance',\n",
       "       'Adventure|Crime|Drama', 'Action|Adventure|Crime|Drama',\n",
       "       'Adventure|Family|Sport', 'Romance',\n",
       "       'Action|Adventure|Animation|Comedy|Sci-Fi',\n",
       "       'Drama|Fantasy|Romance|War', 'Documentary|History|Sport',\n",
       "       'Action|Drama|Horror|Thriller', 'Comedy|Crime|Drama|Sci-Fi',\n",
       "       'Comedy|Family|Musical|Romance|Short', 'Comedy|Documentary|War',\n",
       "       'Comedy|Drama|Mystery|Romance|Thriller',\n",
       "       'Action|Comedy|Horror|Sci-Fi', 'Adventure|Drama|Romance|Western',\n",
       "       'Animation|Comedy|Drama', 'Adventure|Documentary|Drama|Sport',\n",
       "       'Crime|Documentary',\n",
       "       'Animation|Biography|Documentary|Drama|History|War',\n",
       "       'Documentary|War', 'Documentary|History',\n",
       "       'Biography|Documentary|History',\n",
       "       'Action|Adventure|Comedy|Drama|Music|Sci-Fi',\n",
       "       'Biography|Comedy|Drama|Music', 'Animation|Comedy|Family|Romance',\n",
       "       'Horror|Romance|Sci-Fi', 'Action|Comedy|Fantasy|Horror',\n",
       "       'Crime|Drama|Film-Noir|Mystery|Thriller',\n",
       "       'Comedy|Fantasy|Musical|Sci-Fi',\n",
       "       'Action|Adventure|History|Western',\n",
       "       'Documentary|Drama|History|News',\n",
       "       'Biography|Crime|Documentary|History|Thriller',\n",
       "       'Crime|Drama|Film-Noir', 'Film-Noir|Mystery|Romance|Thriller',\n",
       "       'Comedy|Crime|Sci-Fi|Thriller', 'Adventure|Comedy|Horror',\n",
       "       'Action|Crime|Drama|Mystery', 'Horror|Romance|Thriller',\n",
       "       'Drama|Film-Noir|Mystery|Thriller', 'Drama|Film-Noir',\n",
       "       'Crime|Film-Noir|Thriller', 'Action|Adventure|Romance|War',\n",
       "       'Action|Horror|Mystery|Thriller', 'Adventure|Comedy|Sport',\n",
       "       'Comedy|Horror|Musical', 'Adventure|Comedy|History',\n",
       "       'Action|Drama|Romance|War', 'Biography|Documentary|Music',\n",
       "       'Comedy|Fantasy|Mystery', 'Biography|Crime|Documentary|History',\n",
       "       'Adventure|Biography|Documentary|Drama',\n",
       "       'Action|Adventure|Comedy|Fantasy|Sci-Fi', 'Drama|Musical|Sci-Fi',\n",
       "       'Documentary|News', 'Comedy|Fantasy|Thriller',\n",
       "       'Animation|Drama|Family', 'Drama|Fantasy|Sci-Fi',\n",
       "       'Action|Comedy|Drama|Sci-Fi', 'Action|Adventure|Drama|War',\n",
       "       'Horror|Sci-Fi|Short|Thriller',\n",
       "       'Action|Adventure|Animation|Comedy|Fantasy|Sci-Fi',\n",
       "       'Thriller|Western', 'Documentary|Drama|Sport',\n",
       "       'Documentary|History|Music', 'Biography|Documentary|Drama',\n",
       "       'Adventure|Family|Romance',\n",
       "       'Adventure|Biography|Drama|Horror|Thriller',\n",
       "       'Documentary|Family|Music', 'Biography|Documentary|Sport',\n",
       "       'History', 'Action|Romance|Sport', 'Horror|Musical',\n",
       "       'Comedy|Mystery|Thriller', 'Action|Biography|Documentary|Sport',\n",
       "       'Comedy|Fantasy|Horror|Musical', 'Drama|Fantasy|Sci-Fi|Thriller',\n",
       "       'Biography|Documentary', 'Animation|Drama',\n",
       "       'Action|Fantasy|Horror|Mystery|Thriller',\n",
       "       'Action|Comedy|Sci-Fi|Sport',\n",
       "       'Comedy|Crime|Drama|Horror|Mystery|Thriller',\n",
       "       'Action|Adventure|Mystery|Romance|Thriller',\n",
       "       'Animation|Comedy|Drama|Fantasy|Sci-Fi',\n",
       "       'Action|Drama|Fantasy|Sci-Fi', 'Comedy|Short',\n",
       "       'Adventure|Drama|Fantasy|Thriller|Western',\n",
       "       'Adventure|Horror|Sci-Fi', 'Comedy|Drama|History|Musical|Romance',\n",
       "       'Comedy|Horror|Mystery|Thriller',\n",
       "       'Drama|Music|Mystery|Romance|Sci-Fi', 'Adventure|Documentary',\n",
       "       'Documentary|Family', 'Comedy|Crime|Drama|Horror|Thriller',\n",
       "       'Comedy|Documentary|Drama', 'Crime|Drama|Horror',\n",
       "       'Comedy|Crime|Horror'], dtype=object)"
      ]
     },
     "execution_count": 9,
     "metadata": {},
     "output_type": "execute_result"
    }
   ],
   "source": [
    "movies['genres'].unique()"
   ]
  },
  {
   "cell_type": "code",
   "execution_count": null,
   "metadata": {},
   "outputs": [],
   "source": []
  },
  {
   "cell_type": "code",
   "execution_count": 15,
   "metadata": {},
   "outputs": [
    {
     "data": {
      "text/plain": [
       "(1916.0, 2016.0)"
      ]
     },
     "execution_count": 15,
     "metadata": {},
     "output_type": "execute_result"
    }
   ],
   "source": [
    "movies['title_year'].min(), movies['title_year'].max()"
   ]
  },
  {
   "cell_type": "code",
   "execution_count": null,
   "metadata": {},
   "outputs": [],
   "source": []
  },
  {
   "cell_type": "code",
   "execution_count": 16,
   "metadata": {
    "scrolled": true
   },
   "outputs": [
    {
     "data": {
      "text/plain": [
       "array(['USA', 'UK', nan, 'New Zealand', 'Canada', 'Australia', 'Belgium',\n",
       "       'Japan', 'Germany', 'China', 'France', 'New Line', 'Mexico',\n",
       "       'Spain', 'Hong Kong', 'Czech Republic', 'India', 'Soviet Union',\n",
       "       'South Korea', 'Peru', 'Italy', 'Russia', 'Aruba', 'Denmark',\n",
       "       'Libya', 'Ireland', 'South Africa', 'Iceland', 'Switzerland',\n",
       "       'Romania', 'West Germany', 'Chile', 'Netherlands', 'Hungary',\n",
       "       'Panama', 'Greece', 'Sweden', 'Norway', 'Taiwan', 'Official site',\n",
       "       'Cambodia', 'Thailand', 'Slovakia', 'Bulgaria', 'Iran', 'Poland',\n",
       "       'Georgia', 'Turkey', 'Nigeria', 'Brazil', 'Finland', 'Bahamas',\n",
       "       'Argentina', 'Colombia', 'Israel', 'Egypt', 'Kyrgyzstan',\n",
       "       'Indonesia', 'Pakistan', 'Slovenia', 'Afghanistan',\n",
       "       'Dominican Republic', 'Cameroon', 'United Arab Emirates', 'Kenya',\n",
       "       'Philippines'], dtype=object)"
      ]
     },
     "execution_count": 16,
     "metadata": {},
     "output_type": "execute_result"
    }
   ],
   "source": [
    "movies['country'].unique()"
   ]
  },
  {
   "cell_type": "code",
   "execution_count": 17,
   "metadata": {},
   "outputs": [
    {
     "data": {
      "text/plain": [
       "65"
      ]
     },
     "execution_count": 17,
     "metadata": {},
     "output_type": "execute_result"
    }
   ],
   "source": [
    "movies['country'].nunique()"
   ]
  },
  {
   "cell_type": "code",
   "execution_count": 13,
   "metadata": {
    "scrolled": true
   },
   "outputs": [
    {
     "data": {
      "text/plain": [
       "USA            3807\n",
       "UK              448\n",
       "France          154\n",
       "Canada          126\n",
       "Germany          97\n",
       "Australia        55\n",
       "India            34\n",
       "Spain            33\n",
       "China            30\n",
       "Japan            23\n",
       "Italy            23\n",
       "Hong Kong        17\n",
       "Mexico           17\n",
       "New Zealand      15\n",
       "South Korea      14\n",
       "Name: country, dtype: int64"
      ]
     },
     "execution_count": 13,
     "metadata": {},
     "output_type": "execute_result"
    }
   ],
   "source": [
    "movies['country'].value_counts().head(15)"
   ]
  },
  {
   "cell_type": "code",
   "execution_count": null,
   "metadata": {},
   "outputs": [],
   "source": []
  },
  {
   "cell_type": "markdown",
   "metadata": {},
   "source": [
    "### Cheking null values"
   ]
  },
  {
   "cell_type": "code",
   "execution_count": 18,
   "metadata": {},
   "outputs": [
    {
     "data": {
      "text/plain": [
       "Color               4815\n",
       " Black and White     209\n",
       "NaN                   19\n",
       "Name: color, dtype: int64"
      ]
     },
     "execution_count": 18,
     "metadata": {},
     "output_type": "execute_result"
    }
   ],
   "source": [
    "movies['color'].value_counts(dropna=False)"
   ]
  },
  {
   "cell_type": "code",
   "execution_count": 19,
   "metadata": {},
   "outputs": [
    {
     "data": {
      "text/plain": [
       "19"
      ]
     },
     "execution_count": 19,
     "metadata": {},
     "output_type": "execute_result"
    }
   ],
   "source": [
    "movies['color'].isna().sum() "
   ]
  },
  {
   "cell_type": "code",
   "execution_count": 20,
   "metadata": {},
   "outputs": [
    {
     "data": {
      "text/plain": [
       "5"
      ]
     },
     "execution_count": 20,
     "metadata": {},
     "output_type": "execute_result"
    }
   ],
   "source": [
    "movies['country'].isna().sum() "
   ]
  },
  {
   "cell_type": "code",
   "execution_count": null,
   "metadata": {},
   "outputs": [],
   "source": []
  },
  {
   "cell_type": "markdown",
   "metadata": {},
   "source": [
    "---\n",
    "# Seaborn\n",
    "\n",
    "Seaborn is a library for making attractive and informative statistical graphics in Python. It is built on top of matplotlib and tightly integrated with the PyData stack, including support for numpy and pandas data structures and statistical routines from scipy and statsmodels.\n",
    "\n",
    "https://seaborn.pydata.org  \n",
    "https://github.com/mwaskom/seaborn"
   ]
  },
  {
   "cell_type": "code",
   "execution_count": 21,
   "metadata": {},
   "outputs": [],
   "source": [
    "import matplotlib.pyplot as plt\n",
    "import seaborn as sns"
   ]
  },
  {
   "cell_type": "code",
   "execution_count": 22,
   "metadata": {},
   "outputs": [
    {
     "data": {
      "text/plain": [
       "Index(['color', 'director_name', 'num_critic_for_reviews', 'duration',\n",
       "       'director_facebook_likes', 'actor_3_facebook_likes', 'actor_2_name',\n",
       "       'actor_1_facebook_likes', 'gross', 'genres', 'actor_1_name',\n",
       "       'movie_title', 'num_voted_users', 'cast_total_facebook_likes',\n",
       "       'actor_3_name', 'facenumber_in_poster', 'plot_keywords',\n",
       "       'movie_imdb_link', 'num_user_for_reviews', 'language', 'country',\n",
       "       'content_rating', 'budget', 'title_year', 'actor_2_facebook_likes',\n",
       "       'imdb_score', 'aspect_ratio', 'movie_facebook_likes'],\n",
       "      dtype='object')"
      ]
     },
     "execution_count": 22,
     "metadata": {},
     "output_type": "execute_result"
    }
   ],
   "source": [
    "movies.columns"
   ]
  },
  {
   "cell_type": "markdown",
   "metadata": {},
   "source": [
    "### Scatter plots with trends"
   ]
  },
  {
   "cell_type": "code",
   "execution_count": 23,
   "metadata": {},
   "outputs": [
    {
     "name": "stderr",
     "output_type": "stream",
     "text": [
      "C:\\Users\\U413635\\AppData\\Local\\Continuum\\anaconda3\\lib\\site-packages\\scipy\\stats\\stats.py:1713: FutureWarning: Using a non-tuple sequence for multidimensional indexing is deprecated; use `arr[tuple(seq)]` instead of `arr[seq]`. In the future this will be interpreted as an array index, `arr[np.array(seq)]`, which will result either in an error or a different result.\n",
      "  return np.add.reduce(sorted[indexer] * weights, axis=axis) / sumval\n"
     ]
    },
    {
     "data": {
      "image/png": "[encoded data removed]",
      "text/plain": [
       "<Figure size 432x288 with 1 Axes>"
      ]
     },
     "metadata": {
      "needs_background": "light"
     },
     "output_type": "display_data"
    }
   ],
   "source": [
    "sns.regplot(data=movies,\n",
    "            x='actor_1_facebook_likes',\n",
    "            y='actor_2_facebook_likes')\n",
    "\n",
    "plt.title('Scatter plot on FB like on first and second actor')\n",
    "plt.show()"
   ]
  },
  {
   "cell_type": "code",
   "execution_count": 24,
   "metadata": {},
   "outputs": [
    {
     "data": {
      "text/plain": [
       "Text(0.5, 1.0, 'Scatter plot on FB like on movie and cast')"
      ]
     },
     "execution_count": 24,
     "metadata": {},
     "output_type": "execute_result"
    },
    {
     "data": {
      "image/png": "[encoded data removed]",
      "text/plain": [
       "<Figure size 432x288 with 1 Axes>"
      ]
     },
     "metadata": {
      "needs_background": "light"
     },
     "output_type": "display_data"
    }
   ],
   "source": [
    "sns.regplot(data=movies,\n",
    "            x='movie_facebook_likes',\n",
    "            y='cast_total_facebook_likes')\n",
    "\n",
    "plt.title('Scatter plot on FB like on movie and cast')"
   ]
  },
  {
   "cell_type": "code",
   "execution_count": null,
   "metadata": {},
   "outputs": [],
   "source": []
  },
  {
   "cell_type": "markdown",
   "metadata": {},
   "source": [
    "### Histagrams and styles"
   ]
  },
  {
   "cell_type": "code",
   "execution_count": 20,
   "metadata": {},
   "outputs": [
    {
     "data": {
      "text/plain": [
       "<matplotlib.axes._subplots.AxesSubplot at 0x1a113194e0>"
      ]
     },
     "execution_count": 20,
     "metadata": {},
     "output_type": "execute_result"
    },
    {
     "data": {
      "image/png": "[encoded data removed]",
      "text/plain": [
       "<Figure size 432x288 with 1 Axes>"
      ]
     },
     "metadata": {},
     "output_type": "display_data"
    }
   ],
   "source": [
    "# Choosing 'dark' styles\n",
    "sns.set_style('dark')\n",
    "sns.distplot(movies['duration'].dropna())"
   ]
  },
  {
   "cell_type": "code",
   "execution_count": 21,
   "metadata": {},
   "outputs": [
    {
     "data": {
      "text/plain": [
       "<matplotlib.axes._subplots.AxesSubplot at 0x1a113c0be0>"
      ]
     },
     "execution_count": 21,
     "metadata": {},
     "output_type": "execute_result"
    },
    {
     "data": {
      "image/png": "[encoded data removed]",
      "text/plain": [
       "<Figure size 432x288 with 1 Axes>"
      ]
     },
     "metadata": {},
     "output_type": "display_data"
    }
   ],
   "source": [
    "# ... or 'whitegrid'\n",
    "sns.set_style('whitegrid')\n",
    "sns.distplot(movies['duration'].dropna())"
   ]
  },
  {
   "cell_type": "code",
   "execution_count": 22,
   "metadata": {},
   "outputs": [
    {
     "data": {
      "text/plain": [
       "<matplotlib.axes._subplots.AxesSubplot at 0x1a112970b8>"
      ]
     },
     "execution_count": 22,
     "metadata": {},
     "output_type": "execute_result"
    },
    {
     "data": {
      "image/png": "[encoded data removed]",
      "text/plain": [
       "<Figure size 432x288 with 1 Axes>"
      ]
     },
     "metadata": {},
     "output_type": "display_data"
    }
   ],
   "source": [
    "# ... or change palette\n",
    "sns.set(color_codes='matplotlib')\n",
    "sns.distplot(movies['duration'].dropna(), color='m')"
   ]
  },
  {
   "cell_type": "code",
   "execution_count": null,
   "metadata": {},
   "outputs": [],
   "source": []
  },
  {
   "cell_type": "markdown",
   "metadata": {},
   "source": [
    "## Rappresenting categorical data with strip plots"
   ]
  },
  {
   "cell_type": "code",
   "execution_count": 23,
   "metadata": {},
   "outputs": [
    {
     "data": {
      "text/plain": [
       "Index(['color', 'director_name', 'num_critic_for_reviews', 'duration',\n",
       "       'director_facebook_likes', 'actor_3_facebook_likes', 'actor_2_name',\n",
       "       'actor_1_facebook_likes', 'gross', 'genres', 'actor_1_name',\n",
       "       'movie_title', 'num_voted_users', 'cast_total_facebook_likes',\n",
       "       'actor_3_name', 'facenumber_in_poster', 'plot_keywords',\n",
       "       'movie_imdb_link', 'num_user_for_reviews', 'language', 'country',\n",
       "       'content_rating', 'budget', 'title_year', 'actor_2_facebook_likes',\n",
       "       'imdb_score', 'aspect_ratio', 'movie_facebook_likes'],\n",
       "      dtype='object')"
      ]
     },
     "execution_count": 23,
     "metadata": {},
     "output_type": "execute_result"
    }
   ],
   "source": [
    "movies.columns"
   ]
  },
  {
   "cell_type": "code",
   "execution_count": 24,
   "metadata": {},
   "outputs": [
    {
     "data": {
      "text/plain": [
       "color                           2\n",
       "director_name                2398\n",
       "num_critic_for_reviews        528\n",
       "duration                      191\n",
       "director_facebook_likes       435\n",
       "actor_3_facebook_likes        906\n",
       "actor_2_name                 3032\n",
       "actor_1_facebook_likes        878\n",
       "gross                        4035\n",
       "genres                        914\n",
       "actor_1_name                 2097\n",
       "movie_title                  4917\n",
       "num_voted_users              4826\n",
       "cast_total_facebook_likes    3978\n",
       "actor_3_name                 3521\n",
       "facenumber_in_poster           19\n",
       "plot_keywords                4760\n",
       "movie_imdb_link              4919\n",
       "num_user_for_reviews          954\n",
       "language                       47\n",
       "country                        65\n",
       "content_rating                 18\n",
       "budget                        439\n",
       "title_year                     91\n",
       "actor_2_facebook_likes        917\n",
       "imdb_score                     78\n",
       "aspect_ratio                   22\n",
       "movie_facebook_likes          876\n",
       "dtype: int64"
      ]
     },
     "execution_count": 24,
     "metadata": {},
     "output_type": "execute_result"
    }
   ],
   "source": [
    "movies.nunique()"
   ]
  },
  {
   "cell_type": "code",
   "execution_count": 25,
   "metadata": {},
   "outputs": [
    {
     "data": {
      "text/plain": [
       "<matplotlib.axes._subplots.AxesSubplot at 0x1a121c4438>"
      ]
     },
     "execution_count": 25,
     "metadata": {},
     "output_type": "execute_result"
    },
    {
     "data": {
      "image/png": "[encoded data removed]",
      "text/plain": [
       "<Figure size 432x288 with 1 Axes>"
      ]
     },
     "metadata": {},
     "output_type": "display_data"
    }
   ],
   "source": [
    "# Create the stripplot\n",
    "sns.stripplot(data=movies,\n",
    "         x='budget',\n",
    "         y='language',\n",
    "         jitter=True)"
   ]
  },
  {
   "cell_type": "markdown",
   "metadata": {},
   "source": [
    "Too many languages, selection on DataFrame..."
   ]
  },
  {
   "cell_type": "code",
   "execution_count": 26,
   "metadata": {},
   "outputs": [
    {
     "data": {
      "text/plain": [
       "array(['English', nan, 'Japanese', 'French', 'Mandarin', 'Aboriginal',\n",
       "       'Spanish', 'Filipino', 'Hindi', 'Russian', 'Maya', 'Kazakh',\n",
       "       'Telugu', 'Cantonese', 'Icelandic', 'German', 'Aramaic', 'Italian',\n",
       "       'Dutch', 'Dari', 'Hebrew', 'Chinese', 'Mongolian', 'Swedish',\n",
       "       'Korean', 'Thai', 'Polish', 'Bosnian', 'None', 'Hungarian',\n",
       "       'Portuguese', 'Danish', 'Arabic', 'Norwegian', 'Czech', 'Kannada',\n",
       "       'Zulu', 'Panjabi', 'Tamil', 'Dzongkha', 'Vietnamese', 'Indonesian',\n",
       "       'Urdu', 'Romanian', 'Persian', 'Slovenian', 'Greek', 'Swahili'],\n",
       "      dtype=object)"
      ]
     },
     "execution_count": 26,
     "metadata": {},
     "output_type": "execute_result"
    }
   ],
   "source": [
    "movies.language.unique()"
   ]
  },
  {
   "cell_type": "code",
   "execution_count": 27,
   "metadata": {},
   "outputs": [],
   "source": [
    "movies_en_it = movies[movies.language.isin(['English','Italian'])]"
   ]
  },
  {
   "cell_type": "code",
   "execution_count": 28,
   "metadata": {},
   "outputs": [
    {
     "data": {
      "text/plain": [
       "<matplotlib.axes._subplots.AxesSubplot at 0x1a11e38710>"
      ]
     },
     "execution_count": 28,
     "metadata": {},
     "output_type": "execute_result"
    },
    {
     "data": {
      "image/png": "[encoded data removed]",
      "text/plain": [
       "<Figure size 432x288 with 1 Axes>"
      ]
     },
     "metadata": {},
     "output_type": "display_data"
    }
   ],
   "source": [
    "# Cretint the stripplot\n",
    "sns.stripplot(data=movies_en_it,\n",
    "         x='budget',\n",
    "         y='language',\n",
    "         jitter=True)"
   ]
  },
  {
   "cell_type": "code",
   "execution_count": 29,
   "metadata": {},
   "outputs": [],
   "source": [
    "# Only 'Italian', 'Spanish', and 'French'\n",
    "movies_it_es_fr = movies[movies.language.isin(['Italian', 'Spanish', 'French'])]"
   ]
  },
  {
   "cell_type": "code",
   "execution_count": 30,
   "metadata": {},
   "outputs": [
    {
     "data": {
      "text/plain": [
       "<matplotlib.axes._subplots.AxesSubplot at 0x1a120d8278>"
      ]
     },
     "execution_count": 30,
     "metadata": {},
     "output_type": "execute_result"
    },
    {
     "data": {
      "image/png": "[encoded data removed]",
      "text/plain": [
       "<Figure size 432x288 with 1 Axes>"
      ]
     },
     "metadata": {},
     "output_type": "display_data"
    }
   ],
   "source": [
    "sns.stripplot(data=movies_it_es_fr,\n",
    "         x='budget',\n",
    "         y='language',\n",
    "         jitter=True)"
   ]
  },
  {
   "cell_type": "markdown",
   "metadata": {},
   "source": [
    "Always mention the selection done"
   ]
  },
  {
   "cell_type": "code",
   "execution_count": 31,
   "metadata": {},
   "outputs": [],
   "source": [
    "# Budget below $20000000\n",
    "movies_it_es_fr_20M = movies_it_es_fr[movies_it_es_fr.budget < 20000000]"
   ]
  },
  {
   "cell_type": "code",
   "execution_count": 32,
   "metadata": {},
   "outputs": [
    {
     "data": {
      "text/plain": [
       "<matplotlib.axes._subplots.AxesSubplot at 0x1a12083358>"
      ]
     },
     "execution_count": 32,
     "metadata": {},
     "output_type": "execute_result"
    },
    {
     "data": {
      "image/png": "[encoded data removed]",
      "text/plain": [
       "<Figure size 432x288 with 1 Axes>"
      ]
     },
     "metadata": {},
     "output_type": "display_data"
    }
   ],
   "source": [
    "# Strip plot\n",
    "sns.stripplot(data=movies_it_es_fr_20M,\n",
    "         x='budget',\n",
    "         y='language',\n",
    "         jitter=True)"
   ]
  },
  {
   "cell_type": "code",
   "execution_count": 33,
   "metadata": {},
   "outputs": [
    {
     "data": {
      "text/plain": [
       "<matplotlib.axes._subplots.AxesSubplot at 0x1a120d81d0>"
      ]
     },
     "execution_count": 33,
     "metadata": {},
     "output_type": "execute_result"
    },
    {
     "data": {
      "image/png": "[encoded data removed]",
      "text/plain": [
       "<Figure size 432x288 with 1 Axes>"
      ]
     },
     "metadata": {},
     "output_type": "display_data"
    }
   ],
   "source": [
    "# Boxplot\n",
    "sns.boxplot(data=movies_it_es_fr_20M,\n",
    "         x='budget',\n",
    "         y='language')"
   ]
  },
  {
   "cell_type": "code",
   "execution_count": 34,
   "metadata": {},
   "outputs": [],
   "source": [
    "# Only from Italy and France\n",
    "movies_italy_france = movies[movies.country.isin(['Italy', 'France'])]"
   ]
  },
  {
   "cell_type": "code",
   "execution_count": 35,
   "metadata": {
    "scrolled": true
   },
   "outputs": [
    {
     "data": {
      "text/plain": [
       "<matplotlib.axes._subplots.AxesSubplot at 0x1a122f86d8>"
      ]
     },
     "execution_count": 35,
     "metadata": {},
     "output_type": "execute_result"
    },
    {
     "data": {
      "image/png": "[encoded data removed]",
      "text/plain": [
       "<Figure size 432x288 with 1 Axes>"
      ]
     },
     "metadata": {},
     "output_type": "display_data"
    }
   ],
   "source": [
    "sns.boxplot(data=movies_italy_france,\n",
    "         x='budget',\n",
    "         y='country')"
   ]
  },
  {
   "cell_type": "code",
   "execution_count": null,
   "metadata": {},
   "outputs": [],
   "source": []
  },
  {
   "cell_type": "markdown",
   "metadata": {},
   "source": [
    "## Countplot and moving the legend"
   ]
  },
  {
   "cell_type": "code",
   "execution_count": 36,
   "metadata": {},
   "outputs": [
    {
     "data": {
      "text/plain": [
       "<matplotlib.legend.Legend at 0x1a1207b8d0>"
      ]
     },
     "execution_count": 36,
     "metadata": {},
     "output_type": "execute_result"
    },
    {
     "data": {
      "image/png": "[encoded data removed]",
      "text/plain": [
       "<Figure size 432x288 with 1 Axes>"
      ]
     },
     "metadata": {},
     "output_type": "display_data"
    }
   ],
   "source": [
    "# Countplot, legend upper-right\n",
    "\n",
    "sns.countplot(data=movies_it_es_fr,\n",
    "         x='language',\n",
    "         hue='country')\n",
    "\n",
    "plt.legend(loc='upper right') # muoviamo la legenda"
   ]
  },
  {
   "cell_type": "code",
   "execution_count": 37,
   "metadata": {},
   "outputs": [
    {
     "data": {
      "text/plain": [
       "<matplotlib.legend.Legend at 0x1a126722e8>"
      ]
     },
     "execution_count": 37,
     "metadata": {},
     "output_type": "execute_result"
    },
    {
     "data": {
      "image/png": "[encoded data removed]",
      "text/plain": [
       "<Figure size 432x288 with 1 Axes>"
      ]
     },
     "metadata": {},
     "output_type": "display_data"
    }
   ],
   "source": [
    "# Countplot, legend outside\n",
    "\n",
    "sns.countplot(data=movies_it_es_fr,\n",
    "         x='language',\n",
    "         hue='country')\n",
    "\n",
    "plt.legend(bbox_to_anchor=(1.05, 1), loc=2, borderaxespad=0)"
   ]
  },
  {
   "cell_type": "code",
   "execution_count": null,
   "metadata": {},
   "outputs": [],
   "source": []
  },
  {
   "cell_type": "markdown",
   "metadata": {},
   "source": [
    "## Movie budget and boxplot"
   ]
  },
  {
   "cell_type": "code",
   "execution_count": 38,
   "metadata": {},
   "outputs": [
    {
     "data": {
      "text/plain": [
       "count    4.551000e+03\n",
       "mean     3.975262e+07\n",
       "std      2.061149e+08\n",
       "min      2.180000e+02\n",
       "25%      6.000000e+06\n",
       "50%      2.000000e+07\n",
       "75%      4.500000e+07\n",
       "max      1.221550e+10\n",
       "Name: budget, dtype: float64"
      ]
     },
     "execution_count": 38,
     "metadata": {},
     "output_type": "execute_result"
    }
   ],
   "source": [
    "movies.budget.describe()"
   ]
  },
  {
   "cell_type": "code",
   "execution_count": 39,
   "metadata": {},
   "outputs": [],
   "source": [
    "# Budget above 100 milions\n",
    "colossal = movies[movies.budget > 1e+08]"
   ]
  },
  {
   "cell_type": "code",
   "execution_count": 40,
   "metadata": {},
   "outputs": [
    {
     "data": {
      "text/html": [
       "<div>\n",
       "<style scoped>\n",
       "    .dataframe tbody tr th:only-of-type {\n",
       "        vertical-align: middle;\n",
       "    }\n",
       "\n",
       "    .dataframe tbody tr th {\n",
       "        vertical-align: top;\n",
       "    }\n",
       "\n",
       "    .dataframe thead th {\n",
       "        text-align: right;\n",
       "    }\n",
       "</style>\n",
       "<table border=\"1\" class=\"dataframe\">\n",
       "  <thead>\n",
       "    <tr style=\"text-align: right;\">\n",
       "      <th></th>\n",
       "      <th>color</th>\n",
       "      <th>director_name</th>\n",
       "      <th>num_critic_for_reviews</th>\n",
       "      <th>duration</th>\n",
       "      <th>director_facebook_likes</th>\n",
       "      <th>actor_3_facebook_likes</th>\n",
       "      <th>actor_2_name</th>\n",
       "      <th>actor_1_facebook_likes</th>\n",
       "      <th>gross</th>\n",
       "      <th>genres</th>\n",
       "      <th>...</th>\n",
       "      <th>num_user_for_reviews</th>\n",
       "      <th>language</th>\n",
       "      <th>country</th>\n",
       "      <th>content_rating</th>\n",
       "      <th>budget</th>\n",
       "      <th>title_year</th>\n",
       "      <th>actor_2_facebook_likes</th>\n",
       "      <th>imdb_score</th>\n",
       "      <th>aspect_ratio</th>\n",
       "      <th>movie_facebook_likes</th>\n",
       "    </tr>\n",
       "  </thead>\n",
       "  <tbody>\n",
       "    <tr>\n",
       "      <th>0</th>\n",
       "      <td>Color</td>\n",
       "      <td>James Cameron</td>\n",
       "      <td>723.0</td>\n",
       "      <td>178.0</td>\n",
       "      <td>0.0</td>\n",
       "      <td>855.0</td>\n",
       "      <td>Joel David Moore</td>\n",
       "      <td>1000.0</td>\n",
       "      <td>760505847.0</td>\n",
       "      <td>Action|Adventure|Fantasy|Sci-Fi</td>\n",
       "      <td>...</td>\n",
       "      <td>3054.0</td>\n",
       "      <td>English</td>\n",
       "      <td>USA</td>\n",
       "      <td>PG-13</td>\n",
       "      <td>237000000.0</td>\n",
       "      <td>2009.0</td>\n",
       "      <td>936.0</td>\n",
       "      <td>7.9</td>\n",
       "      <td>1.78</td>\n",
       "      <td>33000</td>\n",
       "    </tr>\n",
       "    <tr>\n",
       "      <th>1</th>\n",
       "      <td>Color</td>\n",
       "      <td>Gore Verbinski</td>\n",
       "      <td>302.0</td>\n",
       "      <td>169.0</td>\n",
       "      <td>563.0</td>\n",
       "      <td>1000.0</td>\n",
       "      <td>Orlando Bloom</td>\n",
       "      <td>40000.0</td>\n",
       "      <td>309404152.0</td>\n",
       "      <td>Action|Adventure|Fantasy</td>\n",
       "      <td>...</td>\n",
       "      <td>1238.0</td>\n",
       "      <td>English</td>\n",
       "      <td>USA</td>\n",
       "      <td>PG-13</td>\n",
       "      <td>300000000.0</td>\n",
       "      <td>2007.0</td>\n",
       "      <td>5000.0</td>\n",
       "      <td>7.1</td>\n",
       "      <td>2.35</td>\n",
       "      <td>0</td>\n",
       "    </tr>\n",
       "    <tr>\n",
       "      <th>2</th>\n",
       "      <td>Color</td>\n",
       "      <td>Sam Mendes</td>\n",
       "      <td>602.0</td>\n",
       "      <td>148.0</td>\n",
       "      <td>0.0</td>\n",
       "      <td>161.0</td>\n",
       "      <td>Rory Kinnear</td>\n",
       "      <td>11000.0</td>\n",
       "      <td>200074175.0</td>\n",
       "      <td>Action|Adventure|Thriller</td>\n",
       "      <td>...</td>\n",
       "      <td>994.0</td>\n",
       "      <td>English</td>\n",
       "      <td>UK</td>\n",
       "      <td>PG-13</td>\n",
       "      <td>245000000.0</td>\n",
       "      <td>2015.0</td>\n",
       "      <td>393.0</td>\n",
       "      <td>6.8</td>\n",
       "      <td>2.35</td>\n",
       "      <td>85000</td>\n",
       "    </tr>\n",
       "    <tr>\n",
       "      <th>3</th>\n",
       "      <td>Color</td>\n",
       "      <td>Christopher Nolan</td>\n",
       "      <td>813.0</td>\n",
       "      <td>164.0</td>\n",
       "      <td>22000.0</td>\n",
       "      <td>23000.0</td>\n",
       "      <td>Christian Bale</td>\n",
       "      <td>27000.0</td>\n",
       "      <td>448130642.0</td>\n",
       "      <td>Action|Thriller</td>\n",
       "      <td>...</td>\n",
       "      <td>2701.0</td>\n",
       "      <td>English</td>\n",
       "      <td>USA</td>\n",
       "      <td>PG-13</td>\n",
       "      <td>250000000.0</td>\n",
       "      <td>2012.0</td>\n",
       "      <td>23000.0</td>\n",
       "      <td>8.5</td>\n",
       "      <td>2.35</td>\n",
       "      <td>164000</td>\n",
       "    </tr>\n",
       "    <tr>\n",
       "      <th>5</th>\n",
       "      <td>Color</td>\n",
       "      <td>Andrew Stanton</td>\n",
       "      <td>462.0</td>\n",
       "      <td>132.0</td>\n",
       "      <td>475.0</td>\n",
       "      <td>530.0</td>\n",
       "      <td>Samantha Morton</td>\n",
       "      <td>640.0</td>\n",
       "      <td>73058679.0</td>\n",
       "      <td>Action|Adventure|Sci-Fi</td>\n",
       "      <td>...</td>\n",
       "      <td>738.0</td>\n",
       "      <td>English</td>\n",
       "      <td>USA</td>\n",
       "      <td>PG-13</td>\n",
       "      <td>263700000.0</td>\n",
       "      <td>2012.0</td>\n",
       "      <td>632.0</td>\n",
       "      <td>6.6</td>\n",
       "      <td>2.35</td>\n",
       "      <td>24000</td>\n",
       "    </tr>\n",
       "  </tbody>\n",
       "</table>\n",
       "<p>5 rows × 28 columns</p>\n",
       "</div>"
      ],
      "text/plain": [
       "   color      director_name  num_critic_for_reviews  duration  \\\n",
       "0  Color      James Cameron                   723.0     178.0   \n",
       "1  Color     Gore Verbinski                   302.0     169.0   \n",
       "2  Color         Sam Mendes                   602.0     148.0   \n",
       "3  Color  Christopher Nolan                   813.0     164.0   \n",
       "5  Color     Andrew Stanton                   462.0     132.0   \n",
       "\n",
       "   director_facebook_likes  actor_3_facebook_likes      actor_2_name  \\\n",
       "0                      0.0                   855.0  Joel David Moore   \n",
       "1                    563.0                  1000.0     Orlando Bloom   \n",
       "2                      0.0                   161.0      Rory Kinnear   \n",
       "3                  22000.0                 23000.0    Christian Bale   \n",
       "5                    475.0                   530.0   Samantha Morton   \n",
       "\n",
       "   actor_1_facebook_likes        gross                           genres  \\\n",
       "0                  1000.0  760505847.0  Action|Adventure|Fantasy|Sci-Fi   \n",
       "1                 40000.0  309404152.0         Action|Adventure|Fantasy   \n",
       "2                 11000.0  200074175.0        Action|Adventure|Thriller   \n",
       "3                 27000.0  448130642.0                  Action|Thriller   \n",
       "5                   640.0   73058679.0          Action|Adventure|Sci-Fi   \n",
       "\n",
       "          ...          num_user_for_reviews language  country  content_rating  \\\n",
       "0         ...                        3054.0  English      USA           PG-13   \n",
       "1         ...                        1238.0  English      USA           PG-13   \n",
       "2         ...                         994.0  English       UK           PG-13   \n",
       "3         ...                        2701.0  English      USA           PG-13   \n",
       "5         ...                         738.0  English      USA           PG-13   \n",
       "\n",
       "        budget  title_year actor_2_facebook_likes imdb_score  aspect_ratio  \\\n",
       "0  237000000.0      2009.0                  936.0        7.9          1.78   \n",
       "1  300000000.0      2007.0                 5000.0        7.1          2.35   \n",
       "2  245000000.0      2015.0                  393.0        6.8          2.35   \n",
       "3  250000000.0      2012.0                23000.0        8.5          2.35   \n",
       "5  263700000.0      2012.0                  632.0        6.6          2.35   \n",
       "\n",
       "  movie_facebook_likes  \n",
       "0                33000  \n",
       "1                    0  \n",
       "2                85000  \n",
       "3               164000  \n",
       "5                24000  \n",
       "\n",
       "[5 rows x 28 columns]"
      ]
     },
     "execution_count": 40,
     "metadata": {},
     "output_type": "execute_result"
    }
   ],
   "source": [
    "colossal.head()"
   ]
  },
  {
   "cell_type": "code",
   "execution_count": 41,
   "metadata": {},
   "outputs": [
    {
     "data": {
      "text/plain": [
       "(array([ 0,  1,  2,  3,  4,  5,  6,  7,  8,  9, 10, 11, 12, 13, 14, 15, 16,\n",
       "        17, 18, 19, 20, 21, 22, 23]), <a list of 24 Text xticklabel objects>)"
      ]
     },
     "execution_count": 41,
     "metadata": {},
     "output_type": "execute_result"
    },
    {
     "data": {
      "image/png": "[encoded data removed]",
      "text/plain": [
       "<Figure size 432x288 with 1 Axes>"
      ]
     },
     "metadata": {},
     "output_type": "display_data"
    }
   ],
   "source": [
    "# Boxplot\n",
    "sns.boxplot(data=colossal,\n",
    "            x='title_year',\n",
    "            y='actor_1_facebook_likes')\n",
    "\n",
    "plt.xticks(rotation=80) "
   ]
  },
  {
   "cell_type": "code",
   "execution_count": 42,
   "metadata": {},
   "outputs": [],
   "source": [
    "# Column selection\n",
    "\n",
    "colossal_ = colossal.loc[:, ['movie_title', 'budget', 'director_name', 'actor_1_name', 'country']]"
   ]
  },
  {
   "cell_type": "code",
   "execution_count": 43,
   "metadata": {},
   "outputs": [
    {
     "data": {
      "text/html": [
       "<div>\n",
       "<style scoped>\n",
       "    .dataframe tbody tr th:only-of-type {\n",
       "        vertical-align: middle;\n",
       "    }\n",
       "\n",
       "    .dataframe tbody tr th {\n",
       "        vertical-align: top;\n",
       "    }\n",
       "\n",
       "    .dataframe thead th {\n",
       "        text-align: right;\n",
       "    }\n",
       "</style>\n",
       "<table border=\"1\" class=\"dataframe\">\n",
       "  <thead>\n",
       "    <tr style=\"text-align: right;\">\n",
       "      <th></th>\n",
       "      <th>movie_title</th>\n",
       "      <th>budget</th>\n",
       "      <th>director_name</th>\n",
       "      <th>actor_1_name</th>\n",
       "      <th>country</th>\n",
       "    </tr>\n",
       "  </thead>\n",
       "  <tbody>\n",
       "    <tr>\n",
       "      <th>2988</th>\n",
       "      <td>The Host</td>\n",
       "      <td>1.221550e+10</td>\n",
       "      <td>Joon-ho Bong</td>\n",
       "      <td>Doona Bae</td>\n",
       "      <td>South Korea</td>\n",
       "    </tr>\n",
       "    <tr>\n",
       "      <th>3859</th>\n",
       "      <td>Lady Vengeance</td>\n",
       "      <td>4.200000e+09</td>\n",
       "      <td>Chan-wook Park</td>\n",
       "      <td>Min-sik Choi</td>\n",
       "      <td>South Korea</td>\n",
       "    </tr>\n",
       "    <tr>\n",
       "      <th>3005</th>\n",
       "      <td>Fateless</td>\n",
       "      <td>2.500000e+09</td>\n",
       "      <td>Lajos Koltai</td>\n",
       "      <td>Marcell Nagy</td>\n",
       "      <td>Hungary</td>\n",
       "    </tr>\n",
       "    <tr>\n",
       "      <th>2323</th>\n",
       "      <td>Princess Mononoke</td>\n",
       "      <td>2.400000e+09</td>\n",
       "      <td>Hayao Miyazaki</td>\n",
       "      <td>Minnie Driver</td>\n",
       "      <td>Japan</td>\n",
       "    </tr>\n",
       "    <tr>\n",
       "      <th>2334</th>\n",
       "      <td>Steamboy</td>\n",
       "      <td>2.127520e+09</td>\n",
       "      <td>Katsuhiro Ôtomo</td>\n",
       "      <td>William Hootkins</td>\n",
       "      <td>Japan</td>\n",
       "    </tr>\n",
       "  </tbody>\n",
       "</table>\n",
       "</div>"
      ],
      "text/plain": [
       "             movie_title        budget    director_name      actor_1_name  \\\n",
       "2988           The Host   1.221550e+10     Joon-ho Bong         Doona Bae   \n",
       "3859     Lady Vengeance   4.200000e+09   Chan-wook Park      Min-sik Choi   \n",
       "3005           Fateless   2.500000e+09     Lajos Koltai      Marcell Nagy   \n",
       "2323  Princess Mononoke   2.400000e+09   Hayao Miyazaki     Minnie Driver   \n",
       "2334           Steamboy   2.127520e+09  Katsuhiro Ôtomo  William Hootkins   \n",
       "\n",
       "          country  \n",
       "2988  South Korea  \n",
       "3859  South Korea  \n",
       "3005      Hungary  \n",
       "2323        Japan  \n",
       "2334        Japan  "
      ]
     },
     "execution_count": 43,
     "metadata": {},
     "output_type": "execute_result"
    }
   ],
   "source": [
    "colossal_.sort_values('budget', ascending=False).head()"
   ]
  },
  {
   "cell_type": "code",
   "execution_count": 44,
   "metadata": {},
   "outputs": [],
   "source": [
    "# Only from USA\n",
    "\n",
    "colossal_usa = colossal_[colossal_.country == 'USA']"
   ]
  },
  {
   "cell_type": "code",
   "execution_count": 45,
   "metadata": {},
   "outputs": [
    {
     "data": {
      "text/html": [
       "<div>\n",
       "<style scoped>\n",
       "    .dataframe tbody tr th:only-of-type {\n",
       "        vertical-align: middle;\n",
       "    }\n",
       "\n",
       "    .dataframe tbody tr th {\n",
       "        vertical-align: top;\n",
       "    }\n",
       "\n",
       "    .dataframe thead th {\n",
       "        text-align: right;\n",
       "    }\n",
       "</style>\n",
       "<table border=\"1\" class=\"dataframe\">\n",
       "  <thead>\n",
       "    <tr style=\"text-align: right;\">\n",
       "      <th></th>\n",
       "      <th>movie_title</th>\n",
       "      <th>budget</th>\n",
       "      <th>director_name</th>\n",
       "      <th>actor_1_name</th>\n",
       "      <th>country</th>\n",
       "    </tr>\n",
       "  </thead>\n",
       "  <tbody>\n",
       "    <tr>\n",
       "      <th>1</th>\n",
       "      <td>Pirates of the Caribbean: At World's End</td>\n",
       "      <td>300000000.0</td>\n",
       "      <td>Gore Verbinski</td>\n",
       "      <td>Johnny Depp</td>\n",
       "      <td>USA</td>\n",
       "    </tr>\n",
       "    <tr>\n",
       "      <th>5</th>\n",
       "      <td>John Carter</td>\n",
       "      <td>263700000.0</td>\n",
       "      <td>Andrew Stanton</td>\n",
       "      <td>Daryl Sabara</td>\n",
       "      <td>USA</td>\n",
       "    </tr>\n",
       "    <tr>\n",
       "      <th>7</th>\n",
       "      <td>Tangled</td>\n",
       "      <td>260000000.0</td>\n",
       "      <td>Nathan Greno</td>\n",
       "      <td>Brad Garrett</td>\n",
       "      <td>USA</td>\n",
       "    </tr>\n",
       "    <tr>\n",
       "      <th>3461</th>\n",
       "      <td>Spider-Man 3</td>\n",
       "      <td>258000000.0</td>\n",
       "      <td>Sam Raimi</td>\n",
       "      <td>J.K. Simmons</td>\n",
       "      <td>USA</td>\n",
       "    </tr>\n",
       "    <tr>\n",
       "      <th>6</th>\n",
       "      <td>Spider-Man 3</td>\n",
       "      <td>258000000.0</td>\n",
       "      <td>Sam Raimi</td>\n",
       "      <td>J.K. Simmons</td>\n",
       "      <td>USA</td>\n",
       "    </tr>\n",
       "    <tr>\n",
       "      <th>27</th>\n",
       "      <td>Captain America: Civil War</td>\n",
       "      <td>250000000.0</td>\n",
       "      <td>Anthony Russo</td>\n",
       "      <td>Robert Downey Jr.</td>\n",
       "      <td>USA</td>\n",
       "    </tr>\n",
       "    <tr>\n",
       "      <th>3</th>\n",
       "      <td>The Dark Knight Rises</td>\n",
       "      <td>250000000.0</td>\n",
       "      <td>Christopher Nolan</td>\n",
       "      <td>Tom Hardy</td>\n",
       "      <td>USA</td>\n",
       "    </tr>\n",
       "    <tr>\n",
       "      <th>8</th>\n",
       "      <td>Avengers: Age of Ultron</td>\n",
       "      <td>250000000.0</td>\n",
       "      <td>Joss Whedon</td>\n",
       "      <td>Chris Hemsworth</td>\n",
       "      <td>USA</td>\n",
       "    </tr>\n",
       "    <tr>\n",
       "      <th>10</th>\n",
       "      <td>Batman v Superman: Dawn of Justice</td>\n",
       "      <td>250000000.0</td>\n",
       "      <td>Zack Snyder</td>\n",
       "      <td>Henry Cavill</td>\n",
       "      <td>USA</td>\n",
       "    </tr>\n",
       "    <tr>\n",
       "      <th>18</th>\n",
       "      <td>Pirates of the Caribbean: On Stranger Tides</td>\n",
       "      <td>250000000.0</td>\n",
       "      <td>Rob Marshall</td>\n",
       "      <td>Johnny Depp</td>\n",
       "      <td>USA</td>\n",
       "    </tr>\n",
       "    <tr>\n",
       "      <th>0</th>\n",
       "      <td>Avatar</td>\n",
       "      <td>237000000.0</td>\n",
       "      <td>James Cameron</td>\n",
       "      <td>CCH Pounder</td>\n",
       "      <td>USA</td>\n",
       "    </tr>\n",
       "    <tr>\n",
       "      <th>21</th>\n",
       "      <td>The Amazing Spider-Man</td>\n",
       "      <td>230000000.0</td>\n",
       "      <td>Marc Webb</td>\n",
       "      <td>Emma Stone</td>\n",
       "      <td>USA</td>\n",
       "    </tr>\n",
       "    <tr>\n",
       "      <th>15</th>\n",
       "      <td>Man of Steel</td>\n",
       "      <td>225000000.0</td>\n",
       "      <td>Zack Snyder</td>\n",
       "      <td>Henry Cavill</td>\n",
       "      <td>USA</td>\n",
       "    </tr>\n",
       "    <tr>\n",
       "      <th>16</th>\n",
       "      <td>The Chronicles of Narnia: Prince Caspian</td>\n",
       "      <td>225000000.0</td>\n",
       "      <td>Andrew Adamson</td>\n",
       "      <td>Peter Dinklage</td>\n",
       "      <td>USA</td>\n",
       "    </tr>\n",
       "    <tr>\n",
       "      <th>23</th>\n",
       "      <td>The Hobbit: The Desolation of Smaug</td>\n",
       "      <td>225000000.0</td>\n",
       "      <td>Peter Jackson</td>\n",
       "      <td>Aidan Turner</td>\n",
       "      <td>USA</td>\n",
       "    </tr>\n",
       "    <tr>\n",
       "      <th>13</th>\n",
       "      <td>Pirates of the Caribbean: Dead Man's Chest</td>\n",
       "      <td>225000000.0</td>\n",
       "      <td>Gore Verbinski</td>\n",
       "      <td>Johnny Depp</td>\n",
       "      <td>USA</td>\n",
       "    </tr>\n",
       "    <tr>\n",
       "      <th>19</th>\n",
       "      <td>Men in Black 3</td>\n",
       "      <td>225000000.0</td>\n",
       "      <td>Barry Sonnenfeld</td>\n",
       "      <td>Will Smith</td>\n",
       "      <td>USA</td>\n",
       "    </tr>\n",
       "    <tr>\n",
       "      <th>794</th>\n",
       "      <td>The Avengers</td>\n",
       "      <td>220000000.0</td>\n",
       "      <td>Joss Whedon</td>\n",
       "      <td>Chris Hemsworth</td>\n",
       "      <td>USA</td>\n",
       "    </tr>\n",
       "    <tr>\n",
       "      <th>17</th>\n",
       "      <td>The Avengers</td>\n",
       "      <td>220000000.0</td>\n",
       "      <td>Joss Whedon</td>\n",
       "      <td>Chris Hemsworth</td>\n",
       "      <td>USA</td>\n",
       "    </tr>\n",
       "    <tr>\n",
       "      <th>38</th>\n",
       "      <td>Oz the Great and Powerful</td>\n",
       "      <td>215000000.0</td>\n",
       "      <td>Sam Raimi</td>\n",
       "      <td>Tim Holmes</td>\n",
       "      <td>USA</td>\n",
       "    </tr>\n",
       "  </tbody>\n",
       "</table>\n",
       "</div>"
      ],
      "text/plain": [
       "                                       movie_title       budget  \\\n",
       "1        Pirates of the Caribbean: At World's End   300000000.0   \n",
       "5                                     John Carter   263700000.0   \n",
       "7                                         Tangled   260000000.0   \n",
       "3461                                 Spider-Man 3   258000000.0   \n",
       "6                                    Spider-Man 3   258000000.0   \n",
       "27                     Captain America: Civil War   250000000.0   \n",
       "3                           The Dark Knight Rises   250000000.0   \n",
       "8                         Avengers: Age of Ultron   250000000.0   \n",
       "10             Batman v Superman: Dawn of Justice   250000000.0   \n",
       "18    Pirates of the Caribbean: On Stranger Tides   250000000.0   \n",
       "0                                          Avatar   237000000.0   \n",
       "21                         The Amazing Spider-Man   230000000.0   \n",
       "15                                   Man of Steel   225000000.0   \n",
       "16       The Chronicles of Narnia: Prince Caspian   225000000.0   \n",
       "23            The Hobbit: The Desolation of Smaug   225000000.0   \n",
       "13     Pirates of the Caribbean: Dead Man's Chest   225000000.0   \n",
       "19                                 Men in Black 3   225000000.0   \n",
       "794                                  The Avengers   220000000.0   \n",
       "17                                   The Avengers   220000000.0   \n",
       "38                      Oz the Great and Powerful   215000000.0   \n",
       "\n",
       "          director_name       actor_1_name country  \n",
       "1        Gore Verbinski        Johnny Depp     USA  \n",
       "5        Andrew Stanton       Daryl Sabara     USA  \n",
       "7          Nathan Greno       Brad Garrett     USA  \n",
       "3461          Sam Raimi       J.K. Simmons     USA  \n",
       "6             Sam Raimi       J.K. Simmons     USA  \n",
       "27        Anthony Russo  Robert Downey Jr.     USA  \n",
       "3     Christopher Nolan          Tom Hardy     USA  \n",
       "8           Joss Whedon    Chris Hemsworth     USA  \n",
       "10          Zack Snyder       Henry Cavill     USA  \n",
       "18         Rob Marshall        Johnny Depp     USA  \n",
       "0         James Cameron        CCH Pounder     USA  \n",
       "21            Marc Webb         Emma Stone     USA  \n",
       "15          Zack Snyder       Henry Cavill     USA  \n",
       "16       Andrew Adamson     Peter Dinklage     USA  \n",
       "23        Peter Jackson       Aidan Turner     USA  \n",
       "13       Gore Verbinski        Johnny Depp     USA  \n",
       "19     Barry Sonnenfeld         Will Smith     USA  \n",
       "794         Joss Whedon    Chris Hemsworth     USA  \n",
       "17          Joss Whedon    Chris Hemsworth     USA  \n",
       "38            Sam Raimi         Tim Holmes     USA  "
      ]
     },
     "execution_count": 45,
     "metadata": {},
     "output_type": "execute_result"
    }
   ],
   "source": [
    "colossal_usa.sort_values('budget', ascending=False).head(20)"
   ]
  },
  {
   "cell_type": "code",
   "execution_count": null,
   "metadata": {},
   "outputs": [],
   "source": []
  },
  {
   "cell_type": "markdown",
   "metadata": {},
   "source": [
    "### Group by a column and heatmaps"
   ]
  },
  {
   "cell_type": "code",
   "execution_count": 46,
   "metadata": {},
   "outputs": [],
   "source": [
    "# By director\n",
    "\n",
    "directors_mean = colossal_.groupby('director_name').mean()"
   ]
  },
  {
   "cell_type": "code",
   "execution_count": 47,
   "metadata": {},
   "outputs": [
    {
     "data": {
      "text/html": [
       "<div>\n",
       "<style scoped>\n",
       "    .dataframe tbody tr th:only-of-type {\n",
       "        vertical-align: middle;\n",
       "    }\n",
       "\n",
       "    .dataframe tbody tr th {\n",
       "        vertical-align: top;\n",
       "    }\n",
       "\n",
       "    .dataframe thead th {\n",
       "        text-align: right;\n",
       "    }\n",
       "</style>\n",
       "<table border=\"1\" class=\"dataframe\">\n",
       "  <thead>\n",
       "    <tr style=\"text-align: right;\">\n",
       "      <th></th>\n",
       "      <th>budget</th>\n",
       "    </tr>\n",
       "    <tr>\n",
       "      <th>director_name</th>\n",
       "      <th></th>\n",
       "    </tr>\n",
       "  </thead>\n",
       "  <tbody>\n",
       "    <tr>\n",
       "      <th>Joon-ho Bong</th>\n",
       "      <td>1.221550e+10</td>\n",
       "    </tr>\n",
       "    <tr>\n",
       "      <th>Chan-wook Park</th>\n",
       "      <td>4.200000e+09</td>\n",
       "    </tr>\n",
       "    <tr>\n",
       "      <th>Lajos Koltai</th>\n",
       "      <td>2.500000e+09</td>\n",
       "    </tr>\n",
       "    <tr>\n",
       "      <th>Hayao Miyazaki</th>\n",
       "      <td>2.400000e+09</td>\n",
       "    </tr>\n",
       "    <tr>\n",
       "      <th>Katsuhiro Ôtomo</th>\n",
       "      <td>1.613760e+09</td>\n",
       "    </tr>\n",
       "    <tr>\n",
       "      <th>Takao Okawara</th>\n",
       "      <td>1.000000e+09</td>\n",
       "    </tr>\n",
       "    <tr>\n",
       "      <th>Carlos Saura</th>\n",
       "      <td>7.000000e+08</td>\n",
       "    </tr>\n",
       "    <tr>\n",
       "      <th>Karan Johar</th>\n",
       "      <td>7.000000e+08</td>\n",
       "    </tr>\n",
       "    <tr>\n",
       "      <th>Anurag Basu</th>\n",
       "      <td>6.000000e+08</td>\n",
       "    </tr>\n",
       "    <tr>\n",
       "      <th>Chatrichalerm Yukol</th>\n",
       "      <td>4.000000e+08</td>\n",
       "    </tr>\n",
       "    <tr>\n",
       "      <th>Luc Besson</th>\n",
       "      <td>3.900000e+08</td>\n",
       "    </tr>\n",
       "    <tr>\n",
       "      <th>Tony Jaa</th>\n",
       "      <td>3.000000e+08</td>\n",
       "    </tr>\n",
       "    <tr>\n",
       "      <th>John Woo</th>\n",
       "      <td>2.645440e+08</td>\n",
       "    </tr>\n",
       "    <tr>\n",
       "      <th>Nathan Greno</th>\n",
       "      <td>2.600000e+08</td>\n",
       "    </tr>\n",
       "    <tr>\n",
       "      <th>Rob Marshall</th>\n",
       "      <td>2.500000e+08</td>\n",
       "    </tr>\n",
       "    <tr>\n",
       "      <th>Joss Whedon</th>\n",
       "      <td>2.300000e+08</td>\n",
       "    </tr>\n",
       "    <tr>\n",
       "      <th>Andrew Stanton</th>\n",
       "      <td>2.218500e+08</td>\n",
       "    </tr>\n",
       "    <tr>\n",
       "      <th>Marc Webb</th>\n",
       "      <td>2.150000e+08</td>\n",
       "    </tr>\n",
       "    <tr>\n",
       "      <th>Sam Mendes</th>\n",
       "      <td>2.150000e+08</td>\n",
       "    </tr>\n",
       "    <tr>\n",
       "      <th>Sam Raimi</th>\n",
       "      <td>2.141667e+08</td>\n",
       "    </tr>\n",
       "  </tbody>\n",
       "</table>\n",
       "</div>"
      ],
      "text/plain": [
       "                           budget\n",
       "director_name                    \n",
       "Joon-ho Bong         1.221550e+10\n",
       "Chan-wook Park       4.200000e+09\n",
       "Lajos Koltai         2.500000e+09\n",
       "Hayao Miyazaki       2.400000e+09\n",
       "Katsuhiro Ôtomo      1.613760e+09\n",
       "Takao Okawara        1.000000e+09\n",
       "Carlos Saura         7.000000e+08\n",
       "Karan Johar          7.000000e+08\n",
       "Anurag Basu          6.000000e+08\n",
       "Chatrichalerm Yukol  4.000000e+08\n",
       "Luc Besson           3.900000e+08\n",
       "Tony Jaa             3.000000e+08\n",
       "John Woo             2.645440e+08\n",
       "Nathan Greno         2.600000e+08\n",
       "Rob Marshall         2.500000e+08\n",
       "Joss Whedon          2.300000e+08\n",
       "Andrew Stanton       2.218500e+08\n",
       "Marc Webb            2.150000e+08\n",
       "Sam Mendes           2.150000e+08\n",
       "Sam Raimi            2.141667e+08"
      ]
     },
     "execution_count": 47,
     "metadata": {},
     "output_type": "execute_result"
    }
   ],
   "source": [
    "directors_mean.sort_values('budget', ascending=False).head(20)"
   ]
  },
  {
   "cell_type": "markdown",
   "metadata": {},
   "source": [
    "Heatmap between budget and year"
   ]
  },
  {
   "cell_type": "code",
   "execution_count": 48,
   "metadata": {},
   "outputs": [
    {
     "data": {
      "text/plain": [
       "(array([ 0.5,  4.5,  8.5, 12.5, 16.5, 20.5, 24.5, 28.5, 32.5, 36.5, 40.5,\n",
       "        44.5, 48.5, 52.5, 56.5, 60.5, 64.5, 68.5, 72.5, 76.5, 80.5, 84.5,\n",
       "        88.5]), <a list of 23 Text xticklabel objects>)"
      ]
     },
     "execution_count": 48,
     "metadata": {},
     "output_type": "execute_result"
    },
    {
     "data": {
      "image/png": "[encoded data removed]",
      "text/plain": [
       "<Figure size 432x288 with 2 Axes>"
      ]
     },
     "metadata": {},
     "output_type": "display_data"
    }
   ],
   "source": [
    "# Crosstab\n",
    "pd_crosstab = pd.crosstab(movies['budget'], movies['title_year'])\n",
    "\n",
    "# Heatmap\n",
    "sns.heatmap(pd_crosstab)\n",
    "\n",
    "# Ticks rotation\n",
    "plt.yticks(rotation=0)\n",
    "plt.xticks(rotation=90)"
   ]
  },
  {
   "cell_type": "markdown",
   "metadata": {},
   "source": [
    "Selectoing values better, we need categorical variables..."
   ]
  },
  {
   "cell_type": "code",
   "execution_count": 49,
   "metadata": {},
   "outputs": [],
   "source": [
    "movies2000_100M = movies[(movies.title_year >= 2000) & (movies.budget >= 1e+08)]"
   ]
  },
  {
   "cell_type": "markdown",
   "metadata": {},
   "source": [
    "Heatmap between country and year"
   ]
  },
  {
   "cell_type": "code",
   "execution_count": 50,
   "metadata": {},
   "outputs": [
    {
     "data": {
      "text/plain": [
       "(array([ 0.5,  1.5,  2.5,  3.5,  4.5,  5.5,  6.5,  7.5,  8.5,  9.5, 10.5,\n",
       "        11.5, 12.5, 13.5, 14.5, 15.5, 16.5]),\n",
       " <a list of 17 Text xticklabel objects>)"
      ]
     },
     "execution_count": 50,
     "metadata": {},
     "output_type": "execute_result"
    },
    {
     "data": {
      "image/png": "[encoded data removed]",
      "text/plain": [
       "<Figure size 432x288 with 2 Axes>"
      ]
     },
     "metadata": {},
     "output_type": "display_data"
    }
   ],
   "source": [
    "pd_crosstab = pd.crosstab(movies2000_100M['country'], movies2000_100M[\"title_year\"])\n",
    "# print(pd_crosstab)\n",
    "\n",
    "sns.heatmap(pd_crosstab)\n",
    "\n",
    "plt.yticks(rotation=0)\n",
    "plt.xticks(rotation=90)"
   ]
  },
  {
   "cell_type": "code",
   "execution_count": 51,
   "metadata": {},
   "outputs": [],
   "source": [
    "# Taking away USA movies\n",
    "movies2000_10M_nousa = movies2000_100M[movies2000_100M != 'USA']"
   ]
  },
  {
   "cell_type": "code",
   "execution_count": null,
   "metadata": {},
   "outputs": [],
   "source": []
  },
  {
   "cell_type": "code",
   "execution_count": 52,
   "metadata": {},
   "outputs": [
    {
     "name": "stdout",
     "output_type": "stream",
     "text": [
      "title_year   2000.0  2001.0  2002.0  2003.0  2004.0  2005.0  2006.0  2007.0  \\\n",
      "country                                                                       \n",
      "Australia         0       0       0       1       0       0       0       0   \n",
      "Canada            0       0       0       1       0       0       1       0   \n",
      "China             0       0       0       0       1       0       0       0   \n",
      "France            1       1       1       0       0       0       0       0   \n",
      "Germany           0       0       0       0       1       0       1       0   \n",
      "Hungary           0       0       0       0       0       1       0       0   \n",
      "India             0       0       0       0       0       0       2       0   \n",
      "Japan             0       0       0       0       1       0       0       0   \n",
      "New Zealand       0       0       0       0       0       3       0       0   \n",
      "South Korea       0       0       0       0       0       1       1       0   \n",
      "Thailand          0       1       0       0       0       1       0       0   \n",
      "UK                0       1       3       0       1       2       3       1   \n",
      "\n",
      "title_year   2008.0  2009.0  2010.0  2011.0  2012.0  2013.0  2014.0  2015.0  \\\n",
      "country                                                                       \n",
      "Australia         1       0       0       1       0       2       0       1   \n",
      "Canada            0       0       0       0       0       0       0       0   \n",
      "China             1       0       0       0       0       0       0       1   \n",
      "France            0       0       1       0       0       0       0       0   \n",
      "Germany           0       1       0       0       1       0       0       0   \n",
      "Hungary           0       0       0       0       0       0       0       0   \n",
      "India             0       1       1       0       0       0       0       1   \n",
      "Japan             0       0       0       0       0       0       0       0   \n",
      "New Zealand       0       0       0       0       0       0       1       0   \n",
      "South Korea       0       0       0       0       0       0       0       0   \n",
      "Thailand          1       0       0       0       0       0       0       0   \n",
      "UK                1       1       0       1       2       1       3       1   \n",
      "\n",
      "title_year   2016.0  \n",
      "country              \n",
      "Australia         0  \n",
      "Canada            0  \n",
      "China             0  \n",
      "France            0  \n",
      "Germany           0  \n",
      "Hungary           0  \n",
      "India             0  \n",
      "Japan             0  \n",
      "New Zealand       0  \n",
      "South Korea       0  \n",
      "Thailand          0  \n",
      "UK                4  \n"
     ]
    },
    {
     "data": {
      "text/plain": [
       "(array([ 0.5,  1.5,  2.5,  3.5,  4.5,  5.5,  6.5,  7.5,  8.5,  9.5, 10.5,\n",
       "        11.5, 12.5, 13.5, 14.5, 15.5, 16.5]),\n",
       " <a list of 17 Text xticklabel objects>)"
      ]
     },
     "execution_count": 52,
     "metadata": {},
     "output_type": "execute_result"
    },
    {
     "data": {
      "image/png": "[encoded data removed]",
      "text/plain": [
       "<Figure size 432x288 with 2 Axes>"
      ]
     },
     "metadata": {},
     "output_type": "display_data"
    }
   ],
   "source": [
    "pd_crosstab = pd.crosstab(movies2000_10M_nousa['country'], movies2000_10M_nousa[\"title_year\"])\n",
    "print(pd_crosstab)\n",
    "\n",
    "sns.heatmap(pd_crosstab) \n",
    "\n",
    "plt.yticks(rotation=0)\n",
    "plt.xticks(rotation=90)"
   ]
  },
  {
   "cell_type": "code",
   "execution_count": null,
   "metadata": {},
   "outputs": [],
   "source": []
  },
  {
   "cell_type": "markdown",
   "metadata": {},
   "source": [
    "---\n",
    "### `>>> Let's practice` \n",
    "* Explore the IMDB dataset\n",
    "* Create at least four new graph\n",
    "* Diplay more graph together with `plt.subplot(rows, columns, ordering)`"
   ]
  },
  {
   "cell_type": "code",
   "execution_count": 32,
   "metadata": {},
   "outputs": [
    {
     "data": {
      "text/plain": [
       "color                         object\n",
       "director_name                 object\n",
       "num_critic_for_reviews       float64\n",
       "duration                     float64\n",
       "director_facebook_likes      float64\n",
       "actor_3_facebook_likes       float64\n",
       "actor_2_name                  object\n",
       "actor_1_facebook_likes       float64\n",
       "gross                        float64\n",
       "genres                        object\n",
       "actor_1_name                  object\n",
       "movie_title                   object\n",
       "num_voted_users                int64\n",
       "cast_total_facebook_likes      int64\n",
       "actor_3_name                  object\n",
       "facenumber_in_poster         float64\n",
       "plot_keywords                 object\n",
       "movie_imdb_link               object\n",
       "num_user_for_reviews         float64\n",
       "language                      object\n",
       "country                       object\n",
       "content_rating                object\n",
       "budget                       float64\n",
       "title_year                   float64\n",
       "actor_2_facebook_likes       float64\n",
       "imdb_score                   float64\n",
       "aspect_ratio                 float64\n",
       "movie_facebook_likes           int64\n",
       "dtype: object"
      ]
     },
     "execution_count": 32,
     "metadata": {},
     "output_type": "execute_result"
    }
   ],
   "source": [
    "movies.dtypes"
   ]
  },
  {
   "cell_type": "code",
   "execution_count": 40,
   "metadata": {},
   "outputs": [
    {
     "data": {
      "image/png": "[encoded data removed]",
      "text/plain": [
       "<Figure size 432x288 with 1 Axes>"
      ]
     },
     "metadata": {
      "needs_background": "light"
     },
     "output_type": "display_data"
    }
   ],
   "source": [
    "sns.regplot(data=movies[(movies['country']=='Italy')],\n",
    "            y='budget',\n",
    "            x='title_year')\n",
    "\n",
    "plt.show()"
   ]
  },
  {
   "cell_type": "code",
   "execution_count": 39,
   "metadata": {},
   "outputs": [
    {
     "data": {
      "image/png": "[encoded data removed]",
      "text/plain": [
       "<Figure size 432x288 with 1 Axes>"
      ]
     },
     "metadata": {
      "needs_background": "light"
     },
     "output_type": "display_data"
    }
   ],
   "source": [
    "sns.regplot(data=movies[(movies['country']=='France')],\n",
    "            y='budget',\n",
    "            x='title_year')\n",
    "\n",
    "plt.show()"
   ]
  },
  {
   "cell_type": "code",
   "execution_count": 44,
   "metadata": {},
   "outputs": [
    {
     "data": {
      "text/plain": [
       "(array([ 0,  1,  2,  3,  4,  5,  6,  7,  8,  9, 10, 11, 12, 13, 14, 15]),\n",
       " <a list of 16 Text xticklabel objects>)"
      ]
     },
     "execution_count": 44,
     "metadata": {},
     "output_type": "execute_result"
    },
    {
     "data": {
      "image/png": "[encoded data removed]",
      "text/plain": [
       "<Figure size 432x288 with 1 Axes>"
      ]
     },
     "metadata": {
      "needs_background": "light"
     },
     "output_type": "display_data"
    }
   ],
   "source": [
    "# Boxplot\n",
    "sns.boxplot(data=movies[(movies['country']=='USA')&(movies['title_year']>2000)],\n",
    "            x='title_year',\n",
    "            y='budget')\n",
    "\n",
    "plt.xticks(rotation=80)"
   ]
  },
  {
   "cell_type": "code",
   "execution_count": 48,
   "metadata": {},
   "outputs": [
    {
     "data": {
      "image/png": "[encoded data removed]",
      "text/plain": [
       "<Figure size 432x288 with 1 Axes>"
      ]
     },
     "metadata": {
      "needs_background": "light"
     },
     "output_type": "display_data"
    }
   ],
   "source": [
    "sns.regplot(data=movies[(movies['country']=='USA')&(movies['title_year']>2000)],\n",
    "            y='budget',\n",
    "            x='imdb_score')\n",
    "\n",
    "plt.show()"
   ]
  },
  {
   "cell_type": "code",
   "execution_count": 49,
   "metadata": {},
   "outputs": [
    {
     "data": {
      "text/plain": [
       "(array([ 0,  1,  2,  3,  4,  5,  6,  7,  8,  9, 10, 11, 12, 13, 14, 15]),\n",
       " <a list of 16 Text xticklabel objects>)"
      ]
     },
     "execution_count": 49,
     "metadata": {},
     "output_type": "execute_result"
    },
    {
     "data": {
      "image/png": "[encoded data removed]",
      "text/plain": [
       "<Figure size 432x288 with 1 Axes>"
      ]
     },
     "metadata": {
      "needs_background": "light"
     },
     "output_type": "display_data"
    }
   ],
   "source": [
    "# Boxplot\n",
    "sns.boxplot(data=movies[(movies['country']=='USA')&(movies['title_year']>2000)],\n",
    "            x='title_year',\n",
    "            y='imdb_score')\n",
    "\n",
    "plt.xticks(rotation=80)"
   ]
  },
  {
   "cell_type": "markdown",
   "metadata": {},
   "source": [
    "---\n",
    "\n",
    "## Bokeh\n",
    "\n",
    "Bokeh is an interactive visualization library that targets modern web browsers for presentation. Its goal is to provide elegant, concise construction of versatile graphics, and to extend this capability with high-performance interactivity over very large or streaming datasets. Bokeh can help anyone who would like to quickly and easily create interactive plots, dashboards, and data applications.\n",
    "\n",
    "https://bokeh.pydata.org  \n",
    "https://github.com/bokeh/bokeh.git  \n",
    "\n",
    "The iconic TED talk of the gapminder wrote with Bokeh\n",
    "https://demo.bokehplots.com/apps/gapminder  \n",
    "Repository https://github.com/bokeh/bokeh/tree/master/examples/app/gapminder  "
   ]
  },
  {
   "cell_type": "code",
   "execution_count": null,
   "metadata": {},
   "outputs": [],
   "source": []
  },
  {
   "cell_type": "code",
   "execution_count": null,
   "metadata": {},
   "outputs": [],
   "source": []
  },
  {
   "cell_type": "code",
   "execution_count": null,
   "metadata": {},
   "outputs": [],
   "source": []
  },
  {
   "cell_type": "markdown",
   "metadata": {},
   "source": [
    "---\n",
    "\n",
    "## More resources and curiosities\n",
    "\n",
    "Matplotlib in 3D:  \n",
    "https://medium.com/@emekaborisama/3d-plotting-with-matplotlib-92a8a115d407\n",
    "\n",
    "More examples in Seaborn:\n",
    "https://python-graph-gallery.com/seaborn\n",
    "\n",
    "GIF using geopandas and Matplotlib:  \n",
    "https://towardsdatascience.com/how-to-make-a-gif-map-using-python-geopandas-and-matplotlib-cd8827cefbc8\n",
    "\n",
    "The mpld3 project brings together Matplotlib, the popular Python-based graphing library, and D3js, the popular JavaScript library for creating interactive data visualizations for the web. http://mpld3.github.io"
   ]
  },
  {
   "cell_type": "code",
   "execution_count": null,
   "metadata": {},
   "outputs": [],
   "source": []
  }
 ],
 "metadata": {
  "kernelspec": {
   "display_name": "Python 3",
   "language": "python",
   "name": "python3"
  },
  "language_info": {
   "codemirror_mode": {
    "name": "ipython",
    "version": 3
   },
   "file_extension": ".py",
   "mimetype": "text/x-python",
   "name": "python",
   "nbconvert_exporter": "python",
   "pygments_lexer": "ipython3",
   "version": "3.7.1"
  }
 },
 "nbformat": 4,
 "nbformat_minor": 2
}
